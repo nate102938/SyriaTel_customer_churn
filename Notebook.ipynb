{
 "cells": [
  {
   "cell_type": "markdown",
   "id": "2f853285",
   "metadata": {},
   "source": [
    "## Syria-Tel Classification Modeling"
   ]
  },
  {
   "cell_type": "markdown",
   "id": "2fc6ecce",
   "metadata": {
    "ExecuteTime": {
     "end_time": "2023-01-03T17:01:01.945184Z",
     "start_time": "2023-01-03T17:01:01.936156Z"
    }
   },
   "source": [
    "## Business Understanding"
   ]
  },
  {
   "cell_type": "markdown",
   "id": "aaa27a76",
   "metadata": {},
   "source": [
    "Telecom company.  Trying to come up with a model that predicts churn based on customer location and usage data. "
   ]
  },
  {
   "cell_type": "markdown",
   "id": "60034018",
   "metadata": {},
   "source": [
    "## Data Understanding"
   ]
  },
  {
   "cell_type": "markdown",
   "id": "7c35c2fb",
   "metadata": {
    "ExecuteTime": {
     "end_time": "2023-01-03T20:19:15.346182Z",
     "start_time": "2023-01-03T20:19:15.334045Z"
    }
   },
   "source": [
    "bla bla bla "
   ]
  },
  {
   "cell_type": "markdown",
   "id": "7831597a",
   "metadata": {
    "ExecuteTime": {
     "end_time": "2023-01-03T17:00:12.337361Z",
     "start_time": "2023-01-03T17:00:11.982557Z"
    }
   },
   "source": [
    "## Data Preparation and Modeling"
   ]
  },
  {
   "cell_type": "markdown",
   "id": "0512267e",
   "metadata": {},
   "source": [
    "#### Imports"
   ]
  },
  {
   "cell_type": "code",
   "execution_count": 99,
   "id": "dd3f1f39",
   "metadata": {
    "ExecuteTime": {
     "end_time": "2023-01-04T19:33:25.963229Z",
     "start_time": "2023-01-04T19:33:25.947350Z"
    }
   },
   "outputs": [],
   "source": [
    "import pandas as pd\n",
    "import numpy as np\n",
    "from matplotlib import pyplot as plt\n",
    "import seaborn as sns\n",
    "from pandas.api.types import is_numeric_dtype\n",
    "\n",
    "from sklearn.model_selection import train_test_split, GridSearchCV, cross_val_score\n",
    "from sklearn.pipeline import Pipeline\n",
    "from sklearn.preprocessing import StandardScaler, OneHotEncoder, FunctionTransformer\n",
    "from sklearn.impute import SimpleImputer\n",
    "from sklearn.compose import ColumnTransformer,  make_column_selector as selector\n",
    "from sklearn.linear_model import LogisticRegression\n",
    "from sklearn.ensemble import RandomForestClassifier, GradientBoostingClassifier, AdaBoostClassifier\n",
    "from sklearn.naive_bayes import MultinomialNB, GaussianNB\n",
    "from sklearn.metrics import plot_confusion_matrix, recall_score,\\\n",
    "    accuracy_score, precision_score, f1_score\n",
    "\n",
    "from imblearn.over_sampling import SMOTE\n",
    "from imblearn.pipeline import Pipeline as ImPipeline\n",
    "\n",
    "from pandas.api.types import is_numeric_dtype\n",
    "from sklearn.svm import SVC\n",
    "\n",
    "from sklearn.dummy import DummyClassifier\n",
    "from sklearn.tree import DecisionTreeClassifier\n",
    "from sklearn.neighbors import KNeighborsClassifier"
   ]
  },
  {
   "cell_type": "markdown",
   "id": "5453e2ea",
   "metadata": {
    "ExecuteTime": {
     "end_time": "2023-01-03T17:35:56.836895Z",
     "start_time": "2023-01-03T17:35:56.823968Z"
    }
   },
   "source": [
    "#### Functions"
   ]
  },
  {
   "cell_type": "markdown",
   "id": "d26278e9",
   "metadata": {},
   "source": [
    "#### Importing data"
   ]
  },
  {
   "cell_type": "code",
   "execution_count": 100,
   "id": "e9060daf",
   "metadata": {
    "ExecuteTime": {
     "end_time": "2023-01-04T19:33:28.010475Z",
     "start_time": "2023-01-04T19:33:27.969778Z"
    }
   },
   "outputs": [
    {
     "data": {
      "text/html": [
       "<div>\n",
       "<style scoped>\n",
       "    .dataframe tbody tr th:only-of-type {\n",
       "        vertical-align: middle;\n",
       "    }\n",
       "\n",
       "    .dataframe tbody tr th {\n",
       "        vertical-align: top;\n",
       "    }\n",
       "\n",
       "    .dataframe thead th {\n",
       "        text-align: right;\n",
       "    }\n",
       "</style>\n",
       "<table border=\"1\" class=\"dataframe\">\n",
       "  <thead>\n",
       "    <tr style=\"text-align: right;\">\n",
       "      <th></th>\n",
       "      <th>state</th>\n",
       "      <th>account length</th>\n",
       "      <th>area code</th>\n",
       "      <th>phone number</th>\n",
       "      <th>international plan</th>\n",
       "      <th>voice mail plan</th>\n",
       "      <th>number vmail messages</th>\n",
       "      <th>total day minutes</th>\n",
       "      <th>total day calls</th>\n",
       "      <th>total day charge</th>\n",
       "      <th>...</th>\n",
       "      <th>total eve calls</th>\n",
       "      <th>total eve charge</th>\n",
       "      <th>total night minutes</th>\n",
       "      <th>total night calls</th>\n",
       "      <th>total night charge</th>\n",
       "      <th>total intl minutes</th>\n",
       "      <th>total intl calls</th>\n",
       "      <th>total intl charge</th>\n",
       "      <th>customer service calls</th>\n",
       "      <th>churn</th>\n",
       "    </tr>\n",
       "  </thead>\n",
       "  <tbody>\n",
       "    <tr>\n",
       "      <th>0</th>\n",
       "      <td>KS</td>\n",
       "      <td>128</td>\n",
       "      <td>415</td>\n",
       "      <td>382-4657</td>\n",
       "      <td>no</td>\n",
       "      <td>yes</td>\n",
       "      <td>25</td>\n",
       "      <td>265.1</td>\n",
       "      <td>110</td>\n",
       "      <td>45.07</td>\n",
       "      <td>...</td>\n",
       "      <td>99</td>\n",
       "      <td>16.78</td>\n",
       "      <td>244.7</td>\n",
       "      <td>91</td>\n",
       "      <td>11.01</td>\n",
       "      <td>10.0</td>\n",
       "      <td>3</td>\n",
       "      <td>2.70</td>\n",
       "      <td>1</td>\n",
       "      <td>False</td>\n",
       "    </tr>\n",
       "    <tr>\n",
       "      <th>1</th>\n",
       "      <td>OH</td>\n",
       "      <td>107</td>\n",
       "      <td>415</td>\n",
       "      <td>371-7191</td>\n",
       "      <td>no</td>\n",
       "      <td>yes</td>\n",
       "      <td>26</td>\n",
       "      <td>161.6</td>\n",
       "      <td>123</td>\n",
       "      <td>27.47</td>\n",
       "      <td>...</td>\n",
       "      <td>103</td>\n",
       "      <td>16.62</td>\n",
       "      <td>254.4</td>\n",
       "      <td>103</td>\n",
       "      <td>11.45</td>\n",
       "      <td>13.7</td>\n",
       "      <td>3</td>\n",
       "      <td>3.70</td>\n",
       "      <td>1</td>\n",
       "      <td>False</td>\n",
       "    </tr>\n",
       "    <tr>\n",
       "      <th>2</th>\n",
       "      <td>NJ</td>\n",
       "      <td>137</td>\n",
       "      <td>415</td>\n",
       "      <td>358-1921</td>\n",
       "      <td>no</td>\n",
       "      <td>no</td>\n",
       "      <td>0</td>\n",
       "      <td>243.4</td>\n",
       "      <td>114</td>\n",
       "      <td>41.38</td>\n",
       "      <td>...</td>\n",
       "      <td>110</td>\n",
       "      <td>10.30</td>\n",
       "      <td>162.6</td>\n",
       "      <td>104</td>\n",
       "      <td>7.32</td>\n",
       "      <td>12.2</td>\n",
       "      <td>5</td>\n",
       "      <td>3.29</td>\n",
       "      <td>0</td>\n",
       "      <td>False</td>\n",
       "    </tr>\n",
       "    <tr>\n",
       "      <th>3</th>\n",
       "      <td>OH</td>\n",
       "      <td>84</td>\n",
       "      <td>408</td>\n",
       "      <td>375-9999</td>\n",
       "      <td>yes</td>\n",
       "      <td>no</td>\n",
       "      <td>0</td>\n",
       "      <td>299.4</td>\n",
       "      <td>71</td>\n",
       "      <td>50.90</td>\n",
       "      <td>...</td>\n",
       "      <td>88</td>\n",
       "      <td>5.26</td>\n",
       "      <td>196.9</td>\n",
       "      <td>89</td>\n",
       "      <td>8.86</td>\n",
       "      <td>6.6</td>\n",
       "      <td>7</td>\n",
       "      <td>1.78</td>\n",
       "      <td>2</td>\n",
       "      <td>False</td>\n",
       "    </tr>\n",
       "    <tr>\n",
       "      <th>4</th>\n",
       "      <td>OK</td>\n",
       "      <td>75</td>\n",
       "      <td>415</td>\n",
       "      <td>330-6626</td>\n",
       "      <td>yes</td>\n",
       "      <td>no</td>\n",
       "      <td>0</td>\n",
       "      <td>166.7</td>\n",
       "      <td>113</td>\n",
       "      <td>28.34</td>\n",
       "      <td>...</td>\n",
       "      <td>122</td>\n",
       "      <td>12.61</td>\n",
       "      <td>186.9</td>\n",
       "      <td>121</td>\n",
       "      <td>8.41</td>\n",
       "      <td>10.1</td>\n",
       "      <td>3</td>\n",
       "      <td>2.73</td>\n",
       "      <td>3</td>\n",
       "      <td>False</td>\n",
       "    </tr>\n",
       "  </tbody>\n",
       "</table>\n",
       "<p>5 rows × 21 columns</p>\n",
       "</div>"
      ],
      "text/plain": [
       "  state  account length  area code phone number international plan  \\\n",
       "0    KS             128        415     382-4657                 no   \n",
       "1    OH             107        415     371-7191                 no   \n",
       "2    NJ             137        415     358-1921                 no   \n",
       "3    OH              84        408     375-9999                yes   \n",
       "4    OK              75        415     330-6626                yes   \n",
       "\n",
       "  voice mail plan  number vmail messages  total day minutes  total day calls  \\\n",
       "0             yes                     25              265.1              110   \n",
       "1             yes                     26              161.6              123   \n",
       "2              no                      0              243.4              114   \n",
       "3              no                      0              299.4               71   \n",
       "4              no                      0              166.7              113   \n",
       "\n",
       "   total day charge  ...  total eve calls  total eve charge  \\\n",
       "0             45.07  ...               99             16.78   \n",
       "1             27.47  ...              103             16.62   \n",
       "2             41.38  ...              110             10.30   \n",
       "3             50.90  ...               88              5.26   \n",
       "4             28.34  ...              122             12.61   \n",
       "\n",
       "   total night minutes  total night calls  total night charge  \\\n",
       "0                244.7                 91               11.01   \n",
       "1                254.4                103               11.45   \n",
       "2                162.6                104                7.32   \n",
       "3                196.9                 89                8.86   \n",
       "4                186.9                121                8.41   \n",
       "\n",
       "   total intl minutes  total intl calls  total intl charge  \\\n",
       "0                10.0                 3               2.70   \n",
       "1                13.7                 3               3.70   \n",
       "2                12.2                 5               3.29   \n",
       "3                 6.6                 7               1.78   \n",
       "4                10.1                 3               2.73   \n",
       "\n",
       "   customer service calls  churn  \n",
       "0                       1  False  \n",
       "1                       1  False  \n",
       "2                       0  False  \n",
       "3                       2  False  \n",
       "4                       3  False  \n",
       "\n",
       "[5 rows x 21 columns]"
      ]
     },
     "execution_count": 100,
     "metadata": {},
     "output_type": "execute_result"
    }
   ],
   "source": [
    "df = pd.read_csv('data/bigml_59c28831336c6604c800002a.csv')\n",
    "df.head()"
   ]
  },
  {
   "cell_type": "markdown",
   "id": "46d2d910",
   "metadata": {},
   "source": [
    "#### Data preparation"
   ]
  },
  {
   "cell_type": "markdown",
   "id": "e566ed35",
   "metadata": {},
   "source": [
    "Review and fix the feature names to be more code friendly. "
   ]
  },
  {
   "cell_type": "code",
   "execution_count": 101,
   "id": "909f9329",
   "metadata": {
    "ExecuteTime": {
     "end_time": "2023-01-04T19:33:29.876310Z",
     "start_time": "2023-01-04T19:33:29.867513Z"
    }
   },
   "outputs": [
    {
     "data": {
      "text/plain": [
       "Index(['state', 'account length', 'area code', 'phone number',\n",
       "       'international plan', 'voice mail plan', 'number vmail messages',\n",
       "       'total day minutes', 'total day calls', 'total day charge',\n",
       "       'total eve minutes', 'total eve calls', 'total eve charge',\n",
       "       'total night minutes', 'total night calls', 'total night charge',\n",
       "       'total intl minutes', 'total intl calls', 'total intl charge',\n",
       "       'customer service calls', 'churn'],\n",
       "      dtype='object')"
      ]
     },
     "execution_count": 101,
     "metadata": {},
     "output_type": "execute_result"
    }
   ],
   "source": [
    "# View column names\n",
    "df.columns"
   ]
  },
  {
   "cell_type": "code",
   "execution_count": 102,
   "id": "a5837b5b",
   "metadata": {
    "ExecuteTime": {
     "end_time": "2023-01-04T19:33:30.496412Z",
     "start_time": "2023-01-04T19:33:30.476190Z"
    },
    "scrolled": true
   },
   "outputs": [
    {
     "data": {
      "text/plain": [
       "Index(['state', 'account_length', 'area_code', 'phone_number',\n",
       "       'international_plan', 'voice_mail_plan', 'number_vmail_messages',\n",
       "       'total_day_minutes', 'total_day_calls', 'total_day_charge',\n",
       "       'total_eve_minutes', 'total_eve_calls', 'total_eve_charge',\n",
       "       'total_night_minutes', 'total_night_calls', 'total_night_charge',\n",
       "       'total_intl_minutes', 'total_intl_calls', 'total_intl_charge',\n",
       "       'customer_service_calls', 'churn'],\n",
       "      dtype='object')"
      ]
     },
     "execution_count": 102,
     "metadata": {},
     "output_type": "execute_result"
    }
   ],
   "source": [
    "# Rename columns\n",
    "df.columns = df.columns.str.replace(\" \", \"_\")\n",
    "df.columns"
   ]
  },
  {
   "cell_type": "markdown",
   "id": "0c7a3b5d",
   "metadata": {},
   "source": [
    "#### Data Cleaning"
   ]
  },
  {
   "cell_type": "markdown",
   "id": "043f9855",
   "metadata": {},
   "source": [
    "Check out the features we have and if there are any null values."
   ]
  },
  {
   "cell_type": "code",
   "execution_count": 103,
   "id": "c99be182",
   "metadata": {
    "ExecuteTime": {
     "end_time": "2023-01-04T19:33:31.927776Z",
     "start_time": "2023-01-04T19:33:31.915973Z"
    },
    "scrolled": true
   },
   "outputs": [
    {
     "data": {
      "text/plain": [
       "state                     0\n",
       "account_length            0\n",
       "area_code                 0\n",
       "international_plan        0\n",
       "voice_mail_plan           0\n",
       "number_vmail_messages     0\n",
       "total_day_minutes         0\n",
       "total_day_calls           0\n",
       "total_day_charge          0\n",
       "total_eve_minutes         0\n",
       "total_eve_calls           0\n",
       "total_eve_charge          0\n",
       "total_night_minutes       0\n",
       "total_night_calls         0\n",
       "total_night_charge        0\n",
       "total_intl_minutes        0\n",
       "total_intl_calls          0\n",
       "total_intl_charge         0\n",
       "customer_service_calls    0\n",
       "dtype: int64"
      ]
     },
     "execution_count": 103,
     "metadata": {},
     "output_type": "execute_result"
    }
   ],
   "source": [
    "X_train.isna().sum()"
   ]
  },
  {
   "cell_type": "code",
   "execution_count": 104,
   "id": "2ed8f352",
   "metadata": {
    "ExecuteTime": {
     "end_time": "2023-01-04T19:33:32.455092Z",
     "start_time": "2023-01-04T19:33:32.386461Z"
    },
    "scrolled": true
   },
   "outputs": [
    {
     "data": {
      "text/html": [
       "<div>\n",
       "<style scoped>\n",
       "    .dataframe tbody tr th:only-of-type {\n",
       "        vertical-align: middle;\n",
       "    }\n",
       "\n",
       "    .dataframe tbody tr th {\n",
       "        vertical-align: top;\n",
       "    }\n",
       "\n",
       "    .dataframe thead th {\n",
       "        text-align: right;\n",
       "    }\n",
       "</style>\n",
       "<table border=\"1\" class=\"dataframe\">\n",
       "  <thead>\n",
       "    <tr style=\"text-align: right;\">\n",
       "      <th></th>\n",
       "      <th>state</th>\n",
       "      <th>account_length</th>\n",
       "      <th>area_code</th>\n",
       "      <th>phone_number</th>\n",
       "      <th>international_plan</th>\n",
       "      <th>voice_mail_plan</th>\n",
       "      <th>number_vmail_messages</th>\n",
       "      <th>total_day_minutes</th>\n",
       "      <th>total_day_calls</th>\n",
       "      <th>total_day_charge</th>\n",
       "      <th>...</th>\n",
       "      <th>total_eve_calls</th>\n",
       "      <th>total_eve_charge</th>\n",
       "      <th>total_night_minutes</th>\n",
       "      <th>total_night_calls</th>\n",
       "      <th>total_night_charge</th>\n",
       "      <th>total_intl_minutes</th>\n",
       "      <th>total_intl_calls</th>\n",
       "      <th>total_intl_charge</th>\n",
       "      <th>customer_service_calls</th>\n",
       "      <th>churn</th>\n",
       "    </tr>\n",
       "  </thead>\n",
       "  <tbody>\n",
       "    <tr>\n",
       "      <th>0</th>\n",
       "      <td>KS</td>\n",
       "      <td>128</td>\n",
       "      <td>415</td>\n",
       "      <td>382-4657</td>\n",
       "      <td>no</td>\n",
       "      <td>yes</td>\n",
       "      <td>25</td>\n",
       "      <td>265.1</td>\n",
       "      <td>110</td>\n",
       "      <td>45.07</td>\n",
       "      <td>...</td>\n",
       "      <td>99</td>\n",
       "      <td>16.78</td>\n",
       "      <td>244.7</td>\n",
       "      <td>91</td>\n",
       "      <td>11.01</td>\n",
       "      <td>10.0</td>\n",
       "      <td>3</td>\n",
       "      <td>2.70</td>\n",
       "      <td>1</td>\n",
       "      <td>False</td>\n",
       "    </tr>\n",
       "    <tr>\n",
       "      <th>1</th>\n",
       "      <td>OH</td>\n",
       "      <td>107</td>\n",
       "      <td>415</td>\n",
       "      <td>371-7191</td>\n",
       "      <td>no</td>\n",
       "      <td>yes</td>\n",
       "      <td>26</td>\n",
       "      <td>161.6</td>\n",
       "      <td>123</td>\n",
       "      <td>27.47</td>\n",
       "      <td>...</td>\n",
       "      <td>103</td>\n",
       "      <td>16.62</td>\n",
       "      <td>254.4</td>\n",
       "      <td>103</td>\n",
       "      <td>11.45</td>\n",
       "      <td>13.7</td>\n",
       "      <td>3</td>\n",
       "      <td>3.70</td>\n",
       "      <td>1</td>\n",
       "      <td>False</td>\n",
       "    </tr>\n",
       "    <tr>\n",
       "      <th>2</th>\n",
       "      <td>NJ</td>\n",
       "      <td>137</td>\n",
       "      <td>415</td>\n",
       "      <td>358-1921</td>\n",
       "      <td>no</td>\n",
       "      <td>no</td>\n",
       "      <td>0</td>\n",
       "      <td>243.4</td>\n",
       "      <td>114</td>\n",
       "      <td>41.38</td>\n",
       "      <td>...</td>\n",
       "      <td>110</td>\n",
       "      <td>10.30</td>\n",
       "      <td>162.6</td>\n",
       "      <td>104</td>\n",
       "      <td>7.32</td>\n",
       "      <td>12.2</td>\n",
       "      <td>5</td>\n",
       "      <td>3.29</td>\n",
       "      <td>0</td>\n",
       "      <td>False</td>\n",
       "    </tr>\n",
       "    <tr>\n",
       "      <th>3</th>\n",
       "      <td>OH</td>\n",
       "      <td>84</td>\n",
       "      <td>408</td>\n",
       "      <td>375-9999</td>\n",
       "      <td>yes</td>\n",
       "      <td>no</td>\n",
       "      <td>0</td>\n",
       "      <td>299.4</td>\n",
       "      <td>71</td>\n",
       "      <td>50.90</td>\n",
       "      <td>...</td>\n",
       "      <td>88</td>\n",
       "      <td>5.26</td>\n",
       "      <td>196.9</td>\n",
       "      <td>89</td>\n",
       "      <td>8.86</td>\n",
       "      <td>6.6</td>\n",
       "      <td>7</td>\n",
       "      <td>1.78</td>\n",
       "      <td>2</td>\n",
       "      <td>False</td>\n",
       "    </tr>\n",
       "    <tr>\n",
       "      <th>4</th>\n",
       "      <td>OK</td>\n",
       "      <td>75</td>\n",
       "      <td>415</td>\n",
       "      <td>330-6626</td>\n",
       "      <td>yes</td>\n",
       "      <td>no</td>\n",
       "      <td>0</td>\n",
       "      <td>166.7</td>\n",
       "      <td>113</td>\n",
       "      <td>28.34</td>\n",
       "      <td>...</td>\n",
       "      <td>122</td>\n",
       "      <td>12.61</td>\n",
       "      <td>186.9</td>\n",
       "      <td>121</td>\n",
       "      <td>8.41</td>\n",
       "      <td>10.1</td>\n",
       "      <td>3</td>\n",
       "      <td>2.73</td>\n",
       "      <td>3</td>\n",
       "      <td>False</td>\n",
       "    </tr>\n",
       "    <tr>\n",
       "      <th>...</th>\n",
       "      <td>...</td>\n",
       "      <td>...</td>\n",
       "      <td>...</td>\n",
       "      <td>...</td>\n",
       "      <td>...</td>\n",
       "      <td>...</td>\n",
       "      <td>...</td>\n",
       "      <td>...</td>\n",
       "      <td>...</td>\n",
       "      <td>...</td>\n",
       "      <td>...</td>\n",
       "      <td>...</td>\n",
       "      <td>...</td>\n",
       "      <td>...</td>\n",
       "      <td>...</td>\n",
       "      <td>...</td>\n",
       "      <td>...</td>\n",
       "      <td>...</td>\n",
       "      <td>...</td>\n",
       "      <td>...</td>\n",
       "      <td>...</td>\n",
       "    </tr>\n",
       "    <tr>\n",
       "      <th>3328</th>\n",
       "      <td>AZ</td>\n",
       "      <td>192</td>\n",
       "      <td>415</td>\n",
       "      <td>414-4276</td>\n",
       "      <td>no</td>\n",
       "      <td>yes</td>\n",
       "      <td>36</td>\n",
       "      <td>156.2</td>\n",
       "      <td>77</td>\n",
       "      <td>26.55</td>\n",
       "      <td>...</td>\n",
       "      <td>126</td>\n",
       "      <td>18.32</td>\n",
       "      <td>279.1</td>\n",
       "      <td>83</td>\n",
       "      <td>12.56</td>\n",
       "      <td>9.9</td>\n",
       "      <td>6</td>\n",
       "      <td>2.67</td>\n",
       "      <td>2</td>\n",
       "      <td>False</td>\n",
       "    </tr>\n",
       "    <tr>\n",
       "      <th>3329</th>\n",
       "      <td>WV</td>\n",
       "      <td>68</td>\n",
       "      <td>415</td>\n",
       "      <td>370-3271</td>\n",
       "      <td>no</td>\n",
       "      <td>no</td>\n",
       "      <td>0</td>\n",
       "      <td>231.1</td>\n",
       "      <td>57</td>\n",
       "      <td>39.29</td>\n",
       "      <td>...</td>\n",
       "      <td>55</td>\n",
       "      <td>13.04</td>\n",
       "      <td>191.3</td>\n",
       "      <td>123</td>\n",
       "      <td>8.61</td>\n",
       "      <td>9.6</td>\n",
       "      <td>4</td>\n",
       "      <td>2.59</td>\n",
       "      <td>3</td>\n",
       "      <td>False</td>\n",
       "    </tr>\n",
       "    <tr>\n",
       "      <th>3330</th>\n",
       "      <td>RI</td>\n",
       "      <td>28</td>\n",
       "      <td>510</td>\n",
       "      <td>328-8230</td>\n",
       "      <td>no</td>\n",
       "      <td>no</td>\n",
       "      <td>0</td>\n",
       "      <td>180.8</td>\n",
       "      <td>109</td>\n",
       "      <td>30.74</td>\n",
       "      <td>...</td>\n",
       "      <td>58</td>\n",
       "      <td>24.55</td>\n",
       "      <td>191.9</td>\n",
       "      <td>91</td>\n",
       "      <td>8.64</td>\n",
       "      <td>14.1</td>\n",
       "      <td>6</td>\n",
       "      <td>3.81</td>\n",
       "      <td>2</td>\n",
       "      <td>False</td>\n",
       "    </tr>\n",
       "    <tr>\n",
       "      <th>3331</th>\n",
       "      <td>CT</td>\n",
       "      <td>184</td>\n",
       "      <td>510</td>\n",
       "      <td>364-6381</td>\n",
       "      <td>yes</td>\n",
       "      <td>no</td>\n",
       "      <td>0</td>\n",
       "      <td>213.8</td>\n",
       "      <td>105</td>\n",
       "      <td>36.35</td>\n",
       "      <td>...</td>\n",
       "      <td>84</td>\n",
       "      <td>13.57</td>\n",
       "      <td>139.2</td>\n",
       "      <td>137</td>\n",
       "      <td>6.26</td>\n",
       "      <td>5.0</td>\n",
       "      <td>10</td>\n",
       "      <td>1.35</td>\n",
       "      <td>2</td>\n",
       "      <td>False</td>\n",
       "    </tr>\n",
       "    <tr>\n",
       "      <th>3332</th>\n",
       "      <td>TN</td>\n",
       "      <td>74</td>\n",
       "      <td>415</td>\n",
       "      <td>400-4344</td>\n",
       "      <td>no</td>\n",
       "      <td>yes</td>\n",
       "      <td>25</td>\n",
       "      <td>234.4</td>\n",
       "      <td>113</td>\n",
       "      <td>39.85</td>\n",
       "      <td>...</td>\n",
       "      <td>82</td>\n",
       "      <td>22.60</td>\n",
       "      <td>241.4</td>\n",
       "      <td>77</td>\n",
       "      <td>10.86</td>\n",
       "      <td>13.7</td>\n",
       "      <td>4</td>\n",
       "      <td>3.70</td>\n",
       "      <td>0</td>\n",
       "      <td>False</td>\n",
       "    </tr>\n",
       "  </tbody>\n",
       "</table>\n",
       "<p>3333 rows × 21 columns</p>\n",
       "</div>"
      ],
      "text/plain": [
       "     state  account_length  area_code phone_number international_plan  \\\n",
       "0       KS             128        415     382-4657                 no   \n",
       "1       OH             107        415     371-7191                 no   \n",
       "2       NJ             137        415     358-1921                 no   \n",
       "3       OH              84        408     375-9999                yes   \n",
       "4       OK              75        415     330-6626                yes   \n",
       "...    ...             ...        ...          ...                ...   \n",
       "3328    AZ             192        415     414-4276                 no   \n",
       "3329    WV              68        415     370-3271                 no   \n",
       "3330    RI              28        510     328-8230                 no   \n",
       "3331    CT             184        510     364-6381                yes   \n",
       "3332    TN              74        415     400-4344                 no   \n",
       "\n",
       "     voice_mail_plan  number_vmail_messages  total_day_minutes  \\\n",
       "0                yes                     25              265.1   \n",
       "1                yes                     26              161.6   \n",
       "2                 no                      0              243.4   \n",
       "3                 no                      0              299.4   \n",
       "4                 no                      0              166.7   \n",
       "...              ...                    ...                ...   \n",
       "3328             yes                     36              156.2   \n",
       "3329              no                      0              231.1   \n",
       "3330              no                      0              180.8   \n",
       "3331              no                      0              213.8   \n",
       "3332             yes                     25              234.4   \n",
       "\n",
       "      total_day_calls  total_day_charge  ...  total_eve_calls  \\\n",
       "0                 110             45.07  ...               99   \n",
       "1                 123             27.47  ...              103   \n",
       "2                 114             41.38  ...              110   \n",
       "3                  71             50.90  ...               88   \n",
       "4                 113             28.34  ...              122   \n",
       "...               ...               ...  ...              ...   \n",
       "3328               77             26.55  ...              126   \n",
       "3329               57             39.29  ...               55   \n",
       "3330              109             30.74  ...               58   \n",
       "3331              105             36.35  ...               84   \n",
       "3332              113             39.85  ...               82   \n",
       "\n",
       "      total_eve_charge  total_night_minutes  total_night_calls  \\\n",
       "0                16.78                244.7                 91   \n",
       "1                16.62                254.4                103   \n",
       "2                10.30                162.6                104   \n",
       "3                 5.26                196.9                 89   \n",
       "4                12.61                186.9                121   \n",
       "...                ...                  ...                ...   \n",
       "3328             18.32                279.1                 83   \n",
       "3329             13.04                191.3                123   \n",
       "3330             24.55                191.9                 91   \n",
       "3331             13.57                139.2                137   \n",
       "3332             22.60                241.4                 77   \n",
       "\n",
       "      total_night_charge  total_intl_minutes  total_intl_calls  \\\n",
       "0                  11.01                10.0                 3   \n",
       "1                  11.45                13.7                 3   \n",
       "2                   7.32                12.2                 5   \n",
       "3                   8.86                 6.6                 7   \n",
       "4                   8.41                10.1                 3   \n",
       "...                  ...                 ...               ...   \n",
       "3328               12.56                 9.9                 6   \n",
       "3329                8.61                 9.6                 4   \n",
       "3330                8.64                14.1                 6   \n",
       "3331                6.26                 5.0                10   \n",
       "3332               10.86                13.7                 4   \n",
       "\n",
       "      total_intl_charge  customer_service_calls  churn  \n",
       "0                  2.70                       1  False  \n",
       "1                  3.70                       1  False  \n",
       "2                  3.29                       0  False  \n",
       "3                  1.78                       2  False  \n",
       "4                  2.73                       3  False  \n",
       "...                 ...                     ...    ...  \n",
       "3328               2.67                       2  False  \n",
       "3329               2.59                       3  False  \n",
       "3330               3.81                       2  False  \n",
       "3331               1.35                       2  False  \n",
       "3332               3.70                       0  False  \n",
       "\n",
       "[3333 rows x 21 columns]"
      ]
     },
     "execution_count": 104,
     "metadata": {},
     "output_type": "execute_result"
    }
   ],
   "source": [
    "df"
   ]
  },
  {
   "cell_type": "markdown",
   "id": "72c1c24d",
   "metadata": {},
   "source": [
    "Check out the values in each feature"
   ]
  },
  {
   "cell_type": "code",
   "execution_count": 105,
   "id": "bfd794b8",
   "metadata": {
    "ExecuteTime": {
     "end_time": "2023-01-04T19:33:34.190071Z",
     "start_time": "2023-01-04T19:33:34.099183Z"
    },
    "scrolled": true
   },
   "outputs": [
    {
     "name": "stdout",
     "output_type": "stream",
     "text": [
      "\n",
      " state\n",
      "WV    106\n",
      "MN     84\n",
      "NY     83\n",
      "AL     80\n",
      "OR     78\n",
      "OH     78\n",
      "WI     78\n",
      "VA     77\n",
      "WY     77\n",
      "CT     74\n",
      "MI     73\n",
      "VT     73\n",
      "ID     73\n",
      "UT     72\n",
      "TX     72\n",
      "IN     71\n",
      "KS     70\n",
      "MD     70\n",
      "NJ     68\n",
      "MT     68\n",
      "NC     68\n",
      "CO     66\n",
      "NV     66\n",
      "WA     66\n",
      "MS     65\n",
      "RI     65\n",
      "MA     65\n",
      "AZ     64\n",
      "MO     63\n",
      "FL     63\n",
      "NM     62\n",
      "ME     62\n",
      "ND     62\n",
      "DE     61\n",
      "OK     61\n",
      "NE     61\n",
      "SD     60\n",
      "SC     60\n",
      "KY     59\n",
      "IL     58\n",
      "NH     56\n",
      "AR     55\n",
      "GA     54\n",
      "DC     54\n",
      "TN     53\n",
      "HI     53\n",
      "AK     52\n",
      "LA     51\n",
      "PA     45\n",
      "IA     44\n",
      "CA     34\n",
      "Name: state, dtype: int64\n",
      "\n",
      " account_length\n",
      "min: 1\n",
      "max: 243\n",
      "mean: 101.06480648064806\n",
      "105    43\n",
      "87     42\n",
      "93     40\n",
      "101    40\n",
      "90     39\n",
      "       ..\n",
      "191     1\n",
      "199     1\n",
      "215     1\n",
      "221     1\n",
      "2       1\n",
      "Name: account_length, Length: 212, dtype: int64\n",
      "\n",
      " area_code\n",
      "415    1655\n",
      "510     840\n",
      "408     838\n",
      "Name: area_code, dtype: int64\n",
      "\n",
      " international_plan\n",
      "no     3010\n",
      "yes     323\n",
      "Name: international_plan, dtype: int64\n",
      "\n",
      " voice_mail_plan\n",
      "no     2411\n",
      "yes     922\n",
      "Name: voice_mail_plan, dtype: int64\n",
      "\n",
      " number_vmail_messages\n",
      "min: 0\n",
      "max: 51\n",
      "mean: 8.099009900990099\n",
      "0     2411\n",
      "31      60\n",
      "29      53\n",
      "28      51\n",
      "33      46\n",
      "27      44\n",
      "30      44\n",
      "24      42\n",
      "26      41\n",
      "32      41\n",
      "25      37\n",
      "23      36\n",
      "36      34\n",
      "35      32\n",
      "22      32\n",
      "39      30\n",
      "37      29\n",
      "34      29\n",
      "21      28\n",
      "38      25\n",
      "20      22\n",
      "19      19\n",
      "40      16\n",
      "42      15\n",
      "17      14\n",
      "41      13\n",
      "16      13\n",
      "43       9\n",
      "15       9\n",
      "18       7\n",
      "44       7\n",
      "14       7\n",
      "45       6\n",
      "12       6\n",
      "46       4\n",
      "13       4\n",
      "47       3\n",
      "8        2\n",
      "48       2\n",
      "50       2\n",
      "9        2\n",
      "11       2\n",
      "49       1\n",
      "10       1\n",
      "4        1\n",
      "51       1\n",
      "Name: number_vmail_messages, dtype: int64\n",
      "\n",
      " total_day_minutes\n",
      "min: 0.0\n",
      "max: 350.8\n",
      "mean: 179.77509750975094\n",
      "174.5    8\n",
      "159.5    8\n",
      "154.0    8\n",
      "175.4    7\n",
      "162.3    7\n",
      "        ..\n",
      "199.9    1\n",
      "105.8    1\n",
      "125.6    1\n",
      "179.8    1\n",
      "270.8    1\n",
      "Name: total_day_minutes, Length: 1667, dtype: int64\n",
      "\n",
      " total_day_calls\n",
      "min: 0\n",
      "max: 165\n",
      "mean: 100.43564356435644\n",
      "102    78\n",
      "105    75\n",
      "107    69\n",
      "95     69\n",
      "104    68\n",
      "       ..\n",
      "149     1\n",
      "157     1\n",
      "36      1\n",
      "30      1\n",
      "165     1\n",
      "Name: total_day_calls, Length: 119, dtype: int64\n",
      "\n",
      " total_day_charge\n",
      "min: 0.0\n",
      "max: 59.64\n",
      "mean: 30.562307230723075\n",
      "27.12    8\n",
      "26.18    8\n",
      "29.67    8\n",
      "31.18    7\n",
      "27.59    7\n",
      "        ..\n",
      "19.36    1\n",
      "16.95    1\n",
      "34.12    1\n",
      "48.35    1\n",
      "13.28    1\n",
      "Name: total_day_charge, Length: 1667, dtype: int64\n",
      "\n",
      " total_eve_minutes\n",
      "min: 0.0\n",
      "max: 363.7\n",
      "mean: 200.98034803480348\n",
      "169.9    9\n",
      "230.9    7\n",
      "209.4    7\n",
      "201.0    7\n",
      "220.6    7\n",
      "        ..\n",
      "335.0    1\n",
      "258.9    1\n",
      "134.7    1\n",
      "318.8    1\n",
      "317.2    1\n",
      "Name: total_eve_minutes, Length: 1611, dtype: int64\n",
      "\n",
      " total_eve_calls\n",
      "min: 0\n",
      "max: 170\n",
      "mean: 100.11431143114311\n",
      "105    80\n",
      "94     79\n",
      "108    71\n",
      "97     70\n",
      "102    70\n",
      "       ..\n",
      "45      1\n",
      "49      1\n",
      "145     1\n",
      "153     1\n",
      "0       1\n",
      "Name: total_eve_calls, Length: 123, dtype: int64\n",
      "\n",
      " total_eve_charge\n",
      "min: 0.0\n",
      "max: 30.91\n",
      "mean: 17.083540354035403\n",
      "14.25    11\n",
      "16.12    11\n",
      "15.90    10\n",
      "18.62     9\n",
      "14.44     9\n",
      "         ..\n",
      "12.64     1\n",
      "13.83     1\n",
      "11.39     1\n",
      "28.03     1\n",
      "20.53     1\n",
      "Name: total_eve_charge, Length: 1440, dtype: int64\n",
      "\n",
      " total_night_minutes\n",
      "min: 23.2\n",
      "max: 395.0\n",
      "mean: 200.87203720372037\n",
      "210.0    8\n",
      "214.6    8\n",
      "197.4    8\n",
      "191.4    8\n",
      "188.2    8\n",
      "        ..\n",
      "132.3    1\n",
      "306.2    1\n",
      "293.5    1\n",
      "271.7    1\n",
      "182.6    1\n",
      "Name: total_night_minutes, Length: 1591, dtype: int64\n",
      "\n",
      " total_night_calls\n",
      "min: 33\n",
      "max: 175\n",
      "mean: 100.10771077107711\n",
      "105    84\n",
      "104    78\n",
      "91     76\n",
      "102    72\n",
      "100    69\n",
      "       ..\n",
      "164     1\n",
      "166     1\n",
      "33      1\n",
      "149     1\n",
      "36      1\n",
      "Name: total_night_calls, Length: 120, dtype: int64\n",
      "\n",
      " total_night_charge\n",
      "min: 1.04\n",
      "max: 17.77\n",
      "mean: 9.03932493249325\n",
      "9.66     15\n",
      "9.45     15\n",
      "8.88     14\n",
      "8.47     14\n",
      "7.69     13\n",
      "         ..\n",
      "14.65     1\n",
      "6.46      1\n",
      "3.94      1\n",
      "15.74     1\n",
      "6.14      1\n",
      "Name: total_night_charge, Length: 933, dtype: int64\n",
      "\n",
      " total_intl_minutes\n",
      "min: 0.0\n",
      "max: 20.0\n",
      "mean: 10.237293729372938\n",
      "10.0    62\n",
      "11.3    59\n",
      "9.8     56\n",
      "10.9    56\n",
      "10.1    53\n",
      "        ..\n",
      "18.9     1\n",
      "1.3      1\n",
      "2.7      1\n",
      "2.6      1\n",
      "3.1      1\n",
      "Name: total_intl_minutes, Length: 162, dtype: int64\n",
      "\n",
      " total_intl_calls\n",
      "min: 0\n",
      "max: 20\n",
      "mean: 4.4794479447944795\n",
      "3     668\n",
      "4     619\n",
      "2     489\n",
      "5     472\n",
      "6     336\n",
      "7     218\n",
      "1     160\n",
      "8     116\n",
      "9     109\n",
      "10     50\n",
      "11     28\n",
      "0      18\n",
      "12     15\n",
      "13     14\n",
      "15      7\n",
      "14      6\n",
      "18      3\n",
      "16      2\n",
      "19      1\n",
      "17      1\n",
      "20      1\n",
      "Name: total_intl_calls, dtype: int64\n",
      "\n",
      " total_intl_charge\n",
      "min: 0.0\n",
      "max: 5.4\n",
      "mean: 2.7645814581458144\n",
      "2.70    62\n",
      "3.05    59\n",
      "2.65    56\n",
      "2.94    56\n",
      "2.73    53\n",
      "        ..\n",
      "0.68     1\n",
      "4.83     1\n",
      "0.84     1\n",
      "0.30     1\n",
      "5.40     1\n",
      "Name: total_intl_charge, Length: 162, dtype: int64\n",
      "\n",
      " customer_service_calls\n",
      "min: 0\n",
      "max: 9\n",
      "mean: 1.5628562856285628\n",
      "1    1181\n",
      "2     759\n",
      "0     697\n",
      "3     429\n",
      "4     166\n",
      "5      66\n",
      "6      22\n",
      "7       9\n",
      "9       2\n",
      "8       2\n",
      "Name: customer_service_calls, dtype: int64\n",
      "\n",
      " churn\n",
      "False    2850\n",
      "True      483\n",
      "Name: churn, dtype: int64\n"
     ]
    }
   ],
   "source": [
    "for x in df.columns:\n",
    "    if x in X_ignore_cols:\n",
    "        continue\n",
    "    print(\"\\n\", x)\n",
    "    if x in X_numeric_cols:\n",
    "        print(\"min:\", df[x].min())\n",
    "        print(\"max:\", df[x].max())\n",
    "        print(\"mean:\", df[x].mean())\n",
    "    print(df[x].value_counts())\n",
    "            "
   ]
  },
  {
   "cell_type": "code",
   "execution_count": 106,
   "id": "df5a632c",
   "metadata": {
    "ExecuteTime": {
     "end_time": "2023-01-04T19:33:34.907109Z",
     "start_time": "2023-01-04T19:33:34.846823Z"
    },
    "scrolled": false
   },
   "outputs": [
    {
     "data": {
      "text/html": [
       "<div>\n",
       "<style scoped>\n",
       "    .dataframe tbody tr th:only-of-type {\n",
       "        vertical-align: middle;\n",
       "    }\n",
       "\n",
       "    .dataframe tbody tr th {\n",
       "        vertical-align: top;\n",
       "    }\n",
       "\n",
       "    .dataframe thead th {\n",
       "        text-align: right;\n",
       "    }\n",
       "</style>\n",
       "<table border=\"1\" class=\"dataframe\">\n",
       "  <thead>\n",
       "    <tr style=\"text-align: right;\">\n",
       "      <th></th>\n",
       "      <th>account_length</th>\n",
       "      <th>area_code</th>\n",
       "      <th>number_vmail_messages</th>\n",
       "      <th>total_day_minutes</th>\n",
       "      <th>total_day_calls</th>\n",
       "      <th>total_day_charge</th>\n",
       "      <th>total_eve_minutes</th>\n",
       "      <th>total_eve_calls</th>\n",
       "      <th>total_eve_charge</th>\n",
       "      <th>total_night_minutes</th>\n",
       "      <th>total_night_calls</th>\n",
       "      <th>total_night_charge</th>\n",
       "      <th>total_intl_minutes</th>\n",
       "      <th>total_intl_calls</th>\n",
       "      <th>total_intl_charge</th>\n",
       "      <th>customer_service_calls</th>\n",
       "    </tr>\n",
       "  </thead>\n",
       "  <tbody>\n",
       "    <tr>\n",
       "      <th>count</th>\n",
       "      <td>3333.000000</td>\n",
       "      <td>3333.000000</td>\n",
       "      <td>3333.000000</td>\n",
       "      <td>3333.000000</td>\n",
       "      <td>3333.000000</td>\n",
       "      <td>3333.000000</td>\n",
       "      <td>3333.000000</td>\n",
       "      <td>3333.000000</td>\n",
       "      <td>3333.000000</td>\n",
       "      <td>3333.000000</td>\n",
       "      <td>3333.000000</td>\n",
       "      <td>3333.000000</td>\n",
       "      <td>3333.000000</td>\n",
       "      <td>3333.000000</td>\n",
       "      <td>3333.000000</td>\n",
       "      <td>3333.000000</td>\n",
       "    </tr>\n",
       "    <tr>\n",
       "      <th>mean</th>\n",
       "      <td>101.064806</td>\n",
       "      <td>437.182418</td>\n",
       "      <td>8.099010</td>\n",
       "      <td>179.775098</td>\n",
       "      <td>100.435644</td>\n",
       "      <td>30.562307</td>\n",
       "      <td>200.980348</td>\n",
       "      <td>100.114311</td>\n",
       "      <td>17.083540</td>\n",
       "      <td>200.872037</td>\n",
       "      <td>100.107711</td>\n",
       "      <td>9.039325</td>\n",
       "      <td>10.237294</td>\n",
       "      <td>4.479448</td>\n",
       "      <td>2.764581</td>\n",
       "      <td>1.562856</td>\n",
       "    </tr>\n",
       "    <tr>\n",
       "      <th>std</th>\n",
       "      <td>39.822106</td>\n",
       "      <td>42.371290</td>\n",
       "      <td>13.688365</td>\n",
       "      <td>54.467389</td>\n",
       "      <td>20.069084</td>\n",
       "      <td>9.259435</td>\n",
       "      <td>50.713844</td>\n",
       "      <td>19.922625</td>\n",
       "      <td>4.310668</td>\n",
       "      <td>50.573847</td>\n",
       "      <td>19.568609</td>\n",
       "      <td>2.275873</td>\n",
       "      <td>2.791840</td>\n",
       "      <td>2.461214</td>\n",
       "      <td>0.753773</td>\n",
       "      <td>1.315491</td>\n",
       "    </tr>\n",
       "    <tr>\n",
       "      <th>min</th>\n",
       "      <td>1.000000</td>\n",
       "      <td>408.000000</td>\n",
       "      <td>0.000000</td>\n",
       "      <td>0.000000</td>\n",
       "      <td>0.000000</td>\n",
       "      <td>0.000000</td>\n",
       "      <td>0.000000</td>\n",
       "      <td>0.000000</td>\n",
       "      <td>0.000000</td>\n",
       "      <td>23.200000</td>\n",
       "      <td>33.000000</td>\n",
       "      <td>1.040000</td>\n",
       "      <td>0.000000</td>\n",
       "      <td>0.000000</td>\n",
       "      <td>0.000000</td>\n",
       "      <td>0.000000</td>\n",
       "    </tr>\n",
       "    <tr>\n",
       "      <th>25%</th>\n",
       "      <td>74.000000</td>\n",
       "      <td>408.000000</td>\n",
       "      <td>0.000000</td>\n",
       "      <td>143.700000</td>\n",
       "      <td>87.000000</td>\n",
       "      <td>24.430000</td>\n",
       "      <td>166.600000</td>\n",
       "      <td>87.000000</td>\n",
       "      <td>14.160000</td>\n",
       "      <td>167.000000</td>\n",
       "      <td>87.000000</td>\n",
       "      <td>7.520000</td>\n",
       "      <td>8.500000</td>\n",
       "      <td>3.000000</td>\n",
       "      <td>2.300000</td>\n",
       "      <td>1.000000</td>\n",
       "    </tr>\n",
       "    <tr>\n",
       "      <th>50%</th>\n",
       "      <td>101.000000</td>\n",
       "      <td>415.000000</td>\n",
       "      <td>0.000000</td>\n",
       "      <td>179.400000</td>\n",
       "      <td>101.000000</td>\n",
       "      <td>30.500000</td>\n",
       "      <td>201.400000</td>\n",
       "      <td>100.000000</td>\n",
       "      <td>17.120000</td>\n",
       "      <td>201.200000</td>\n",
       "      <td>100.000000</td>\n",
       "      <td>9.050000</td>\n",
       "      <td>10.300000</td>\n",
       "      <td>4.000000</td>\n",
       "      <td>2.780000</td>\n",
       "      <td>1.000000</td>\n",
       "    </tr>\n",
       "    <tr>\n",
       "      <th>75%</th>\n",
       "      <td>127.000000</td>\n",
       "      <td>510.000000</td>\n",
       "      <td>20.000000</td>\n",
       "      <td>216.400000</td>\n",
       "      <td>114.000000</td>\n",
       "      <td>36.790000</td>\n",
       "      <td>235.300000</td>\n",
       "      <td>114.000000</td>\n",
       "      <td>20.000000</td>\n",
       "      <td>235.300000</td>\n",
       "      <td>113.000000</td>\n",
       "      <td>10.590000</td>\n",
       "      <td>12.100000</td>\n",
       "      <td>6.000000</td>\n",
       "      <td>3.270000</td>\n",
       "      <td>2.000000</td>\n",
       "    </tr>\n",
       "    <tr>\n",
       "      <th>max</th>\n",
       "      <td>243.000000</td>\n",
       "      <td>510.000000</td>\n",
       "      <td>51.000000</td>\n",
       "      <td>350.800000</td>\n",
       "      <td>165.000000</td>\n",
       "      <td>59.640000</td>\n",
       "      <td>363.700000</td>\n",
       "      <td>170.000000</td>\n",
       "      <td>30.910000</td>\n",
       "      <td>395.000000</td>\n",
       "      <td>175.000000</td>\n",
       "      <td>17.770000</td>\n",
       "      <td>20.000000</td>\n",
       "      <td>20.000000</td>\n",
       "      <td>5.400000</td>\n",
       "      <td>9.000000</td>\n",
       "    </tr>\n",
       "  </tbody>\n",
       "</table>\n",
       "</div>"
      ],
      "text/plain": [
       "       account_length    area_code  number_vmail_messages  total_day_minutes  \\\n",
       "count     3333.000000  3333.000000            3333.000000        3333.000000   \n",
       "mean       101.064806   437.182418               8.099010         179.775098   \n",
       "std         39.822106    42.371290              13.688365          54.467389   \n",
       "min          1.000000   408.000000               0.000000           0.000000   \n",
       "25%         74.000000   408.000000               0.000000         143.700000   \n",
       "50%        101.000000   415.000000               0.000000         179.400000   \n",
       "75%        127.000000   510.000000              20.000000         216.400000   \n",
       "max        243.000000   510.000000              51.000000         350.800000   \n",
       "\n",
       "       total_day_calls  total_day_charge  total_eve_minutes  total_eve_calls  \\\n",
       "count      3333.000000       3333.000000        3333.000000      3333.000000   \n",
       "mean        100.435644         30.562307         200.980348       100.114311   \n",
       "std          20.069084          9.259435          50.713844        19.922625   \n",
       "min           0.000000          0.000000           0.000000         0.000000   \n",
       "25%          87.000000         24.430000         166.600000        87.000000   \n",
       "50%         101.000000         30.500000         201.400000       100.000000   \n",
       "75%         114.000000         36.790000         235.300000       114.000000   \n",
       "max         165.000000         59.640000         363.700000       170.000000   \n",
       "\n",
       "       total_eve_charge  total_night_minutes  total_night_calls  \\\n",
       "count       3333.000000          3333.000000        3333.000000   \n",
       "mean          17.083540           200.872037         100.107711   \n",
       "std            4.310668            50.573847          19.568609   \n",
       "min            0.000000            23.200000          33.000000   \n",
       "25%           14.160000           167.000000          87.000000   \n",
       "50%           17.120000           201.200000         100.000000   \n",
       "75%           20.000000           235.300000         113.000000   \n",
       "max           30.910000           395.000000         175.000000   \n",
       "\n",
       "       total_night_charge  total_intl_minutes  total_intl_calls  \\\n",
       "count         3333.000000         3333.000000       3333.000000   \n",
       "mean             9.039325           10.237294          4.479448   \n",
       "std              2.275873            2.791840          2.461214   \n",
       "min              1.040000            0.000000          0.000000   \n",
       "25%              7.520000            8.500000          3.000000   \n",
       "50%              9.050000           10.300000          4.000000   \n",
       "75%             10.590000           12.100000          6.000000   \n",
       "max             17.770000           20.000000         20.000000   \n",
       "\n",
       "       total_intl_charge  customer_service_calls  \n",
       "count        3333.000000             3333.000000  \n",
       "mean            2.764581                1.562856  \n",
       "std             0.753773                1.315491  \n",
       "min             0.000000                0.000000  \n",
       "25%             2.300000                1.000000  \n",
       "50%             2.780000                1.000000  \n",
       "75%             3.270000                2.000000  \n",
       "max             5.400000                9.000000  "
      ]
     },
     "execution_count": 106,
     "metadata": {},
     "output_type": "execute_result"
    }
   ],
   "source": [
    "df.describe()"
   ]
  },
  {
   "cell_type": "markdown",
   "id": "e7477e4a",
   "metadata": {},
   "source": [
    "- Separate X (predictor) and Y (target)column names.  \n",
    "- Distinguish between numeric and categorical X columns."
   ]
  },
  {
   "cell_type": "code",
   "execution_count": 110,
   "id": "4989fa66",
   "metadata": {
    "ExecuteTime": {
     "end_time": "2023-01-04T19:34:02.386988Z",
     "start_time": "2023-01-04T19:34:02.371056Z"
    }
   },
   "outputs": [],
   "source": [
    "X_numeric_cols = ['account_length','number_vmail_messages',\n",
    "       'total_day_minutes', 'total_day_calls', 'total_day_charge',\n",
    "       'total_eve_minutes', 'total_eve_calls', 'total_eve_charge',\n",
    "       'total_night_minutes', 'total_night_calls', 'total_night_charge',\n",
    "       'total_intl_minutes', 'total_intl_calls', 'total_intl_charge',\n",
    "       'customer_service_calls']\n",
    "X_categorical_cols = ['state', 'area_code','international_plan', 'voice_mail_plan']\n",
    "X_ignore_cols = ['phone_number']\n",
    "y_target_col = 'churn'"
   ]
  },
  {
   "cell_type": "markdown",
   "id": "f05924b5",
   "metadata": {},
   "source": [
    "#### Train-test-split of the data"
   ]
  },
  {
   "cell_type": "code",
   "execution_count": 117,
   "id": "20423a17",
   "metadata": {
    "ExecuteTime": {
     "end_time": "2023-01-04T19:35:04.672802Z",
     "start_time": "2023-01-04T19:35:04.658832Z"
    }
   },
   "outputs": [],
   "source": [
    "X = df.drop(X_ignore_cols + [y_target_col], axis=1)\n",
    "y = df[y_target_col]\n",
    "\n",
    "X_train, X_test, y_train, y_test = train_test_split(X, y, random_state=42, test_size=.25)"
   ]
  },
  {
   "cell_type": "code",
   "execution_count": 118,
   "id": "4d9be8d7",
   "metadata": {
    "ExecuteTime": {
     "end_time": "2023-01-04T19:35:08.368755Z",
     "start_time": "2023-01-04T19:35:08.347782Z"
    }
   },
   "outputs": [
    {
     "data": {
      "text/plain": [
       "False    0.855086\n",
       "True     0.144914\n",
       "Name: churn, dtype: float64"
      ]
     },
     "execution_count": 118,
     "metadata": {},
     "output_type": "execute_result"
    }
   ],
   "source": [
    "df.churn.value_counts(normalize=True)"
   ]
  },
  {
   "cell_type": "markdown",
   "id": "91a3b093",
   "metadata": {},
   "source": [
    "This seems to be imbalanced.  Plan on using SMOTE to oversample the minority class later on. "
   ]
  },
  {
   "cell_type": "markdown",
   "id": "745cb8a1",
   "metadata": {},
   "source": [
    "#### Modeling"
   ]
  },
  {
   "cell_type": "markdown",
   "id": "47016d86",
   "metadata": {},
   "source": [
    "#### Create Column Transformer Pipelines"
   ]
  },
  {
   "cell_type": "code",
   "execution_count": 119,
   "id": "24457fd3",
   "metadata": {
    "ExecuteTime": {
     "end_time": "2023-01-04T19:35:09.948344Z",
     "start_time": "2023-01-04T19:35:09.931380Z"
    }
   },
   "outputs": [
    {
     "name": "stdout",
     "output_type": "stream",
     "text": [
      "['account_length', 'number_vmail_messages', 'total_day_minutes', 'total_day_calls', 'total_day_charge', 'total_eve_minutes', 'total_eve_calls', 'total_eve_charge', 'total_night_minutes', 'total_night_calls', 'total_night_charge', 'total_intl_minutes', 'total_intl_calls', 'total_intl_charge', 'customer_service_calls'] \n",
      "\n",
      "['state', 'area_code', 'international_plan', 'voice_mail_plan']\n"
     ]
    }
   ],
   "source": [
    "# Numerical column transformers\n",
    "num_pipe = Pipeline([('ss',StandardScaler())])\n",
    "\n",
    "# Categorical column transformers\n",
    "cat_pipe = Pipeline([\n",
    "    # ('cat_impute', SimpleImputer(strategy='most_frequent')),\n",
    "    ('ohe', OneHotEncoder(sparse=False, handle_unknown='ignore'))\n",
    "])\n",
    "print(X_numeric_cols, '\\n')\n",
    "print(X_categorical_cols)\n",
    "\n",
    "CT = ColumnTransformer(transformers=[\n",
    "    ('num_trans', num_pipe, X_numeric_cols),\n",
    "    ('cat_trans', cat_pipe, X_categorical_cols)\n",
    "],remainder='passthrough')"
   ]
  },
  {
   "cell_type": "markdown",
   "id": "d8fc9004",
   "metadata": {
    "heading_collapsed": true
   },
   "source": [
    "#### Modeling - Round One - Simple Models (default hyperparameters)"
   ]
  },
  {
   "cell_type": "markdown",
   "id": "51b8f128",
   "metadata": {
    "hidden": true
   },
   "source": [
    "**Baseline**"
   ]
  },
  {
   "cell_type": "code",
   "execution_count": 146,
   "id": "7ba23a47",
   "metadata": {
    "ExecuteTime": {
     "end_time": "2023-01-04T20:07:51.615061Z",
     "start_time": "2023-01-04T20:07:51.430536Z"
    },
    "hidden": true
   },
   "outputs": [
    {
     "name": "stdout",
     "output_type": "stream",
     "text": [
      "Baseline:\n",
      "CV score on training data (mean): 0.8567\n",
      "Results on test data:             0.8501\n"
     ]
    }
   ],
   "source": [
    "model_name = \"Baseline\"\n",
    "model = DummyClassifier(strategy='most_frequent', random_state=42)\n",
    "pipe = Pipeline([('ct',CT),\n",
    "                 ('model', model) \n",
    "])\n",
    "results = cross_val_score(pipe, X_train, y_train, cv=10)\n",
    "y_hat = pipe.fit(X_train, y_train).predict(X_test)\n",
    "print(model_name + \":\")\n",
    "print(f\"CV score on training data (mean): {round(np.mean(results), 4)}\")\n",
    "print(f\"Results on test data:             {round(accuracy_score(y_test, y_hat), 4)}\")"
   ]
  },
  {
   "cell_type": "markdown",
   "id": "501e5925",
   "metadata": {
    "hidden": true
   },
   "source": [
    "**Decision Tree Classifier**"
   ]
  },
  {
   "cell_type": "code",
   "execution_count": 147,
   "id": "2b333492",
   "metadata": {
    "ExecuteTime": {
     "end_time": "2023-01-04T20:07:53.867202Z",
     "start_time": "2023-01-04T20:07:53.358609Z"
    },
    "hidden": true
   },
   "outputs": [
    {
     "name": "stdout",
     "output_type": "stream",
     "text": [
      "Decision Tree Classifier:\n",
      "CV score on training data (mean): 0.9096\n",
      "Results on test data:             0.9257\n"
     ]
    }
   ],
   "source": [
    "model_name = \"Decision Tree Classifier\"\n",
    "model = DecisionTreeClassifier(random_state=42)\n",
    "pipe = Pipeline([('ct',CT),\n",
    "                 ('model', model) \n",
    "])\n",
    "results = cross_val_score(pipe, X_train, y_train, cv=10)\n",
    "y_hat = pipe.fit(X_train, y_train).predict(X_test)\n",
    "print(model_name + \":\")\n",
    "print(f\"CV score on training data (mean): {round(np.mean(results), 4)}\")\n",
    "print(f\"Results on test data:             {round(accuracy_score(y_test, y_hat), 4)}\")"
   ]
  },
  {
   "cell_type": "markdown",
   "id": "bcc82e63",
   "metadata": {
    "hidden": true
   },
   "source": [
    "This model improved the accuracy over the baseline model by ~6%.  Appears potentially underfit. "
   ]
  },
  {
   "cell_type": "markdown",
   "id": "87da6a5a",
   "metadata": {
    "ExecuteTime": {
     "end_time": "2023-01-03T23:53:21.687563Z",
     "start_time": "2023-01-03T23:53:21.681611Z"
    },
    "hidden": true
   },
   "source": [
    "**KNearestNeighbors Classifier**"
   ]
  },
  {
   "cell_type": "code",
   "execution_count": 148,
   "id": "75a5ae9c",
   "metadata": {
    "ExecuteTime": {
     "end_time": "2023-01-04T20:08:01.813995Z",
     "start_time": "2023-01-04T20:08:00.385729Z"
    },
    "hidden": true
   },
   "outputs": [
    {
     "name": "stdout",
     "output_type": "stream",
     "text": [
      "KNearestNeighbors Classifier:\n",
      "CV score on training data (mean): 0.884\n",
      "Results on test data:             0.8837\n"
     ]
    }
   ],
   "source": [
    "model_name = \"KNearestNeighbors Classifier\"\n",
    "model = KNeighborsClassifier()\n",
    "pipe = Pipeline([('ct',CT),\n",
    "                 ('model', model) \n",
    "])\n",
    "results = cross_val_score(pipe, X_train, y_train, cv=10)\n",
    "y_hat = pipe.fit(X_train, y_train).predict(X_test)\n",
    "print(model_name + \":\")\n",
    "print(f\"CV score on training data (mean): {round(np.mean(results), 4)}\")\n",
    "print(f\"Results on test data:             {round(accuracy_score(y_test, y_hat), 4)}\")"
   ]
  },
  {
   "cell_type": "markdown",
   "id": "c1f41105",
   "metadata": {
    "hidden": true
   },
   "source": [
    "The KNN model improved the accuracy over the baseline model by ~3%."
   ]
  },
  {
   "cell_type": "markdown",
   "id": "62eed39b",
   "metadata": {
    "ExecuteTime": {
     "end_time": "2023-01-03T23:53:21.687563Z",
     "start_time": "2023-01-03T23:53:21.681611Z"
    },
    "hidden": true
   },
   "source": [
    "**Random Forest Classifier**"
   ]
  },
  {
   "cell_type": "code",
   "execution_count": 149,
   "id": "00538be8",
   "metadata": {
    "ExecuteTime": {
     "end_time": "2023-01-04T20:08:09.095065Z",
     "start_time": "2023-01-04T20:08:04.936819Z"
    },
    "hidden": true
   },
   "outputs": [
    {
     "name": "stdout",
     "output_type": "stream",
     "text": [
      "rfc:\n",
      "CV score on training data (mean): 0.9384\n",
      "Results on test data:             0.9424\n"
     ]
    }
   ],
   "source": [
    "model_name = \"Random Forest Classifier\"\n",
    "model = RandomForestClassifier(random_state=42)\n",
    "pipe = Pipeline([('ct',CT),\n",
    "                 ('model', model) \n",
    "])\n",
    "results = cross_val_score(pipe, X_train, y_train, cv=10)\n",
    "y_hat = pipe.fit(X_train, y_train).predict(X_test)\n",
    "print(model_name + \":\")\n",
    "print(f\"CV score on training data (mean): {round(np.mean(results), 4)}\")\n",
    "print(f\"Results on test data:             {round(accuracy_score(y_test, y_hat), 4)}\")"
   ]
  },
  {
   "cell_type": "markdown",
   "id": "e308d9b4",
   "metadata": {
    "hidden": true
   },
   "source": [
    "The Random Forest model improved the accuracy over the baseline model on test data by ~9%.  The model seems a little underfit as it performed slightly better on test data than on the training data.  This appears to be the best performing model so far."
   ]
  },
  {
   "cell_type": "markdown",
   "id": "d655f5d7",
   "metadata": {
    "ExecuteTime": {
     "end_time": "2023-01-04T02:27:45.865952Z",
     "start_time": "2023-01-04T02:27:45.846042Z"
    },
    "hidden": true
   },
   "source": [
    "**GuassianNB Classifier**"
   ]
  },
  {
   "cell_type": "code",
   "execution_count": 150,
   "id": "455918ed",
   "metadata": {
    "ExecuteTime": {
     "end_time": "2023-01-04T20:08:14.384465Z",
     "start_time": "2023-01-04T20:08:14.165459Z"
    },
    "hidden": true
   },
   "outputs": [
    {
     "name": "stdout",
     "output_type": "stream",
     "text": [
      "GuassianNB Classifier:\n",
      "CV score on training data (mean): 0.5658\n",
      "Results on test data:             0.5815\n"
     ]
    }
   ],
   "source": [
    "model_name = \"GuassianNB Classifier\"\n",
    "model = GaussianNB()\n",
    "pipe = Pipeline([('ct',CT),\n",
    "                 ('model', model) \n",
    "])\n",
    "results = cross_val_score(pipe, X_train, y_train, cv=10)\n",
    "y_hat = pipe.fit(X_train, y_train).predict(X_test)\n",
    "print(model_name + \":\")\n",
    "print(f\"CV score on training data (mean): {round(np.mean(results), 4)}\")\n",
    "print(f\"Results on test data:             {round(accuracy_score(y_test, y_hat), 4)}\")"
   ]
  },
  {
   "cell_type": "markdown",
   "id": "dc22b60d",
   "metadata": {
    "hidden": true
   },
   "source": [
    "The Guassian NB model did not perform well. "
   ]
  },
  {
   "cell_type": "markdown",
   "id": "dfef323f",
   "metadata": {
    "ExecuteTime": {
     "end_time": "2023-01-04T02:27:45.865952Z",
     "start_time": "2023-01-04T02:27:45.846042Z"
    },
    "hidden": true
   },
   "source": [
    "**SVC Classifier**"
   ]
  },
  {
   "cell_type": "code",
   "execution_count": 151,
   "id": "27d4fa28",
   "metadata": {
    "ExecuteTime": {
     "end_time": "2023-01-04T20:08:19.646050Z",
     "start_time": "2023-01-04T20:08:17.755339Z"
    },
    "hidden": true
   },
   "outputs": [
    {
     "name": "stdout",
     "output_type": "stream",
     "text": [
      "SVC Classifier:\n",
      "CV score on training data (mean): 0.9032\n",
      "Results on test data:             0.9221\n"
     ]
    }
   ],
   "source": [
    "model_name = \"SVC Classifier\"\n",
    "model = SVC(random_state=42)\n",
    "pipe = Pipeline([('ct',CT),\n",
    "                 ('model', model) \n",
    "])\n",
    "results = cross_val_score(pipe, X_train, y_train, cv=10)\n",
    "y_hat = pipe.fit(X_train, y_train).predict(X_test)\n",
    "print(model_name + \":\")\n",
    "print(f\"CV score on training data (mean): {round(np.mean(results), 4)}\")\n",
    "print(f\"Results on test data:             {round(accuracy_score(y_test, y_hat), 4)}\")"
   ]
  },
  {
   "cell_type": "markdown",
   "id": "9a95d1fb",
   "metadata": {
    "ExecuteTime": {
     "end_time": "2023-01-04T02:27:45.865952Z",
     "start_time": "2023-01-04T02:27:45.846042Z"
    },
    "hidden": true
   },
   "source": [
    "The SVC model improved the accuracy over the baseline model on test data by 4-5%.  It is slightly overfit as the performance on test data is a little less accurate than the performance on training data.     \n",
    "\n",
    "**Gradient Booster Classifier**"
   ]
  },
  {
   "cell_type": "code",
   "execution_count": 152,
   "id": "0fe3c20a",
   "metadata": {
    "ExecuteTime": {
     "end_time": "2023-01-04T20:08:32.744278Z",
     "start_time": "2023-01-04T20:08:24.996700Z"
    },
    "hidden": true
   },
   "outputs": [
    {
     "name": "stdout",
     "output_type": "stream",
     "text": [
      "Gradient Booster:\n",
      "CV score on training data (mean): 0.9492\n",
      "Results on test data:             0.9496\n"
     ]
    }
   ],
   "source": [
    "model_name = \"Gradient Booster\"\n",
    "model = GradientBoostingClassifier(random_state=42)\n",
    "pipe = Pipeline([('ct', CT), \n",
    "                 ('model', GradientBoostingClassifier(random_state=42))])\n",
    "\n",
    "results = cross_val_score(pipe, X_train, y_train, cv=10)\n",
    "y_hat = pipe.fit(X_train, y_train).predict(X_test)\n",
    "print(model_name + \":\")\n",
    "print(f\"CV score on training data (mean): {round(np.mean(results), 4)}\")\n",
    "print(f\"Results on test data:             {round(accuracy_score(y_test, y_hat), 4)}\")"
   ]
  },
  {
   "cell_type": "markdown",
   "id": "cb71a819",
   "metadata": {
    "hidden": true
   },
   "source": [
    "The Gradient Booster Classifier improved the accuracy over the baseline model on test data by ~9%.  It does not appear to be notably underfit or overfit.  This is another top performing model.\n",
    "\n",
    "**Logistic Regression Classifier**"
   ]
  },
  {
   "cell_type": "code",
   "execution_count": 127,
   "id": "dc3e72a7",
   "metadata": {
    "ExecuteTime": {
     "end_time": "2023-01-04T19:42:34.722554Z",
     "start_time": "2023-01-04T19:42:34.210287Z"
    },
    "hidden": true
   },
   "outputs": [
    {
     "name": "stdout",
     "output_type": "stream",
     "text": [
      "Logistic Regression:\n",
      "CV score on training data (mean): 0.8591\n",
      "Results on test data:             0.8573\n"
     ]
    }
   ],
   "source": [
    "model_name = \"Logistic Regression\"\n",
    "model = LogisticRegression(random_state=42)\n",
    "pipe = Pipeline([('ct',CT),\n",
    "                 ('model', model) \n",
    "])\n",
    "results = cross_val_score(pipe, X_train, y_train, cv=10)\n",
    "y_hat = pipe.fit(X_train, y_train).predict(X_test)\n",
    "print(model_name + \":\")\n",
    "print(f\"CV score on training data (mean): {round(np.mean(results), 4)}\")\n",
    "print(f\"Results on test data:             {round(accuracy_score(y_test, y_hat), 4)}\")"
   ]
  },
  {
   "cell_type": "markdown",
   "id": "232308f4",
   "metadata": {
    "hidden": true
   },
   "source": [
    "The Gradient Boosting Classifier had the highest score.  "
   ]
  },
  {
   "cell_type": "markdown",
   "id": "7495f2c3",
   "metadata": {
    "ExecuteTime": {
     "end_time": "2023-01-04T04:13:05.874699Z",
     "start_time": "2023-01-04T04:13:05.865762Z"
    }
   },
   "source": [
    "#### Modeling - Round Two - Simple Models with Balanced Data using SMOTE"
   ]
  },
  {
   "cell_type": "markdown",
   "id": "c5458f29",
   "metadata": {},
   "source": [
    "As we can see below, the target is pretty unbalanced.  I'd like to balance these using SMOTE to see if we can get any better results with the simple models. "
   ]
  },
  {
   "cell_type": "code",
   "execution_count": 134,
   "id": "912de633",
   "metadata": {
    "ExecuteTime": {
     "end_time": "2023-01-04T19:48:43.396233Z",
     "start_time": "2023-01-04T19:48:43.387797Z"
    }
   },
   "outputs": [
    {
     "data": {
      "text/plain": [
       "False    2141\n",
       "True      358\n",
       "Name: churn, dtype: int64"
      ]
     },
     "execution_count": 134,
     "metadata": {},
     "output_type": "execute_result"
    }
   ],
   "source": [
    "y_train.value_counts()"
   ]
  },
  {
   "cell_type": "code",
   "execution_count": 135,
   "id": "34f2892b",
   "metadata": {
    "ExecuteTime": {
     "end_time": "2023-01-04T19:48:47.700592Z",
     "start_time": "2023-01-04T19:48:47.689641Z"
    }
   },
   "outputs": [
    {
     "data": {
      "text/plain": [
       "False    0.856743\n",
       "True     0.143257\n",
       "Name: churn, dtype: float64"
      ]
     },
     "execution_count": 135,
     "metadata": {},
     "output_type": "execute_result"
    }
   ],
   "source": [
    "y_train.value_counts(normalize=True)"
   ]
  },
  {
   "cell_type": "markdown",
   "id": "aae9c606",
   "metadata": {
    "ExecuteTime": {
     "end_time": "2023-01-04T19:52:48.211117Z",
     "start_time": "2023-01-04T19:52:48.202113Z"
    }
   },
   "source": [
    "**Baseline Model - Unbalanced vs. Balanced**"
   ]
  },
  {
   "cell_type": "code",
   "execution_count": 162,
   "id": "882766c2",
   "metadata": {
    "ExecuteTime": {
     "end_time": "2023-01-04T20:27:13.269656Z",
     "start_time": "2023-01-04T20:27:12.775278Z"
    }
   },
   "outputs": [
    {
     "name": "stdout",
     "output_type": "stream",
     "text": [
      "Baseline - Unbalanced:\n",
      "CV score on training data (mean): 0.8567\n",
      "Results on test data:             0.8501\n",
      "\n",
      "\n",
      "Baseline - Balanced:\n",
      "CV score on training data (mean): 0.8567\n",
      "Results on test data:             0.8501\n"
     ]
    }
   ],
   "source": [
    "model_name = \"Baseline - Unbalanced\"\n",
    "model = DummyClassifier(strategy='most_frequent', random_state=42)\n",
    "pipe = Pipeline([('ct',CT),\n",
    "                 ('model', model) \n",
    "])\n",
    "results = cross_val_score(pipe, X_train, y_train, cv=10)\n",
    "y_hat = pipe.fit(X_train, y_train).predict(X_test)\n",
    "print(model_name + \":\")\n",
    "print(f\"CV score on training data (mean): {round(np.mean(results), 4)}\")\n",
    "print(f\"Results on test data:             {round(accuracy_score(y_test, y_hat), 4)}\")\n",
    "\n",
    "print(\"\\n\")\n",
    "\n",
    "model_name = \"Baseline - Balanced\"\n",
    "model = DummyClassifier(strategy='most_frequent', random_state=42)\n",
    "pipe = ImPipeline([('ct',CT),\n",
    "                 ('sm', SMOTE(sampling_strategy='auto', random_state=42)),\n",
    "                 ('model', model) \n",
    "])\n",
    "results = cross_val_score(pipe, X_train, y_train, cv=10)\n",
    "y_hat = pipe.fit(X_train, y_train).predict(X_test)\n",
    "print(model_name + \":\")\n",
    "print(f\"CV score on training data (mean): {round(np.mean(results), 4)}\")\n",
    "print(f\"Results on test data:             {round(accuracy_score(y_test, y_hat), 4)}\")\n"
   ]
  },
  {
   "cell_type": "markdown",
   "id": "fb67e624",
   "metadata": {},
   "source": [
    "Balancing the data did not change the results on the baseline model.  I'm not certain of the reason.  Moving on to see if balancing the data changes the results of the other models.  \n",
    "\n",
    "**Decision Tree Classifier - Unbalanced vs. Balanced**"
   ]
  },
  {
   "cell_type": "code",
   "execution_count": 174,
   "id": "12c6f5ed",
   "metadata": {
    "ExecuteTime": {
     "end_time": "2023-01-04T20:33:43.165966Z",
     "start_time": "2023-01-04T20:33:41.731516Z"
    }
   },
   "outputs": [
    {
     "name": "stdout",
     "output_type": "stream",
     "text": [
      "Decision Tree Classifier - Unbalanced:\n",
      "CV score on training data (mean): 0.9096\n",
      "Results on test data:             0.9257\n",
      "\n",
      "\n",
      "Decision Tree Classifier - Balanced:\n",
      "CV score on training data (mean): 0.9032\n",
      "Results on test data:             0.8909\n"
     ]
    }
   ],
   "source": [
    "model_name = \"Decision Tree Classifier - Unbalanced\"\n",
    "model = DecisionTreeClassifier(random_state=42)\n",
    "pipe = Pipeline([('ct',CT),\n",
    "                 ('model', model) \n",
    "])\n",
    "results = cross_val_score(pipe, X_train, y_train, cv=10)\n",
    "y_hat = pipe.fit(X_train, y_train).predict(X_test)\n",
    "print(model_name + \":\")\n",
    "print(f\"CV score on training data (mean): {round(np.mean(results), 4)}\")\n",
    "print(f\"Results on test data:             {round(accuracy_score(y_test, y_hat), 4)}\")\n",
    "\n",
    "print(\"\\n\")\n",
    "\n",
    "model_name = \"Decision Tree Classifier - Balanced\"\n",
    "model = DecisionTreeClassifier(random_state=42)\n",
    "pipe = ImPipeline([('ct',CT),\n",
    "                   ('sm', SMOTE(sampling_strategy='auto', random_state=42)),\n",
    "                   ('model', model) \n",
    "])\n",
    "results = cross_val_score(pipe, X_train, y_train, cv=10)\n",
    "y_hat = pipe.fit(X_train, y_train).predict(X_test)\n",
    "print(model_name + \":\")\n",
    "print(f\"CV score on training data (mean): {round(np.mean(results), 4)}\")\n",
    "print(f\"Results on test data:             {round(accuracy_score(y_test, y_hat), 4)}\")"
   ]
  },
  {
   "cell_type": "markdown",
   "id": "3340accc",
   "metadata": {
    "ExecuteTime": {
     "end_time": "2023-01-03T23:53:21.687563Z",
     "start_time": "2023-01-03T23:53:21.681611Z"
    }
   },
   "source": [
    "Balancing the data decreased the accuracy of the model on test data.   \n",
    "\n",
    "**KNearestNeighbors Classifier - Unbalanced vs. Balanced**"
   ]
  },
  {
   "cell_type": "code",
   "execution_count": 179,
   "id": "0dec16c3",
   "metadata": {
    "ExecuteTime": {
     "end_time": "2023-01-04T20:48:37.947406Z",
     "start_time": "2023-01-04T20:48:34.935332Z"
    }
   },
   "outputs": [
    {
     "name": "stdout",
     "output_type": "stream",
     "text": [
      "KNearestNeighbors Classifier - Unbalanced:\n",
      "CV score on training data (mean): 0.884\n",
      "Results on test data:             0.8837\n",
      "\n",
      "\n",
      "KNearestNeighbors Classifier - Balanced:\n",
      "CV score on training data (mean): 0.7607\n",
      "Results on test data:             0.759\n"
     ]
    }
   ],
   "source": [
    "model_name = \"KNearestNeighbors Classifier - Unbalanced\"\n",
    "model = KNeighborsClassifier()\n",
    "pipe = Pipeline([('ct',CT),\n",
    "                 ('model', model) \n",
    "])\n",
    "results = cross_val_score(pipe, X_train, y_train, cv=10)\n",
    "y_hat = pipe.fit(X_train, y_train).predict(X_test)\n",
    "print(model_name + \":\")\n",
    "print(f\"CV score on training data (mean): {round(np.mean(results), 4)}\")\n",
    "print(f\"Results on test data:             {round(accuracy_score(y_test, y_hat), 4)}\")\n",
    "\n",
    "print(\"\\n\")\n",
    "\n",
    "model_name = \"KNearestNeighbors Classifier - Balanced\"\n",
    "model = KNeighborsClassifier()\n",
    "pipe = ImPipeline([('ct',CT),\n",
    "                   ('sm', SMOTE(sampling_strategy='auto', random_state=42)),\n",
    "                   ('model', model) \n",
    "])\n",
    "results = cross_val_score(pipe, X_train, y_train, cv=10)\n",
    "y_hat = pipe.fit(X_train, y_train).predict(X_test)\n",
    "print(model_name + \":\")\n",
    "print(f\"CV score on training data (mean): {round(np.mean(results), 4)}\")\n",
    "print(f\"Results on test data:             {round(accuracy_score(y_test, y_hat), 4)}\")"
   ]
  },
  {
   "cell_type": "markdown",
   "id": "fc44e9bc",
   "metadata": {
    "ExecuteTime": {
     "end_time": "2023-01-03T23:53:21.687563Z",
     "start_time": "2023-01-03T23:53:21.681611Z"
    }
   },
   "source": [
    "Balancing the data decreased the accuracy of the model on test data.   \n",
    "\n",
    "**Random Forest Classifier - Unbalanced vs. Balanced**"
   ]
  },
  {
   "cell_type": "code",
   "execution_count": 165,
   "id": "d2fafc7f",
   "metadata": {
    "ExecuteTime": {
     "end_time": "2023-01-04T20:27:29.173059Z",
     "start_time": "2023-01-04T20:27:19.006330Z"
    }
   },
   "outputs": [
    {
     "name": "stdout",
     "output_type": "stream",
     "text": [
      "Random Forest Classifier - Unbalanced:\n",
      "CV score on training data (mean): 0.9384\n",
      "Results on test data:             0.9424\n",
      "\n",
      "\n",
      "Random Forest Classifier - Balanced:\n",
      "CV score on training data (mean): 0.9408\n",
      "Results on test data:             0.9365\n"
     ]
    }
   ],
   "source": [
    "model_name = \"Random Forest Classifier - Unbalanced\"\n",
    "model = RandomForestClassifier(random_state=42)\n",
    "pipe = Pipeline([('ct',CT),\n",
    "                 ('model', model) \n",
    "])\n",
    "results = cross_val_score(pipe, X_train, y_train, cv=10)\n",
    "y_hat = pipe.fit(X_train, y_train).predict(X_test)\n",
    "print(model_name + \":\")\n",
    "print(f\"CV score on training data (mean): {round(np.mean(results), 4)}\")\n",
    "print(f\"Results on test data:             {round(accuracy_score(y_test, y_hat), 4)}\")\n",
    "\n",
    "print(\"\\n\")\n",
    "\n",
    "model_name = \"Random Forest Classifier - Balanced\"\n",
    "model = RandomForestClassifier(random_state=42)\n",
    "pipe = ImPipeline([('ct',CT),\n",
    "                   ('sm', SMOTE(sampling_strategy='auto', random_state=42)),\n",
    "                   ('model', model) \n",
    "])\n",
    "results = cross_val_score(pipe, X_train, y_train, cv=10)\n",
    "y_hat = pipe.fit(X_train, y_train).predict(X_test)\n",
    "print(model_name + \":\")\n",
    "print(f\"CV score on training data (mean): {round(np.mean(results), 4)}\")\n",
    "print(f\"Results on test data:             {round(accuracy_score(y_test, y_hat), 4)}\")"
   ]
  },
  {
   "cell_type": "markdown",
   "id": "e5ea5bc5",
   "metadata": {},
   "source": [
    "Balancing the decreased the accuracy of the model on test data."
   ]
  },
  {
   "cell_type": "markdown",
   "id": "70f7ca28",
   "metadata": {
    "ExecuteTime": {
     "end_time": "2023-01-04T02:27:45.865952Z",
     "start_time": "2023-01-04T02:27:45.846042Z"
    }
   },
   "source": [
    "**GuassianNB Classifier - Unbalanced vs. Balanced**"
   ]
  },
  {
   "cell_type": "code",
   "execution_count": 166,
   "id": "6d87c553",
   "metadata": {
    "ExecuteTime": {
     "end_time": "2023-01-04T20:27:29.931085Z",
     "start_time": "2023-01-04T20:27:29.341230Z"
    }
   },
   "outputs": [
    {
     "name": "stdout",
     "output_type": "stream",
     "text": [
      "GuassianNB Classifier - Unbalanced:\n",
      "CV score on training data (mean): 0.5658\n",
      "Results on test data:             0.5815\n",
      "\n",
      "\n",
      "GuassianNB Classifier - Balanced:\n",
      "CV score on training data (mean): 0.5594\n",
      "Results on test data:             0.5647\n"
     ]
    }
   ],
   "source": [
    "model_name = \"GuassianNB Classifier - Unbalanced\"\n",
    "model = GaussianNB()\n",
    "pipe = Pipeline([('ct',CT),\n",
    "                 ('model', model) \n",
    "])\n",
    "results = cross_val_score(pipe, X_train, y_train, cv=10)\n",
    "y_hat = pipe.fit(X_train, y_train).predict(X_test)\n",
    "print(model_name + \":\")\n",
    "print(f\"CV score on training data (mean): {round(np.mean(results), 4)}\")\n",
    "print(f\"Results on test data:             {round(accuracy_score(y_test, y_hat), 4)}\")\n",
    "\n",
    "print(\"\\n\")\n",
    "\n",
    "model_name = \"GuassianNB Classifier - Balanced\"\n",
    "model = GaussianNB()\n",
    "pipe = ImPipeline([('ct',CT),\n",
    "                   ('sm', SMOTE(sampling_strategy='auto', random_state=42)),\n",
    "                   ('model', model) \n",
    "])\n",
    "results = cross_val_score(pipe, X_train, y_train, cv=10)\n",
    "y_hat = pipe.fit(X_train, y_train).predict(X_test)\n",
    "print(model_name + \":\")\n",
    "print(f\"CV score on training data (mean): {round(np.mean(results), 4)}\")\n",
    "print(f\"Results on test data:             {round(accuracy_score(y_test, y_hat), 4)}\")"
   ]
  },
  {
   "cell_type": "markdown",
   "id": "7e537cb2",
   "metadata": {},
   "source": [
    "Balancing the decreased the accuracy of the model.   "
   ]
  },
  {
   "cell_type": "markdown",
   "id": "093153d7",
   "metadata": {
    "ExecuteTime": {
     "end_time": "2023-01-04T02:27:45.865952Z",
     "start_time": "2023-01-04T02:27:45.846042Z"
    }
   },
   "source": [
    "**C-Support Vector Classifier - Unbalanced vs. Balanced**"
   ]
  },
  {
   "cell_type": "code",
   "execution_count": 169,
   "id": "1e3ad7d0",
   "metadata": {
    "ExecuteTime": {
     "end_time": "2023-01-04T20:29:54.476399Z",
     "start_time": "2023-01-04T20:29:46.101757Z"
    }
   },
   "outputs": [
    {
     "name": "stdout",
     "output_type": "stream",
     "text": [
      "SVC Classifier - Unbalanced:\n",
      "CV score on training data (mean): 0.9032\n",
      "Results on test data:             0.9221\n",
      "\n",
      "\n",
      "SVC Classifier - Balanced:\n",
      "CV score on training data (mean): 0.9016\n",
      "Results on test data:             0.9113\n"
     ]
    }
   ],
   "source": [
    "model_name = \"SVC Classifier - Unbalanced\"\n",
    "model = SVC(random_state=42)\n",
    "pipe = Pipeline([('ct',CT),\n",
    "                 ('model', model) \n",
    "])\n",
    "results = cross_val_score(pipe, X_train, y_train, cv=10)\n",
    "y_hat = pipe.fit(X_train, y_train).predict(X_test)\n",
    "print(model_name + \":\")\n",
    "print(f\"CV score on training data (mean): {round(np.mean(results), 4)}\")\n",
    "print(f\"Results on test data:             {round(accuracy_score(y_test, y_hat), 4)}\")\n",
    "\n",
    "print(\"\\n\")\n",
    "\n",
    "model_name = \"SVC Classifier - Balanced\"\n",
    "model = SVC(random_state=42)\n",
    "pipe = ImPipeline([('ct',CT),\n",
    "                   ('sm', SMOTE(sampling_strategy='auto', random_state=42)),    \n",
    "                   ('model', model) \n",
    "])\n",
    "results = cross_val_score(pipe, X_train, y_train, cv=10)\n",
    "y_hat = pipe.fit(X_train, y_train).predict(X_test)\n",
    "print(model_name + \":\")\n",
    "print(f\"CV score on training data (mean): {round(np.mean(results), 4)}\")\n",
    "print(f\"Results on test data:             {round(accuracy_score(y_test, y_hat), 4)}\")"
   ]
  },
  {
   "cell_type": "markdown",
   "id": "c0c2d694",
   "metadata": {
    "ExecuteTime": {
     "end_time": "2023-01-04T02:27:45.865952Z",
     "start_time": "2023-01-04T02:27:45.846042Z"
    }
   },
   "source": [
    "Balancing the data decreased the accuracy of the model.   \n",
    "\n",
    "**Gradient Booster Classifier - Unbalanced vs. Balanced**"
   ]
  },
  {
   "cell_type": "code",
   "execution_count": 180,
   "id": "a30d28b6",
   "metadata": {
    "ExecuteTime": {
     "end_time": "2023-01-04T20:50:52.295563Z",
     "start_time": "2023-01-04T20:50:28.152476Z"
    }
   },
   "outputs": [
    {
     "name": "stdout",
     "output_type": "stream",
     "text": [
      "Gradient Booster Classifier - Unbalanced:\n",
      "CV score on training data (mean): 0.9492\n",
      "Results on test data:             0.9496\n",
      "\n",
      "\n",
      "Gradient Booster Classifier - Balanced:\n",
      "CV score on training data (mean): 0.9364\n",
      "Results on test data:             0.9448\n"
     ]
    }
   ],
   "source": [
    "model_name = \"Gradient Booster Classifier - Unbalanced\"\n",
    "model = GradientBoostingClassifier(random_state=42)\n",
    "pipe = Pipeline([('ct', CT), \n",
    "                 ('model', GradientBoostingClassifier(random_state=42))\n",
    "])\n",
    "results = cross_val_score(pipe, X_train, y_train, cv=10)\n",
    "y_hat = pipe.fit(X_train, y_train).predict(X_test)\n",
    "print(model_name + \":\")\n",
    "print(f\"CV score on training data (mean): {round(np.mean(results), 4)}\")\n",
    "print(f\"Results on test data:             {round(accuracy_score(y_test, y_hat), 4)}\")\n",
    "\n",
    "print(\"\\n\")\n",
    "\n",
    "model_name = \"Gradient Booster Classifier - Balanced\"\n",
    "model = GradientBoostingClassifier(random_state=42)\n",
    "pipe = ImPipeline([('ct', CT), \n",
    "                   ('sm', SMOTE(sampling_strategy='auto', random_state=42)),\n",
    "                   ('model', GradientBoostingClassifier(random_state=42))\n",
    "])\n",
    "results = cross_val_score(pipe, X_train, y_train, cv=10)\n",
    "y_hat = pipe.fit(X_train, y_train).predict(X_test)\n",
    "print(model_name + \":\")\n",
    "print(f\"CV score on training data (mean): {round(np.mean(results), 4)}\")\n",
    "print(f\"Results on test data:             {round(accuracy_score(y_test, y_hat), 4)}\")"
   ]
  },
  {
   "cell_type": "markdown",
   "id": "8acef76c",
   "metadata": {},
   "source": [
    "Balancing the data decreased the accuracy of the model.  \n",
    "\n",
    "**Logistic Regression Classifier - Unbalanced vs. Balanced**"
   ]
  },
  {
   "cell_type": "code",
   "execution_count": 184,
   "id": "b6b20f57",
   "metadata": {
    "ExecuteTime": {
     "end_time": "2023-01-04T20:55:17.862648Z",
     "start_time": "2023-01-04T20:55:16.442609Z"
    }
   },
   "outputs": [
    {
     "name": "stdout",
     "output_type": "stream",
     "text": [
      "Logistic Regression Classifier - Unbalanced:\n",
      "CV score on training data (mean): 0.8591\n",
      "Results on test data:             0.8573\n",
      "\n",
      "\n",
      "Logistic Regression Classifier - Balanced:\n",
      "CV score on training data (mean): 0.7639\n",
      "Results on test data:             0.777\n"
     ]
    }
   ],
   "source": [
    "model_name = \"Logistic Regression Classifier - Unbalanced\"\n",
    "model = LogisticRegression(random_state=42, max_iter=1000)\n",
    "pipe = Pipeline([('ct',CT),\n",
    "                 ('model', model) \n",
    "])\n",
    "results = cross_val_score(pipe, X_train, y_train, cv=10)\n",
    "y_hat = pipe.fit(X_train, y_train).predict(X_test)\n",
    "print(model_name + \":\")\n",
    "print(f\"CV score on training data (mean): {round(np.mean(results), 4)}\")\n",
    "print(f\"Results on test data:             {round(accuracy_score(y_test, y_hat), 4)}\")\n",
    "\n",
    "print(\"\\n\")\n",
    "\n",
    "model_name = \"Logistic Regression Classifier - Balanced\"\n",
    "model = LogisticRegression(random_state=42, max_iter=1000)\n",
    "pipe = ImPipeline([('ct',CT),\n",
    "                   ('sm', SMOTE(sampling_strategy='auto', random_state=42)),\n",
    "                   ('model', model) \n",
    "])\n",
    "results = cross_val_score(pipe, X_train, y_train, cv=10)\n",
    "y_hat = pipe.fit(X_train, y_train).predict(X_test)\n",
    "print(model_name + \":\")\n",
    "print(f\"CV score on training data (mean): {round(np.mean(results), 4)}\")\n",
    "print(f\"Results on test data:             {round(accuracy_score(y_test, y_hat), 4)}\")\n"
   ]
  },
  {
   "cell_type": "markdown",
   "id": "187df9c4",
   "metadata": {},
   "source": [
    "Using SMOTE to balance the data decreased the accuracy of all of the models.  It appears that using data as is (85/15) is not that bad for the models.  This would align with the 90/10 threshold discussed during our class.  As such, I will not use balanced data going forward in the next round of modeling.  "
   ]
  }
 ],
 "metadata": {
  "kernelspec": {
   "display_name": "Python 3",
   "language": "python",
   "name": "python3"
  },
  "language_info": {
   "codemirror_mode": {
    "name": "ipython",
    "version": 3
   },
   "file_extension": ".py",
   "mimetype": "text/x-python",
   "name": "python",
   "nbconvert_exporter": "python",
   "pygments_lexer": "ipython3",
   "version": "3.8.5"
  },
  "toc": {
   "base_numbering": 1,
   "nav_menu": {},
   "number_sections": true,
   "sideBar": true,
   "skip_h1_title": false,
   "title_cell": "Table of Contents",
   "title_sidebar": "Contents",
   "toc_cell": false,
   "toc_position": {},
   "toc_section_display": true,
   "toc_window_display": false
  },
  "varInspector": {
   "cols": {
    "lenName": 16,
    "lenType": 16,
    "lenVar": 40
   },
   "kernels_config": {
    "python": {
     "delete_cmd_postfix": "",
     "delete_cmd_prefix": "del ",
     "library": "var_list.py",
     "varRefreshCmd": "print(var_dic_list())"
    },
    "r": {
     "delete_cmd_postfix": ") ",
     "delete_cmd_prefix": "rm(",
     "library": "var_list.r",
     "varRefreshCmd": "cat(var_dic_list()) "
    }
   },
   "types_to_exclude": [
    "module",
    "function",
    "builtin_function_or_method",
    "instance",
    "_Feature"
   ],
   "window_display": false
  }
 },
 "nbformat": 4,
 "nbformat_minor": 5
}
