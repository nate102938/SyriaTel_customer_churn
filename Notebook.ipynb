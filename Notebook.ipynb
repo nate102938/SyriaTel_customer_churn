{
 "cells": [
  {
   "cell_type": "markdown",
   "id": "4d9d733a",
   "metadata": {},
   "source": [
    "![header](./images/header2.jpg)"
   ]
  },
  {
   "cell_type": "markdown",
   "id": "2f853285",
   "metadata": {},
   "source": [
    "## Predicting Customer Churn using Classification Machine Learning\n",
    "\n",
    "**Author**: [Nate Kist](mailto:natekist@outlook.com)\n"
   ]
  },
  {
   "cell_type": "markdown",
   "id": "f9c37e85",
   "metadata": {},
   "source": [
    "## Overview"
   ]
  },
  {
   "cell_type": "markdown",
   "id": "8f714ff7",
   "metadata": {},
   "source": [
    "I analyzed a database of customer data from SyriaTel to determine which customers were churning the most and to predict if a customer was likely to churn soon.  Correct prediction of this type of binary classification can be used by SyriaTel as an early warning system indicating customers at risk of leaving.  From there, SyriaTel can then make business decisions of what to offer its at risk customers in the form of incentives to stay.  \n",
    "\n",
    "It was found that customers from Maryland, New Jersey, and Texas were churning the most.  Similarly, customers with international plans and customers with 5 or more customer service calls were churning at higher rates.  It was recommended that SyriaTel look into the real-world drivers of these identified issues.  \n",
    "\n",
    "In the end, I created a classification model that correctly predicted churn with 96% accuracy.  It was recommended that SyriaTel implement this model in its active marketing strategy to prevent loss of customers.  "
   ]
  },
  {
   "cell_type": "markdown",
   "id": "2fc6ecce",
   "metadata": {
    "ExecuteTime": {
     "end_time": "2023-01-03T17:01:01.945184Z",
     "start_time": "2023-01-03T17:01:01.936156Z"
    }
   },
   "source": [
    "## Business Understanding"
   ]
  },
  {
   "cell_type": "markdown",
   "id": "aaa27a76",
   "metadata": {},
   "source": [
    "SyriaTel, a US-based telecommunications company, asked me (Nate Kist, of CRM Consulting) to perform an analysis on its customer data to:\n",
    "1. Provide insight on groups of customers that are churning at higher rates, and\n",
    "2. Create a model that can predict whether a customer will churn."
   ]
  },
  {
   "cell_type": "markdown",
   "id": "60034018",
   "metadata": {},
   "source": [
    "## Data Understanding"
   ]
  },
  {
   "cell_type": "markdown",
   "id": "0512267e",
   "metadata": {},
   "source": [
    "#### Imports"
   ]
  },
  {
   "cell_type": "code",
   "execution_count": 1,
   "id": "dd3f1f39",
   "metadata": {
    "ExecuteTime": {
     "end_time": "2023-01-09T04:02:57.110640Z",
     "start_time": "2023-01-09T04:02:52.730907Z"
    }
   },
   "outputs": [],
   "source": [
    "# Data/numerical analysis libriaries\n",
    "import pandas as pd\n",
    "import numpy as np\n",
    "\n",
    "# Visualization libraries\n",
    "from matplotlib import pyplot as plt\n",
    "import seaborn as sns\n",
    "\n",
    "# ML libraries\n",
    "from sklearn.model_selection import train_test_split, GridSearchCV, cross_val_score\n",
    "from sklearn.pipeline import Pipeline\n",
    "from sklearn.preprocessing import StandardScaler, OneHotEncoder, FunctionTransformer, LabelEncoder\n",
    "from sklearn.impute import SimpleImputer\n",
    "from sklearn.compose import ColumnTransformer,  make_column_selector as selector\n",
    "from sklearn.linear_model import LogisticRegression\n",
    "from sklearn.ensemble import RandomForestClassifier, GradientBoostingClassifier, AdaBoostClassifier\n",
    "from sklearn.naive_bayes import MultinomialNB, GaussianNB\n",
    "from sklearn.metrics import roc_curve, auc, confusion_matrix, classification_report, plot_confusion_matrix, recall_score,\\\n",
    "    accuracy_score, precision_score, f1_score\n",
    "from imblearn.over_sampling import SMOTE\n",
    "from imblearn.pipeline import Pipeline as ImPipeline\n",
    "from sklearn.dummy import DummyClassifier\n",
    "from sklearn.tree import DecisionTreeClassifier\n",
    "from sklearn.neighbors import KNeighborsClassifier\n",
    "from sklearn.svm import SVC\n",
    "from xgboost import XGBClassifier"
   ]
  },
  {
   "cell_type": "markdown",
   "id": "5453e2ea",
   "metadata": {
    "ExecuteTime": {
     "end_time": "2023-01-03T17:35:56.836895Z",
     "start_time": "2023-01-03T17:35:56.823968Z"
    }
   },
   "source": [
    "#### Functions and Constants"
   ]
  },
  {
   "cell_type": "code",
   "execution_count": 2,
   "id": "1581da47",
   "metadata": {
    "ExecuteTime": {
     "end_time": "2023-01-09T04:02:57.126422Z",
     "start_time": "2023-01-09T04:02:57.116191Z"
    }
   },
   "outputs": [],
   "source": [
    "# Train / test / split: test size.  \n",
    "test_size = .35\n",
    "\n",
    "def cross_val_and_print_results_on_model(model_name,pipe, X_tr, y_tr, X_te, y_te):\n",
    "    results = cross_val_score(pipe, X_tr, y_tr, cv=10)\n",
    "    y_hat = pipe.fit(X_tr, y_tr).predict(X_te)\n",
    "    print(model_name + \":\")\n",
    "    print(f\"Training data - accuracy:          {round(np.mean(results), 4)}\")\n",
    "    print(f\"Test data - accruacy:              {round(accuracy_score(y_te, y_hat), 4)}\")\n",
    "    matrix=classification_report(y_te, y_hat)\n",
    "    print(\"Classification report:\\n\", matrix)\n",
    "    \n",
    "    \n",
    "def grid_search_and_print_results(params, pipe, X_tr, y_tr, X_te, y_te):\n",
    "    gs = GridSearchCV(estimator=pipe,param_grid=params, cv=5, verbose=1)\n",
    "    gs.fit(X_tr, y_tr)\n",
    "    print(\"Results:\")\n",
    "    print(\"- Best params: \", gs.best_params_)\n",
    "    print(\"- Best score: \", gs.best_score_)\n",
    "    print(\"- Test data score: \", gs.best_estimator_.score(X_te, y_te))"
   ]
  },
  {
   "cell_type": "markdown",
   "id": "d26278e9",
   "metadata": {},
   "source": [
    "#### Importing data"
   ]
  },
  {
   "cell_type": "code",
   "execution_count": 3,
   "id": "e9060daf",
   "metadata": {
    "ExecuteTime": {
     "end_time": "2023-01-09T04:02:57.182679Z",
     "start_time": "2023-01-09T04:02:57.129281Z"
    }
   },
   "outputs": [
    {
     "data": {
      "text/html": [
       "<div>\n",
       "<style scoped>\n",
       "    .dataframe tbody tr th:only-of-type {\n",
       "        vertical-align: middle;\n",
       "    }\n",
       "\n",
       "    .dataframe tbody tr th {\n",
       "        vertical-align: top;\n",
       "    }\n",
       "\n",
       "    .dataframe thead th {\n",
       "        text-align: right;\n",
       "    }\n",
       "</style>\n",
       "<table border=\"1\" class=\"dataframe\">\n",
       "  <thead>\n",
       "    <tr style=\"text-align: right;\">\n",
       "      <th></th>\n",
       "      <th>state</th>\n",
       "      <th>account length</th>\n",
       "      <th>area code</th>\n",
       "      <th>phone number</th>\n",
       "      <th>international plan</th>\n",
       "      <th>voice mail plan</th>\n",
       "      <th>number vmail messages</th>\n",
       "      <th>total day minutes</th>\n",
       "      <th>total day calls</th>\n",
       "      <th>total day charge</th>\n",
       "      <th>...</th>\n",
       "      <th>total eve calls</th>\n",
       "      <th>total eve charge</th>\n",
       "      <th>total night minutes</th>\n",
       "      <th>total night calls</th>\n",
       "      <th>total night charge</th>\n",
       "      <th>total intl minutes</th>\n",
       "      <th>total intl calls</th>\n",
       "      <th>total intl charge</th>\n",
       "      <th>customer service calls</th>\n",
       "      <th>churn</th>\n",
       "    </tr>\n",
       "  </thead>\n",
       "  <tbody>\n",
       "    <tr>\n",
       "      <th>0</th>\n",
       "      <td>KS</td>\n",
       "      <td>128</td>\n",
       "      <td>415</td>\n",
       "      <td>382-4657</td>\n",
       "      <td>no</td>\n",
       "      <td>yes</td>\n",
       "      <td>25</td>\n",
       "      <td>265.1</td>\n",
       "      <td>110</td>\n",
       "      <td>45.07</td>\n",
       "      <td>...</td>\n",
       "      <td>99</td>\n",
       "      <td>16.78</td>\n",
       "      <td>244.7</td>\n",
       "      <td>91</td>\n",
       "      <td>11.01</td>\n",
       "      <td>10.0</td>\n",
       "      <td>3</td>\n",
       "      <td>2.70</td>\n",
       "      <td>1</td>\n",
       "      <td>False</td>\n",
       "    </tr>\n",
       "    <tr>\n",
       "      <th>1</th>\n",
       "      <td>OH</td>\n",
       "      <td>107</td>\n",
       "      <td>415</td>\n",
       "      <td>371-7191</td>\n",
       "      <td>no</td>\n",
       "      <td>yes</td>\n",
       "      <td>26</td>\n",
       "      <td>161.6</td>\n",
       "      <td>123</td>\n",
       "      <td>27.47</td>\n",
       "      <td>...</td>\n",
       "      <td>103</td>\n",
       "      <td>16.62</td>\n",
       "      <td>254.4</td>\n",
       "      <td>103</td>\n",
       "      <td>11.45</td>\n",
       "      <td>13.7</td>\n",
       "      <td>3</td>\n",
       "      <td>3.70</td>\n",
       "      <td>1</td>\n",
       "      <td>False</td>\n",
       "    </tr>\n",
       "    <tr>\n",
       "      <th>2</th>\n",
       "      <td>NJ</td>\n",
       "      <td>137</td>\n",
       "      <td>415</td>\n",
       "      <td>358-1921</td>\n",
       "      <td>no</td>\n",
       "      <td>no</td>\n",
       "      <td>0</td>\n",
       "      <td>243.4</td>\n",
       "      <td>114</td>\n",
       "      <td>41.38</td>\n",
       "      <td>...</td>\n",
       "      <td>110</td>\n",
       "      <td>10.30</td>\n",
       "      <td>162.6</td>\n",
       "      <td>104</td>\n",
       "      <td>7.32</td>\n",
       "      <td>12.2</td>\n",
       "      <td>5</td>\n",
       "      <td>3.29</td>\n",
       "      <td>0</td>\n",
       "      <td>False</td>\n",
       "    </tr>\n",
       "    <tr>\n",
       "      <th>3</th>\n",
       "      <td>OH</td>\n",
       "      <td>84</td>\n",
       "      <td>408</td>\n",
       "      <td>375-9999</td>\n",
       "      <td>yes</td>\n",
       "      <td>no</td>\n",
       "      <td>0</td>\n",
       "      <td>299.4</td>\n",
       "      <td>71</td>\n",
       "      <td>50.90</td>\n",
       "      <td>...</td>\n",
       "      <td>88</td>\n",
       "      <td>5.26</td>\n",
       "      <td>196.9</td>\n",
       "      <td>89</td>\n",
       "      <td>8.86</td>\n",
       "      <td>6.6</td>\n",
       "      <td>7</td>\n",
       "      <td>1.78</td>\n",
       "      <td>2</td>\n",
       "      <td>False</td>\n",
       "    </tr>\n",
       "    <tr>\n",
       "      <th>4</th>\n",
       "      <td>OK</td>\n",
       "      <td>75</td>\n",
       "      <td>415</td>\n",
       "      <td>330-6626</td>\n",
       "      <td>yes</td>\n",
       "      <td>no</td>\n",
       "      <td>0</td>\n",
       "      <td>166.7</td>\n",
       "      <td>113</td>\n",
       "      <td>28.34</td>\n",
       "      <td>...</td>\n",
       "      <td>122</td>\n",
       "      <td>12.61</td>\n",
       "      <td>186.9</td>\n",
       "      <td>121</td>\n",
       "      <td>8.41</td>\n",
       "      <td>10.1</td>\n",
       "      <td>3</td>\n",
       "      <td>2.73</td>\n",
       "      <td>3</td>\n",
       "      <td>False</td>\n",
       "    </tr>\n",
       "  </tbody>\n",
       "</table>\n",
       "<p>5 rows × 21 columns</p>\n",
       "</div>"
      ],
      "text/plain": [
       "  state  account length  area code phone number international plan  \\\n",
       "0    KS             128        415     382-4657                 no   \n",
       "1    OH             107        415     371-7191                 no   \n",
       "2    NJ             137        415     358-1921                 no   \n",
       "3    OH              84        408     375-9999                yes   \n",
       "4    OK              75        415     330-6626                yes   \n",
       "\n",
       "  voice mail plan  number vmail messages  total day minutes  total day calls  \\\n",
       "0             yes                     25              265.1              110   \n",
       "1             yes                     26              161.6              123   \n",
       "2              no                      0              243.4              114   \n",
       "3              no                      0              299.4               71   \n",
       "4              no                      0              166.7              113   \n",
       "\n",
       "   total day charge  ...  total eve calls  total eve charge  \\\n",
       "0             45.07  ...               99             16.78   \n",
       "1             27.47  ...              103             16.62   \n",
       "2             41.38  ...              110             10.30   \n",
       "3             50.90  ...               88              5.26   \n",
       "4             28.34  ...              122             12.61   \n",
       "\n",
       "   total night minutes  total night calls  total night charge  \\\n",
       "0                244.7                 91               11.01   \n",
       "1                254.4                103               11.45   \n",
       "2                162.6                104                7.32   \n",
       "3                196.9                 89                8.86   \n",
       "4                186.9                121                8.41   \n",
       "\n",
       "   total intl minutes  total intl calls  total intl charge  \\\n",
       "0                10.0                 3               2.70   \n",
       "1                13.7                 3               3.70   \n",
       "2                12.2                 5               3.29   \n",
       "3                 6.6                 7               1.78   \n",
       "4                10.1                 3               2.73   \n",
       "\n",
       "   customer service calls  churn  \n",
       "0                       1  False  \n",
       "1                       1  False  \n",
       "2                       0  False  \n",
       "3                       2  False  \n",
       "4                       3  False  \n",
       "\n",
       "[5 rows x 21 columns]"
      ]
     },
     "execution_count": 3,
     "metadata": {},
     "output_type": "execute_result"
    }
   ],
   "source": [
    "df = pd.read_csv('data/bigml_59c28831336c6604c800002a.csv')\n",
    "df.head()"
   ]
  },
  {
   "cell_type": "markdown",
   "id": "69497a01",
   "metadata": {},
   "source": [
    "#### Data review and cleaning"
   ]
  },
  {
   "cell_type": "markdown",
   "id": "e566ed35",
   "metadata": {},
   "source": [
    "Review and fix the feature names to be more code friendly. "
   ]
  },
  {
   "cell_type": "code",
   "execution_count": 4,
   "id": "909f9329",
   "metadata": {
    "ExecuteTime": {
     "end_time": "2023-01-09T04:02:57.197509Z",
     "start_time": "2023-01-09T04:02:57.184961Z"
    }
   },
   "outputs": [
    {
     "data": {
      "text/plain": [
       "Index(['state', 'account length', 'area code', 'phone number',\n",
       "       'international plan', 'voice mail plan', 'number vmail messages',\n",
       "       'total day minutes', 'total day calls', 'total day charge',\n",
       "       'total eve minutes', 'total eve calls', 'total eve charge',\n",
       "       'total night minutes', 'total night calls', 'total night charge',\n",
       "       'total intl minutes', 'total intl calls', 'total intl charge',\n",
       "       'customer service calls', 'churn'],\n",
       "      dtype='object')"
      ]
     },
     "execution_count": 4,
     "metadata": {},
     "output_type": "execute_result"
    }
   ],
   "source": [
    "# View column names\n",
    "df.columns"
   ]
  },
  {
   "cell_type": "code",
   "execution_count": 5,
   "id": "a5837b5b",
   "metadata": {
    "ExecuteTime": {
     "end_time": "2023-01-09T04:02:57.217791Z",
     "start_time": "2023-01-09T04:02:57.200581Z"
    },
    "scrolled": true
   },
   "outputs": [
    {
     "data": {
      "text/plain": [
       "Index(['state', 'account_length', 'area_code', 'phone_number',\n",
       "       'international_plan', 'voice_mail_plan', 'number_vmail_messages',\n",
       "       'total_day_minutes', 'total_day_calls', 'total_day_charge',\n",
       "       'total_eve_minutes', 'total_eve_calls', 'total_eve_charge',\n",
       "       'total_night_minutes', 'total_night_calls', 'total_night_charge',\n",
       "       'total_intl_minutes', 'total_intl_calls', 'total_intl_charge',\n",
       "       'customer_service_calls', 'churn'],\n",
       "      dtype='object')"
      ]
     },
     "execution_count": 5,
     "metadata": {},
     "output_type": "execute_result"
    }
   ],
   "source": [
    "# Rename columns\n",
    "df.columns = df.columns.str.replace(\" \", \"_\")\n",
    "df.columns"
   ]
  },
  {
   "cell_type": "markdown",
   "id": "043f9855",
   "metadata": {},
   "source": [
    "Check out the features we have and if there are any null values."
   ]
  },
  {
   "cell_type": "code",
   "execution_count": 6,
   "id": "2ed8f352",
   "metadata": {
    "ExecuteTime": {
     "end_time": "2023-01-09T04:02:57.281155Z",
     "start_time": "2023-01-09T04:02:57.223825Z"
    },
    "scrolled": true
   },
   "outputs": [
    {
     "data": {
      "text/html": [
       "<div>\n",
       "<style scoped>\n",
       "    .dataframe tbody tr th:only-of-type {\n",
       "        vertical-align: middle;\n",
       "    }\n",
       "\n",
       "    .dataframe tbody tr th {\n",
       "        vertical-align: top;\n",
       "    }\n",
       "\n",
       "    .dataframe thead th {\n",
       "        text-align: right;\n",
       "    }\n",
       "</style>\n",
       "<table border=\"1\" class=\"dataframe\">\n",
       "  <thead>\n",
       "    <tr style=\"text-align: right;\">\n",
       "      <th></th>\n",
       "      <th>state</th>\n",
       "      <th>account_length</th>\n",
       "      <th>area_code</th>\n",
       "      <th>phone_number</th>\n",
       "      <th>international_plan</th>\n",
       "      <th>voice_mail_plan</th>\n",
       "      <th>number_vmail_messages</th>\n",
       "      <th>total_day_minutes</th>\n",
       "      <th>total_day_calls</th>\n",
       "      <th>total_day_charge</th>\n",
       "      <th>...</th>\n",
       "      <th>total_eve_calls</th>\n",
       "      <th>total_eve_charge</th>\n",
       "      <th>total_night_minutes</th>\n",
       "      <th>total_night_calls</th>\n",
       "      <th>total_night_charge</th>\n",
       "      <th>total_intl_minutes</th>\n",
       "      <th>total_intl_calls</th>\n",
       "      <th>total_intl_charge</th>\n",
       "      <th>customer_service_calls</th>\n",
       "      <th>churn</th>\n",
       "    </tr>\n",
       "  </thead>\n",
       "  <tbody>\n",
       "    <tr>\n",
       "      <th>0</th>\n",
       "      <td>KS</td>\n",
       "      <td>128</td>\n",
       "      <td>415</td>\n",
       "      <td>382-4657</td>\n",
       "      <td>no</td>\n",
       "      <td>yes</td>\n",
       "      <td>25</td>\n",
       "      <td>265.1</td>\n",
       "      <td>110</td>\n",
       "      <td>45.07</td>\n",
       "      <td>...</td>\n",
       "      <td>99</td>\n",
       "      <td>16.78</td>\n",
       "      <td>244.7</td>\n",
       "      <td>91</td>\n",
       "      <td>11.01</td>\n",
       "      <td>10.0</td>\n",
       "      <td>3</td>\n",
       "      <td>2.70</td>\n",
       "      <td>1</td>\n",
       "      <td>False</td>\n",
       "    </tr>\n",
       "    <tr>\n",
       "      <th>1</th>\n",
       "      <td>OH</td>\n",
       "      <td>107</td>\n",
       "      <td>415</td>\n",
       "      <td>371-7191</td>\n",
       "      <td>no</td>\n",
       "      <td>yes</td>\n",
       "      <td>26</td>\n",
       "      <td>161.6</td>\n",
       "      <td>123</td>\n",
       "      <td>27.47</td>\n",
       "      <td>...</td>\n",
       "      <td>103</td>\n",
       "      <td>16.62</td>\n",
       "      <td>254.4</td>\n",
       "      <td>103</td>\n",
       "      <td>11.45</td>\n",
       "      <td>13.7</td>\n",
       "      <td>3</td>\n",
       "      <td>3.70</td>\n",
       "      <td>1</td>\n",
       "      <td>False</td>\n",
       "    </tr>\n",
       "    <tr>\n",
       "      <th>2</th>\n",
       "      <td>NJ</td>\n",
       "      <td>137</td>\n",
       "      <td>415</td>\n",
       "      <td>358-1921</td>\n",
       "      <td>no</td>\n",
       "      <td>no</td>\n",
       "      <td>0</td>\n",
       "      <td>243.4</td>\n",
       "      <td>114</td>\n",
       "      <td>41.38</td>\n",
       "      <td>...</td>\n",
       "      <td>110</td>\n",
       "      <td>10.30</td>\n",
       "      <td>162.6</td>\n",
       "      <td>104</td>\n",
       "      <td>7.32</td>\n",
       "      <td>12.2</td>\n",
       "      <td>5</td>\n",
       "      <td>3.29</td>\n",
       "      <td>0</td>\n",
       "      <td>False</td>\n",
       "    </tr>\n",
       "    <tr>\n",
       "      <th>3</th>\n",
       "      <td>OH</td>\n",
       "      <td>84</td>\n",
       "      <td>408</td>\n",
       "      <td>375-9999</td>\n",
       "      <td>yes</td>\n",
       "      <td>no</td>\n",
       "      <td>0</td>\n",
       "      <td>299.4</td>\n",
       "      <td>71</td>\n",
       "      <td>50.90</td>\n",
       "      <td>...</td>\n",
       "      <td>88</td>\n",
       "      <td>5.26</td>\n",
       "      <td>196.9</td>\n",
       "      <td>89</td>\n",
       "      <td>8.86</td>\n",
       "      <td>6.6</td>\n",
       "      <td>7</td>\n",
       "      <td>1.78</td>\n",
       "      <td>2</td>\n",
       "      <td>False</td>\n",
       "    </tr>\n",
       "    <tr>\n",
       "      <th>4</th>\n",
       "      <td>OK</td>\n",
       "      <td>75</td>\n",
       "      <td>415</td>\n",
       "      <td>330-6626</td>\n",
       "      <td>yes</td>\n",
       "      <td>no</td>\n",
       "      <td>0</td>\n",
       "      <td>166.7</td>\n",
       "      <td>113</td>\n",
       "      <td>28.34</td>\n",
       "      <td>...</td>\n",
       "      <td>122</td>\n",
       "      <td>12.61</td>\n",
       "      <td>186.9</td>\n",
       "      <td>121</td>\n",
       "      <td>8.41</td>\n",
       "      <td>10.1</td>\n",
       "      <td>3</td>\n",
       "      <td>2.73</td>\n",
       "      <td>3</td>\n",
       "      <td>False</td>\n",
       "    </tr>\n",
       "    <tr>\n",
       "      <th>...</th>\n",
       "      <td>...</td>\n",
       "      <td>...</td>\n",
       "      <td>...</td>\n",
       "      <td>...</td>\n",
       "      <td>...</td>\n",
       "      <td>...</td>\n",
       "      <td>...</td>\n",
       "      <td>...</td>\n",
       "      <td>...</td>\n",
       "      <td>...</td>\n",
       "      <td>...</td>\n",
       "      <td>...</td>\n",
       "      <td>...</td>\n",
       "      <td>...</td>\n",
       "      <td>...</td>\n",
       "      <td>...</td>\n",
       "      <td>...</td>\n",
       "      <td>...</td>\n",
       "      <td>...</td>\n",
       "      <td>...</td>\n",
       "      <td>...</td>\n",
       "    </tr>\n",
       "    <tr>\n",
       "      <th>3328</th>\n",
       "      <td>AZ</td>\n",
       "      <td>192</td>\n",
       "      <td>415</td>\n",
       "      <td>414-4276</td>\n",
       "      <td>no</td>\n",
       "      <td>yes</td>\n",
       "      <td>36</td>\n",
       "      <td>156.2</td>\n",
       "      <td>77</td>\n",
       "      <td>26.55</td>\n",
       "      <td>...</td>\n",
       "      <td>126</td>\n",
       "      <td>18.32</td>\n",
       "      <td>279.1</td>\n",
       "      <td>83</td>\n",
       "      <td>12.56</td>\n",
       "      <td>9.9</td>\n",
       "      <td>6</td>\n",
       "      <td>2.67</td>\n",
       "      <td>2</td>\n",
       "      <td>False</td>\n",
       "    </tr>\n",
       "    <tr>\n",
       "      <th>3329</th>\n",
       "      <td>WV</td>\n",
       "      <td>68</td>\n",
       "      <td>415</td>\n",
       "      <td>370-3271</td>\n",
       "      <td>no</td>\n",
       "      <td>no</td>\n",
       "      <td>0</td>\n",
       "      <td>231.1</td>\n",
       "      <td>57</td>\n",
       "      <td>39.29</td>\n",
       "      <td>...</td>\n",
       "      <td>55</td>\n",
       "      <td>13.04</td>\n",
       "      <td>191.3</td>\n",
       "      <td>123</td>\n",
       "      <td>8.61</td>\n",
       "      <td>9.6</td>\n",
       "      <td>4</td>\n",
       "      <td>2.59</td>\n",
       "      <td>3</td>\n",
       "      <td>False</td>\n",
       "    </tr>\n",
       "    <tr>\n",
       "      <th>3330</th>\n",
       "      <td>RI</td>\n",
       "      <td>28</td>\n",
       "      <td>510</td>\n",
       "      <td>328-8230</td>\n",
       "      <td>no</td>\n",
       "      <td>no</td>\n",
       "      <td>0</td>\n",
       "      <td>180.8</td>\n",
       "      <td>109</td>\n",
       "      <td>30.74</td>\n",
       "      <td>...</td>\n",
       "      <td>58</td>\n",
       "      <td>24.55</td>\n",
       "      <td>191.9</td>\n",
       "      <td>91</td>\n",
       "      <td>8.64</td>\n",
       "      <td>14.1</td>\n",
       "      <td>6</td>\n",
       "      <td>3.81</td>\n",
       "      <td>2</td>\n",
       "      <td>False</td>\n",
       "    </tr>\n",
       "    <tr>\n",
       "      <th>3331</th>\n",
       "      <td>CT</td>\n",
       "      <td>184</td>\n",
       "      <td>510</td>\n",
       "      <td>364-6381</td>\n",
       "      <td>yes</td>\n",
       "      <td>no</td>\n",
       "      <td>0</td>\n",
       "      <td>213.8</td>\n",
       "      <td>105</td>\n",
       "      <td>36.35</td>\n",
       "      <td>...</td>\n",
       "      <td>84</td>\n",
       "      <td>13.57</td>\n",
       "      <td>139.2</td>\n",
       "      <td>137</td>\n",
       "      <td>6.26</td>\n",
       "      <td>5.0</td>\n",
       "      <td>10</td>\n",
       "      <td>1.35</td>\n",
       "      <td>2</td>\n",
       "      <td>False</td>\n",
       "    </tr>\n",
       "    <tr>\n",
       "      <th>3332</th>\n",
       "      <td>TN</td>\n",
       "      <td>74</td>\n",
       "      <td>415</td>\n",
       "      <td>400-4344</td>\n",
       "      <td>no</td>\n",
       "      <td>yes</td>\n",
       "      <td>25</td>\n",
       "      <td>234.4</td>\n",
       "      <td>113</td>\n",
       "      <td>39.85</td>\n",
       "      <td>...</td>\n",
       "      <td>82</td>\n",
       "      <td>22.60</td>\n",
       "      <td>241.4</td>\n",
       "      <td>77</td>\n",
       "      <td>10.86</td>\n",
       "      <td>13.7</td>\n",
       "      <td>4</td>\n",
       "      <td>3.70</td>\n",
       "      <td>0</td>\n",
       "      <td>False</td>\n",
       "    </tr>\n",
       "  </tbody>\n",
       "</table>\n",
       "<p>3333 rows × 21 columns</p>\n",
       "</div>"
      ],
      "text/plain": [
       "     state  account_length  area_code phone_number international_plan  \\\n",
       "0       KS             128        415     382-4657                 no   \n",
       "1       OH             107        415     371-7191                 no   \n",
       "2       NJ             137        415     358-1921                 no   \n",
       "3       OH              84        408     375-9999                yes   \n",
       "4       OK              75        415     330-6626                yes   \n",
       "...    ...             ...        ...          ...                ...   \n",
       "3328    AZ             192        415     414-4276                 no   \n",
       "3329    WV              68        415     370-3271                 no   \n",
       "3330    RI              28        510     328-8230                 no   \n",
       "3331    CT             184        510     364-6381                yes   \n",
       "3332    TN              74        415     400-4344                 no   \n",
       "\n",
       "     voice_mail_plan  number_vmail_messages  total_day_minutes  \\\n",
       "0                yes                     25              265.1   \n",
       "1                yes                     26              161.6   \n",
       "2                 no                      0              243.4   \n",
       "3                 no                      0              299.4   \n",
       "4                 no                      0              166.7   \n",
       "...              ...                    ...                ...   \n",
       "3328             yes                     36              156.2   \n",
       "3329              no                      0              231.1   \n",
       "3330              no                      0              180.8   \n",
       "3331              no                      0              213.8   \n",
       "3332             yes                     25              234.4   \n",
       "\n",
       "      total_day_calls  total_day_charge  ...  total_eve_calls  \\\n",
       "0                 110             45.07  ...               99   \n",
       "1                 123             27.47  ...              103   \n",
       "2                 114             41.38  ...              110   \n",
       "3                  71             50.90  ...               88   \n",
       "4                 113             28.34  ...              122   \n",
       "...               ...               ...  ...              ...   \n",
       "3328               77             26.55  ...              126   \n",
       "3329               57             39.29  ...               55   \n",
       "3330              109             30.74  ...               58   \n",
       "3331              105             36.35  ...               84   \n",
       "3332              113             39.85  ...               82   \n",
       "\n",
       "      total_eve_charge  total_night_minutes  total_night_calls  \\\n",
       "0                16.78                244.7                 91   \n",
       "1                16.62                254.4                103   \n",
       "2                10.30                162.6                104   \n",
       "3                 5.26                196.9                 89   \n",
       "4                12.61                186.9                121   \n",
       "...                ...                  ...                ...   \n",
       "3328             18.32                279.1                 83   \n",
       "3329             13.04                191.3                123   \n",
       "3330             24.55                191.9                 91   \n",
       "3331             13.57                139.2                137   \n",
       "3332             22.60                241.4                 77   \n",
       "\n",
       "      total_night_charge  total_intl_minutes  total_intl_calls  \\\n",
       "0                  11.01                10.0                 3   \n",
       "1                  11.45                13.7                 3   \n",
       "2                   7.32                12.2                 5   \n",
       "3                   8.86                 6.6                 7   \n",
       "4                   8.41                10.1                 3   \n",
       "...                  ...                 ...               ...   \n",
       "3328               12.56                 9.9                 6   \n",
       "3329                8.61                 9.6                 4   \n",
       "3330                8.64                14.1                 6   \n",
       "3331                6.26                 5.0                10   \n",
       "3332               10.86                13.7                 4   \n",
       "\n",
       "      total_intl_charge  customer_service_calls  churn  \n",
       "0                  2.70                       1  False  \n",
       "1                  3.70                       1  False  \n",
       "2                  3.29                       0  False  \n",
       "3                  1.78                       2  False  \n",
       "4                  2.73                       3  False  \n",
       "...                 ...                     ...    ...  \n",
       "3328               2.67                       2  False  \n",
       "3329               2.59                       3  False  \n",
       "3330               3.81                       2  False  \n",
       "3331               1.35                       2  False  \n",
       "3332               3.70                       0  False  \n",
       "\n",
       "[3333 rows x 21 columns]"
      ]
     },
     "execution_count": 6,
     "metadata": {},
     "output_type": "execute_result"
    }
   ],
   "source": [
    "df"
   ]
  },
  {
   "cell_type": "markdown",
   "id": "72c1c24d",
   "metadata": {},
   "source": [
    "Check out the values in each feature to see what type of data each really is."
   ]
  },
  {
   "cell_type": "code",
   "execution_count": 7,
   "id": "bfd794b8",
   "metadata": {
    "ExecuteTime": {
     "end_time": "2023-01-09T04:02:57.340862Z",
     "start_time": "2023-01-09T04:02:57.283936Z"
    },
    "scrolled": true
   },
   "outputs": [
    {
     "name": "stdout",
     "output_type": "stream",
     "text": [
      "WV    106\n",
      "MN     84\n",
      "NY     83\n",
      "AL     80\n",
      "OR     78\n",
      "WI     78\n",
      "OH     78\n",
      "VA     77\n",
      "WY     77\n",
      "CT     74\n",
      "VT     73\n",
      "MI     73\n",
      "ID     73\n",
      "TX     72\n",
      "UT     72\n",
      "IN     71\n",
      "KS     70\n",
      "MD     70\n",
      "MT     68\n",
      "NC     68\n",
      "NJ     68\n",
      "NV     66\n",
      "WA     66\n",
      "CO     66\n",
      "MS     65\n",
      "RI     65\n",
      "MA     65\n",
      "AZ     64\n",
      "MO     63\n",
      "FL     63\n",
      "ND     62\n",
      "ME     62\n",
      "NM     62\n",
      "DE     61\n",
      "NE     61\n",
      "OK     61\n",
      "SD     60\n",
      "SC     60\n",
      "KY     59\n",
      "IL     58\n",
      "NH     56\n",
      "AR     55\n",
      "GA     54\n",
      "DC     54\n",
      "HI     53\n",
      "TN     53\n",
      "AK     52\n",
      "LA     51\n",
      "PA     45\n",
      "IA     44\n",
      "CA     34\n",
      "Name: state, dtype: int64\n",
      "105    43\n",
      "87     42\n",
      "93     40\n",
      "101    40\n",
      "90     39\n",
      "       ..\n",
      "191     1\n",
      "199     1\n",
      "215     1\n",
      "221     1\n",
      "2       1\n",
      "Name: account_length, Length: 212, dtype: int64\n",
      "415    1655\n",
      "510     840\n",
      "408     838\n",
      "Name: area_code, dtype: int64\n",
      "336-7155    1\n",
      "404-5387    1\n",
      "344-5181    1\n",
      "393-3635    1\n",
      "407-6748    1\n",
      "           ..\n",
      "351-4616    1\n",
      "407-2718    1\n",
      "404-4421    1\n",
      "350-8921    1\n",
      "353-5714    1\n",
      "Name: phone_number, Length: 3333, dtype: int64\n",
      "no     3010\n",
      "yes     323\n",
      "Name: international_plan, dtype: int64\n",
      "no     2411\n",
      "yes     922\n",
      "Name: voice_mail_plan, dtype: int64\n",
      "0     2411\n",
      "31      60\n",
      "29      53\n",
      "28      51\n",
      "33      46\n",
      "27      44\n",
      "30      44\n",
      "24      42\n",
      "26      41\n",
      "32      41\n",
      "25      37\n",
      "23      36\n",
      "36      34\n",
      "35      32\n",
      "22      32\n",
      "39      30\n",
      "37      29\n",
      "34      29\n",
      "21      28\n",
      "38      25\n",
      "20      22\n",
      "19      19\n",
      "40      16\n",
      "42      15\n",
      "17      14\n",
      "41      13\n",
      "16      13\n",
      "43       9\n",
      "15       9\n",
      "18       7\n",
      "44       7\n",
      "14       7\n",
      "45       6\n",
      "12       6\n",
      "46       4\n",
      "13       4\n",
      "47       3\n",
      "8        2\n",
      "48       2\n",
      "50       2\n",
      "9        2\n",
      "11       2\n",
      "49       1\n",
      "10       1\n",
      "4        1\n",
      "51       1\n",
      "Name: number_vmail_messages, dtype: int64\n",
      "174.5    8\n",
      "159.5    8\n",
      "154.0    8\n",
      "175.4    7\n",
      "162.3    7\n",
      "        ..\n",
      "199.9    1\n",
      "105.8    1\n",
      "125.6    1\n",
      "179.8    1\n",
      "270.8    1\n",
      "Name: total_day_minutes, Length: 1667, dtype: int64\n",
      "102    78\n",
      "105    75\n",
      "107    69\n",
      "95     69\n",
      "104    68\n",
      "       ..\n",
      "149     1\n",
      "157     1\n",
      "36      1\n",
      "30      1\n",
      "165     1\n",
      "Name: total_day_calls, Length: 119, dtype: int64\n",
      "27.12    8\n",
      "26.18    8\n",
      "29.67    8\n",
      "31.18    7\n",
      "27.59    7\n",
      "        ..\n",
      "19.36    1\n",
      "16.95    1\n",
      "34.12    1\n",
      "48.35    1\n",
      "13.28    1\n",
      "Name: total_day_charge, Length: 1667, dtype: int64\n",
      "169.9    9\n",
      "230.9    7\n",
      "209.4    7\n",
      "201.0    7\n",
      "220.6    7\n",
      "        ..\n",
      "335.0    1\n",
      "258.9    1\n",
      "134.7    1\n",
      "318.8    1\n",
      "317.2    1\n",
      "Name: total_eve_minutes, Length: 1611, dtype: int64\n",
      "105    80\n",
      "94     79\n",
      "108    71\n",
      "97     70\n",
      "102    70\n",
      "       ..\n",
      "45      1\n",
      "49      1\n",
      "145     1\n",
      "153     1\n",
      "0       1\n",
      "Name: total_eve_calls, Length: 123, dtype: int64\n",
      "14.25    11\n",
      "16.12    11\n",
      "15.90    10\n",
      "18.62     9\n",
      "14.44     9\n",
      "         ..\n",
      "12.64     1\n",
      "13.83     1\n",
      "11.39     1\n",
      "28.03     1\n",
      "20.53     1\n",
      "Name: total_eve_charge, Length: 1440, dtype: int64\n",
      "210.0    8\n",
      "214.6    8\n",
      "197.4    8\n",
      "191.4    8\n",
      "188.2    8\n",
      "        ..\n",
      "132.3    1\n",
      "306.2    1\n",
      "293.5    1\n",
      "271.7    1\n",
      "182.6    1\n",
      "Name: total_night_minutes, Length: 1591, dtype: int64\n",
      "105    84\n",
      "104    78\n",
      "91     76\n",
      "102    72\n",
      "100    69\n",
      "       ..\n",
      "164     1\n",
      "166     1\n",
      "33      1\n",
      "149     1\n",
      "36      1\n",
      "Name: total_night_calls, Length: 120, dtype: int64\n",
      "9.66     15\n",
      "9.45     15\n",
      "8.88     14\n",
      "8.47     14\n",
      "7.69     13\n",
      "         ..\n",
      "14.65     1\n",
      "6.46      1\n",
      "3.94      1\n",
      "15.74     1\n",
      "6.14      1\n",
      "Name: total_night_charge, Length: 933, dtype: int64\n",
      "10.0    62\n",
      "11.3    59\n",
      "9.8     56\n",
      "10.9    56\n",
      "10.1    53\n",
      "        ..\n",
      "18.9     1\n",
      "1.3      1\n",
      "2.7      1\n",
      "2.6      1\n",
      "3.1      1\n",
      "Name: total_intl_minutes, Length: 162, dtype: int64\n",
      "3     668\n",
      "4     619\n",
      "2     489\n",
      "5     472\n",
      "6     336\n",
      "7     218\n",
      "1     160\n",
      "8     116\n",
      "9     109\n",
      "10     50\n",
      "11     28\n",
      "0      18\n",
      "12     15\n",
      "13     14\n",
      "15      7\n",
      "14      6\n",
      "18      3\n",
      "16      2\n",
      "19      1\n",
      "17      1\n",
      "20      1\n",
      "Name: total_intl_calls, dtype: int64\n",
      "2.70    62\n",
      "3.05    59\n",
      "2.65    56\n",
      "2.94    56\n",
      "2.73    53\n",
      "        ..\n",
      "0.68     1\n",
      "4.83     1\n",
      "0.84     1\n",
      "0.30     1\n",
      "5.40     1\n",
      "Name: total_intl_charge, Length: 162, dtype: int64\n",
      "1    1181\n",
      "2     759\n",
      "0     697\n",
      "3     429\n",
      "4     166\n",
      "5      66\n",
      "6      22\n",
      "7       9\n",
      "9       2\n",
      "8       2\n",
      "Name: customer_service_calls, dtype: int64\n",
      "False    2850\n",
      "True      483\n",
      "Name: churn, dtype: int64\n"
     ]
    }
   ],
   "source": [
    "for x in df.columns:\n",
    "    print(df[x].value_counts())        "
   ]
  },
  {
   "cell_type": "markdown",
   "id": "823c2463",
   "metadata": {},
   "source": [
    "Review numerical field statistics"
   ]
  },
  {
   "cell_type": "code",
   "execution_count": 8,
   "id": "df5a632c",
   "metadata": {
    "ExecuteTime": {
     "end_time": "2023-01-09T04:02:57.420244Z",
     "start_time": "2023-01-09T04:02:57.345666Z"
    },
    "scrolled": true
   },
   "outputs": [
    {
     "data": {
      "text/html": [
       "<div>\n",
       "<style scoped>\n",
       "    .dataframe tbody tr th:only-of-type {\n",
       "        vertical-align: middle;\n",
       "    }\n",
       "\n",
       "    .dataframe tbody tr th {\n",
       "        vertical-align: top;\n",
       "    }\n",
       "\n",
       "    .dataframe thead th {\n",
       "        text-align: right;\n",
       "    }\n",
       "</style>\n",
       "<table border=\"1\" class=\"dataframe\">\n",
       "  <thead>\n",
       "    <tr style=\"text-align: right;\">\n",
       "      <th></th>\n",
       "      <th>account_length</th>\n",
       "      <th>area_code</th>\n",
       "      <th>number_vmail_messages</th>\n",
       "      <th>total_day_minutes</th>\n",
       "      <th>total_day_calls</th>\n",
       "      <th>total_day_charge</th>\n",
       "      <th>total_eve_minutes</th>\n",
       "      <th>total_eve_calls</th>\n",
       "      <th>total_eve_charge</th>\n",
       "      <th>total_night_minutes</th>\n",
       "      <th>total_night_calls</th>\n",
       "      <th>total_night_charge</th>\n",
       "      <th>total_intl_minutes</th>\n",
       "      <th>total_intl_calls</th>\n",
       "      <th>total_intl_charge</th>\n",
       "      <th>customer_service_calls</th>\n",
       "    </tr>\n",
       "  </thead>\n",
       "  <tbody>\n",
       "    <tr>\n",
       "      <th>count</th>\n",
       "      <td>3333.000000</td>\n",
       "      <td>3333.000000</td>\n",
       "      <td>3333.000000</td>\n",
       "      <td>3333.000000</td>\n",
       "      <td>3333.000000</td>\n",
       "      <td>3333.000000</td>\n",
       "      <td>3333.000000</td>\n",
       "      <td>3333.000000</td>\n",
       "      <td>3333.000000</td>\n",
       "      <td>3333.000000</td>\n",
       "      <td>3333.000000</td>\n",
       "      <td>3333.000000</td>\n",
       "      <td>3333.000000</td>\n",
       "      <td>3333.000000</td>\n",
       "      <td>3333.000000</td>\n",
       "      <td>3333.000000</td>\n",
       "    </tr>\n",
       "    <tr>\n",
       "      <th>mean</th>\n",
       "      <td>101.064806</td>\n",
       "      <td>437.182418</td>\n",
       "      <td>8.099010</td>\n",
       "      <td>179.775098</td>\n",
       "      <td>100.435644</td>\n",
       "      <td>30.562307</td>\n",
       "      <td>200.980348</td>\n",
       "      <td>100.114311</td>\n",
       "      <td>17.083540</td>\n",
       "      <td>200.872037</td>\n",
       "      <td>100.107711</td>\n",
       "      <td>9.039325</td>\n",
       "      <td>10.237294</td>\n",
       "      <td>4.479448</td>\n",
       "      <td>2.764581</td>\n",
       "      <td>1.562856</td>\n",
       "    </tr>\n",
       "    <tr>\n",
       "      <th>std</th>\n",
       "      <td>39.822106</td>\n",
       "      <td>42.371290</td>\n",
       "      <td>13.688365</td>\n",
       "      <td>54.467389</td>\n",
       "      <td>20.069084</td>\n",
       "      <td>9.259435</td>\n",
       "      <td>50.713844</td>\n",
       "      <td>19.922625</td>\n",
       "      <td>4.310668</td>\n",
       "      <td>50.573847</td>\n",
       "      <td>19.568609</td>\n",
       "      <td>2.275873</td>\n",
       "      <td>2.791840</td>\n",
       "      <td>2.461214</td>\n",
       "      <td>0.753773</td>\n",
       "      <td>1.315491</td>\n",
       "    </tr>\n",
       "    <tr>\n",
       "      <th>min</th>\n",
       "      <td>1.000000</td>\n",
       "      <td>408.000000</td>\n",
       "      <td>0.000000</td>\n",
       "      <td>0.000000</td>\n",
       "      <td>0.000000</td>\n",
       "      <td>0.000000</td>\n",
       "      <td>0.000000</td>\n",
       "      <td>0.000000</td>\n",
       "      <td>0.000000</td>\n",
       "      <td>23.200000</td>\n",
       "      <td>33.000000</td>\n",
       "      <td>1.040000</td>\n",
       "      <td>0.000000</td>\n",
       "      <td>0.000000</td>\n",
       "      <td>0.000000</td>\n",
       "      <td>0.000000</td>\n",
       "    </tr>\n",
       "    <tr>\n",
       "      <th>25%</th>\n",
       "      <td>74.000000</td>\n",
       "      <td>408.000000</td>\n",
       "      <td>0.000000</td>\n",
       "      <td>143.700000</td>\n",
       "      <td>87.000000</td>\n",
       "      <td>24.430000</td>\n",
       "      <td>166.600000</td>\n",
       "      <td>87.000000</td>\n",
       "      <td>14.160000</td>\n",
       "      <td>167.000000</td>\n",
       "      <td>87.000000</td>\n",
       "      <td>7.520000</td>\n",
       "      <td>8.500000</td>\n",
       "      <td>3.000000</td>\n",
       "      <td>2.300000</td>\n",
       "      <td>1.000000</td>\n",
       "    </tr>\n",
       "    <tr>\n",
       "      <th>50%</th>\n",
       "      <td>101.000000</td>\n",
       "      <td>415.000000</td>\n",
       "      <td>0.000000</td>\n",
       "      <td>179.400000</td>\n",
       "      <td>101.000000</td>\n",
       "      <td>30.500000</td>\n",
       "      <td>201.400000</td>\n",
       "      <td>100.000000</td>\n",
       "      <td>17.120000</td>\n",
       "      <td>201.200000</td>\n",
       "      <td>100.000000</td>\n",
       "      <td>9.050000</td>\n",
       "      <td>10.300000</td>\n",
       "      <td>4.000000</td>\n",
       "      <td>2.780000</td>\n",
       "      <td>1.000000</td>\n",
       "    </tr>\n",
       "    <tr>\n",
       "      <th>75%</th>\n",
       "      <td>127.000000</td>\n",
       "      <td>510.000000</td>\n",
       "      <td>20.000000</td>\n",
       "      <td>216.400000</td>\n",
       "      <td>114.000000</td>\n",
       "      <td>36.790000</td>\n",
       "      <td>235.300000</td>\n",
       "      <td>114.000000</td>\n",
       "      <td>20.000000</td>\n",
       "      <td>235.300000</td>\n",
       "      <td>113.000000</td>\n",
       "      <td>10.590000</td>\n",
       "      <td>12.100000</td>\n",
       "      <td>6.000000</td>\n",
       "      <td>3.270000</td>\n",
       "      <td>2.000000</td>\n",
       "    </tr>\n",
       "    <tr>\n",
       "      <th>max</th>\n",
       "      <td>243.000000</td>\n",
       "      <td>510.000000</td>\n",
       "      <td>51.000000</td>\n",
       "      <td>350.800000</td>\n",
       "      <td>165.000000</td>\n",
       "      <td>59.640000</td>\n",
       "      <td>363.700000</td>\n",
       "      <td>170.000000</td>\n",
       "      <td>30.910000</td>\n",
       "      <td>395.000000</td>\n",
       "      <td>175.000000</td>\n",
       "      <td>17.770000</td>\n",
       "      <td>20.000000</td>\n",
       "      <td>20.000000</td>\n",
       "      <td>5.400000</td>\n",
       "      <td>9.000000</td>\n",
       "    </tr>\n",
       "  </tbody>\n",
       "</table>\n",
       "</div>"
      ],
      "text/plain": [
       "       account_length    area_code  number_vmail_messages  total_day_minutes  \\\n",
       "count     3333.000000  3333.000000            3333.000000        3333.000000   \n",
       "mean       101.064806   437.182418               8.099010         179.775098   \n",
       "std         39.822106    42.371290              13.688365          54.467389   \n",
       "min          1.000000   408.000000               0.000000           0.000000   \n",
       "25%         74.000000   408.000000               0.000000         143.700000   \n",
       "50%        101.000000   415.000000               0.000000         179.400000   \n",
       "75%        127.000000   510.000000              20.000000         216.400000   \n",
       "max        243.000000   510.000000              51.000000         350.800000   \n",
       "\n",
       "       total_day_calls  total_day_charge  total_eve_minutes  total_eve_calls  \\\n",
       "count      3333.000000       3333.000000        3333.000000      3333.000000   \n",
       "mean        100.435644         30.562307         200.980348       100.114311   \n",
       "std          20.069084          9.259435          50.713844        19.922625   \n",
       "min           0.000000          0.000000           0.000000         0.000000   \n",
       "25%          87.000000         24.430000         166.600000        87.000000   \n",
       "50%         101.000000         30.500000         201.400000       100.000000   \n",
       "75%         114.000000         36.790000         235.300000       114.000000   \n",
       "max         165.000000         59.640000         363.700000       170.000000   \n",
       "\n",
       "       total_eve_charge  total_night_minutes  total_night_calls  \\\n",
       "count       3333.000000          3333.000000        3333.000000   \n",
       "mean          17.083540           200.872037         100.107711   \n",
       "std            4.310668            50.573847          19.568609   \n",
       "min            0.000000            23.200000          33.000000   \n",
       "25%           14.160000           167.000000          87.000000   \n",
       "50%           17.120000           201.200000         100.000000   \n",
       "75%           20.000000           235.300000         113.000000   \n",
       "max           30.910000           395.000000         175.000000   \n",
       "\n",
       "       total_night_charge  total_intl_minutes  total_intl_calls  \\\n",
       "count         3333.000000         3333.000000       3333.000000   \n",
       "mean             9.039325           10.237294          4.479448   \n",
       "std              2.275873            2.791840          2.461214   \n",
       "min              1.040000            0.000000          0.000000   \n",
       "25%              7.520000            8.500000          3.000000   \n",
       "50%              9.050000           10.300000          4.000000   \n",
       "75%             10.590000           12.100000          6.000000   \n",
       "max             17.770000           20.000000         20.000000   \n",
       "\n",
       "       total_intl_charge  customer_service_calls  \n",
       "count        3333.000000             3333.000000  \n",
       "mean            2.764581                1.562856  \n",
       "std             0.753773                1.315491  \n",
       "min             0.000000                0.000000  \n",
       "25%             2.300000                1.000000  \n",
       "50%             2.780000                1.000000  \n",
       "75%             3.270000                2.000000  \n",
       "max             5.400000                9.000000  "
      ]
     },
     "execution_count": 8,
     "metadata": {},
     "output_type": "execute_result"
    }
   ],
   "source": [
    "df.describe()"
   ]
  },
  {
   "cell_type": "markdown",
   "id": "86ed61b4",
   "metadata": {},
   "source": [
    "Check for nulls"
   ]
  },
  {
   "cell_type": "code",
   "execution_count": 9,
   "id": "c99be182",
   "metadata": {
    "ExecuteTime": {
     "end_time": "2023-01-09T04:02:57.456513Z",
     "start_time": "2023-01-09T04:02:57.423488Z"
    },
    "scrolled": true
   },
   "outputs": [
    {
     "data": {
      "text/plain": [
       "state                     0\n",
       "account_length            0\n",
       "area_code                 0\n",
       "phone_number              0\n",
       "international_plan        0\n",
       "voice_mail_plan           0\n",
       "number_vmail_messages     0\n",
       "total_day_minutes         0\n",
       "total_day_calls           0\n",
       "total_day_charge          0\n",
       "total_eve_minutes         0\n",
       "total_eve_calls           0\n",
       "total_eve_charge          0\n",
       "total_night_minutes       0\n",
       "total_night_calls         0\n",
       "total_night_charge        0\n",
       "total_intl_minutes        0\n",
       "total_intl_calls          0\n",
       "total_intl_charge         0\n",
       "customer_service_calls    0\n",
       "churn                     0\n",
       "dtype: int64"
      ]
     },
     "execution_count": 9,
     "metadata": {},
     "output_type": "execute_result"
    }
   ],
   "source": [
    "df.isna().sum()"
   ]
  },
  {
   "cell_type": "code",
   "execution_count": 10,
   "id": "005da126",
   "metadata": {
    "ExecuteTime": {
     "end_time": "2023-01-09T04:02:57.472467Z",
     "start_time": "2023-01-09T04:02:57.458506Z"
    },
    "scrolled": false
   },
   "outputs": [
    {
     "name": "stdout",
     "output_type": "stream",
     "text": [
      "<class 'pandas.core.frame.DataFrame'>\n",
      "RangeIndex: 3333 entries, 0 to 3332\n",
      "Data columns (total 21 columns):\n",
      " #   Column                  Non-Null Count  Dtype  \n",
      "---  ------                  --------------  -----  \n",
      " 0   state                   3333 non-null   object \n",
      " 1   account_length          3333 non-null   int64  \n",
      " 2   area_code               3333 non-null   int64  \n",
      " 3   phone_number            3333 non-null   object \n",
      " 4   international_plan      3333 non-null   object \n",
      " 5   voice_mail_plan         3333 non-null   object \n",
      " 6   number_vmail_messages   3333 non-null   int64  \n",
      " 7   total_day_minutes       3333 non-null   float64\n",
      " 8   total_day_calls         3333 non-null   int64  \n",
      " 9   total_day_charge        3333 non-null   float64\n",
      " 10  total_eve_minutes       3333 non-null   float64\n",
      " 11  total_eve_calls         3333 non-null   int64  \n",
      " 12  total_eve_charge        3333 non-null   float64\n",
      " 13  total_night_minutes     3333 non-null   float64\n",
      " 14  total_night_calls       3333 non-null   int64  \n",
      " 15  total_night_charge      3333 non-null   float64\n",
      " 16  total_intl_minutes      3333 non-null   float64\n",
      " 17  total_intl_calls        3333 non-null   int64  \n",
      " 18  total_intl_charge       3333 non-null   float64\n",
      " 19  customer_service_calls  3333 non-null   int64  \n",
      " 20  churn                   3333 non-null   bool   \n",
      "dtypes: bool(1), float64(8), int64(8), object(4)\n",
      "memory usage: 524.2+ KB\n"
     ]
    }
   ],
   "source": [
    "df.info()"
   ]
  },
  {
   "cell_type": "markdown",
   "id": "ef5f7df3",
   "metadata": {},
   "source": [
    "Notes:\n",
    "- No nulls.  No need to impute anything.  \n",
    "- 3333 rows.  21 columns.  \n",
    "- Ignore phone number. y will be churn series. Everything else will be in X.  "
   ]
  },
  {
   "cell_type": "markdown",
   "id": "7831597a",
   "metadata": {
    "ExecuteTime": {
     "end_time": "2023-01-03T17:00:12.337361Z",
     "start_time": "2023-01-03T17:00:11.982557Z"
    }
   },
   "source": [
    "## Data Preparation"
   ]
  },
  {
   "cell_type": "markdown",
   "id": "218110a3",
   "metadata": {
    "ExecuteTime": {
     "end_time": "2023-01-05T05:45:23.403911Z",
     "start_time": "2023-01-05T05:45:23.393829Z"
    }
   },
   "source": [
    "#### Figure out feature types"
   ]
  },
  {
   "cell_type": "markdown",
   "id": "e072bf11",
   "metadata": {},
   "source": [
    "Assign columns to either continous numerical or categorical feature list.  We will use these lists later when we transform columns. "
   ]
  },
  {
   "cell_type": "code",
   "execution_count": 11,
   "id": "4989fa66",
   "metadata": {
    "ExecuteTime": {
     "end_time": "2023-01-09T04:02:57.487807Z",
     "start_time": "2023-01-09T04:02:57.475627Z"
    }
   },
   "outputs": [],
   "source": [
    "X_numeric_cols = ['account_length','number_vmail_messages',\n",
    "       'total_day_minutes', 'total_day_calls', 'total_day_charge',\n",
    "       'total_eve_minutes', 'total_eve_calls', 'total_eve_charge',\n",
    "       'total_night_minutes', 'total_night_calls', 'total_night_charge',\n",
    "       'total_intl_minutes', 'total_intl_calls', 'total_intl_charge',\n",
    "       'customer_service_calls']\n",
    "X_categorical_cols = ['state', 'area_code','international_plan', 'voice_mail_plan']\n",
    "X_ignore_cols = ['phone_number']\n",
    "y_target_col = 'churn'"
   ]
  },
  {
   "cell_type": "markdown",
   "id": "f05924b5",
   "metadata": {},
   "source": [
    "#### Train-test-split of the data"
   ]
  },
  {
   "cell_type": "markdown",
   "id": "e58ef90b",
   "metadata": {},
   "source": [
    "Prevent leakage by splitting the data before doing anything related to modeling."
   ]
  },
  {
   "cell_type": "code",
   "execution_count": 12,
   "id": "20423a17",
   "metadata": {
    "ExecuteTime": {
     "end_time": "2023-01-09T04:02:57.503421Z",
     "start_time": "2023-01-09T04:02:57.490425Z"
    }
   },
   "outputs": [],
   "source": [
    "X = df.drop(X_ignore_cols + [y_target_col], axis=1)\n",
    "y = df[y_target_col]\n",
    "\n",
    "X_train, X_test, y_train, y_test = train_test_split(X, y, random_state=42, test_size=test_size)"
   ]
  },
  {
   "cell_type": "code",
   "execution_count": 13,
   "id": "4d9be8d7",
   "metadata": {
    "ExecuteTime": {
     "end_time": "2023-01-09T04:02:57.537492Z",
     "start_time": "2023-01-09T04:02:57.507348Z"
    }
   },
   "outputs": [
    {
     "data": {
      "text/plain": [
       "False    0.855086\n",
       "True     0.144914\n",
       "Name: churn, dtype: float64"
      ]
     },
     "execution_count": 13,
     "metadata": {},
     "output_type": "execute_result"
    }
   ],
   "source": [
    "df.churn.value_counts(normalize=True)"
   ]
  },
  {
   "cell_type": "markdown",
   "id": "91a3b093",
   "metadata": {},
   "source": [
    "This seems to be imbalanced.  Plan on using SMOTE to oversample the minority class later on. "
   ]
  },
  {
   "cell_type": "markdown",
   "id": "47016d86",
   "metadata": {},
   "source": [
    "#### Create column transformer pipelines"
   ]
  },
  {
   "cell_type": "markdown",
   "id": "3acabf55",
   "metadata": {},
   "source": [
    "Create column transformer that scales continuous numerical features and encodes categorical features."
   ]
  },
  {
   "cell_type": "code",
   "execution_count": 14,
   "id": "24457fd3",
   "metadata": {
    "ExecuteTime": {
     "end_time": "2023-01-09T04:02:57.552449Z",
     "start_time": "2023-01-09T04:02:57.539324Z"
    }
   },
   "outputs": [],
   "source": [
    "# Numerical column transformers\n",
    "num_pipe = Pipeline([('ss',StandardScaler())])\n",
    "\n",
    "# Categorical column transformers\n",
    "cat_pipe = Pipeline([\n",
    "    ('ohe', OneHotEncoder(sparse=False, handle_unknown='ignore'))\n",
    "])\n",
    "CT = ColumnTransformer(transformers=[\n",
    "    ('num_trans', num_pipe, X_numeric_cols),\n",
    "    ('cat_trans', cat_pipe, X_categorical_cols)\n",
    "],remainder='passthrough')"
   ]
  },
  {
   "cell_type": "markdown",
   "id": "e6a64d1a",
   "metadata": {},
   "source": [
    "## Exploratory Data Analysis "
   ]
  },
  {
   "cell_type": "markdown",
   "id": "95963c99",
   "metadata": {},
   "source": [
    "### Churn by State"
   ]
  },
  {
   "cell_type": "code",
   "execution_count": 15,
   "id": "84b25250",
   "metadata": {
    "ExecuteTime": {
     "end_time": "2023-01-09T04:02:59.412508Z",
     "start_time": "2023-01-09T04:02:57.554298Z"
    }
   },
   "outputs": [
    {
     "data": {
      "image/png": "[encoded data removed]",
      "text/plain": [
       "<Figure size 1440x576 with 1 Axes>"
      ]
     },
     "metadata": {},
     "output_type": "display_data"
    }
   ],
   "source": [
    "sns.set_style(\"darkgrid\")\n",
    "sns.color_palette(\"rocket\", as_cmap=True)\n",
    "fig, ax = plt.subplots(figsize=(20,8))\n",
    "\n",
    "p = df.groupby([\"state\", \"churn\"]).size().unstack()\n",
    "p.plot(ax=ax, kind='bar', stacked=True)\n",
    "ax.set_title(\"Churn by State\")\n",
    "ax.set_ylabel(\"Frequency\")\n",
    "ax.set_xlabel(\"State\")\n",
    "plt.legend(loc='upper right');"
   ]
  },
  {
   "cell_type": "markdown",
   "id": "7488b212",
   "metadata": {},
   "source": [
    "Observations\n",
    "- Higher churn in states like Maryland, New Jersey, and Texas.  \n",
    "- Lower churn in states like Hawaii and Iowa.  "
   ]
  },
  {
   "cell_type": "markdown",
   "id": "cafc951f",
   "metadata": {},
   "source": [
    "### Churn by International Plan"
   ]
  },
  {
   "cell_type": "code",
   "execution_count": 16,
   "id": "446fe77e",
   "metadata": {
    "ExecuteTime": {
     "end_time": "2023-01-09T04:02:59.612836Z",
     "start_time": "2023-01-09T04:02:59.415497Z"
    },
    "scrolled": true
   },
   "outputs": [
    {
     "data": {
      "image/png": "[encoded data removed]",
      "text/plain": [
       "<Figure size 648x576 with 1 Axes>"
      ]
     },
     "metadata": {},
     "output_type": "display_data"
    }
   ],
   "source": [
    "df2 = df.copy()\n",
    "df2 = df.rename(columns={\"churn\":\"Churn\"})\n",
    "df2['Churn'] = df2['Churn'].replace({False: \" Stay\", True: 'Churn'})\n",
    "df2['international_plan'] = df2['international_plan'].replace({'no': \" No Plan\", 'yes': 'Has Plan'})\n",
    "p = df2.groupby([\"international_plan\", \"Churn\"]).size().unstack()\n",
    "\n",
    "sns.set_style(\"darkgrid\")\n",
    "sns.color_palette(\"rocket\", as_cmap=True)\n",
    "fig, ax = plt.subplots(figsize=(9,8))\n",
    "p.plot(ax=ax, kind='bar', stacked=True)\n",
    "ax.set_title(\"Churn by International Plan\")\n",
    "ax.set_ylabel(\"Count\")\n",
    "ax.set_xlabel(\"International Plan\");\n",
    "plt.xticks(rotation = 0);"
   ]
  },
  {
   "cell_type": "markdown",
   "id": "a732f9e6",
   "metadata": {},
   "source": [
    "Observations\n",
    "- Churn is higher in customer with an international plan."
   ]
  },
  {
   "cell_type": "markdown",
   "id": "e6c077e8",
   "metadata": {},
   "source": [
    "### Churn by Number of Service Calls"
   ]
  },
  {
   "cell_type": "code",
   "execution_count": 17,
   "id": "6387dc83",
   "metadata": {
    "ExecuteTime": {
     "end_time": "2023-01-09T04:02:59.837606Z",
     "start_time": "2023-01-09T04:02:59.615735Z"
    }
   },
   "outputs": [
    {
     "data": {
      "image/png": "[encoded data removed]",
      "text/plain": [
       "<Figure size 648x576 with 1 Axes>"
      ]
     },
     "metadata": {},
     "output_type": "display_data"
    }
   ],
   "source": [
    "df2 = df.copy()\n",
    "df2 = df.rename(columns={\"churn\":\"Churn\"})\n",
    "df2['Churn'] = df2['Churn'].replace({False: \" Stay\", True: 'Churn'})\n",
    "p = df2.groupby([\"customer_service_calls\", \"Churn\"]).size().unstack()\n",
    "\n",
    "sns.set_style(\"darkgrid\")\n",
    "sns.color_palette(\"rocket\", as_cmap=True)\n",
    "fig, ax = plt.subplots(figsize=(9,8))\n",
    "p.plot(ax=ax, kind='bar', stacked=True)\n",
    "ax.set_title(\"Churn by Number of Service Calls\")\n",
    "ax.set_ylabel(\"Count\")\n",
    "ax.set_xlabel(\"Service Calls\");\n",
    "plt.xticks(rotation = 0);"
   ]
  },
  {
   "cell_type": "markdown",
   "id": "9ec976a8",
   "metadata": {
    "ExecuteTime": {
     "end_time": "2023-01-09T01:55:23.036889Z",
     "start_time": "2023-01-09T01:55:23.022890Z"
    }
   },
   "source": [
    "Observations:\n",
    "- Churn gets very high from 4 customer service calls."
   ]
  },
  {
   "cell_type": "markdown",
   "id": "1f5edafd",
   "metadata": {},
   "source": [
    "## Modeling"
   ]
  },
  {
   "cell_type": "code",
   "execution_count": 18,
   "id": "2afead7a",
   "metadata": {
    "ExecuteTime": {
     "end_time": "2023-01-09T04:03:01.643137Z",
     "start_time": "2023-01-09T04:02:59.840390Z"
    }
   },
   "outputs": [
    {
     "data": {
      "text/plain": [
       "<matplotlib.legend.Legend at 0x26aecc8c0d0>"
      ]
     },
     "execution_count": 18,
     "metadata": {},
     "output_type": "execute_result"
    },
    {
     "data": {
      "image/png": "[encoded data removed]",
      "text/plain": [
       "<Figure size 1440x576 with 1 Axes>"
      ]
     },
     "metadata": {},
     "output_type": "display_data"
    }
   ],
   "source": [
    "sns.set_style(\"darkgrid\")\n",
    "sns.color_palette(\"rocket\", as_cmap=True)\n",
    "fig, ax = plt.subplots(figsize=(20,8))\n",
    "\n",
    "p = df.groupby([\"state\", \"churn\"]).size().unstack()\n",
    "p.plot(ax=ax, kind='bar', stacked=True)\n",
    "ax.set_title(\"Churn by State\")\n",
    "ax.set_ylabel(\"Frequency\")\n",
    "ax.set_xlabel(\"State\")\n",
    "plt.legend(loc='upper right')"
   ]
  },
  {
   "cell_type": "markdown",
   "id": "e173b68b",
   "metadata": {
    "ExecuteTime": {
     "end_time": "2023-01-04T21:09:45.243670Z",
     "start_time": "2023-01-04T21:09:45.227711Z"
    }
   },
   "source": [
    "### Baseline Model"
   ]
  },
  {
   "cell_type": "markdown",
   "id": "51b8f128",
   "metadata": {},
   "source": [
    "#### Dummy Classifier"
   ]
  },
  {
   "cell_type": "markdown",
   "id": "a9ce5f95",
   "metadata": {},
   "source": [
    "First step in modeling is to create a baseline model.  Common approach for this is to use the DummyClassifier estimator."
   ]
  },
  {
   "cell_type": "code",
   "execution_count": 19,
   "id": "7ba23a47",
   "metadata": {
    "ExecuteTime": {
     "end_time": "2023-01-09T04:03:01.828464Z",
     "start_time": "2023-01-09T04:03:01.645091Z"
    }
   },
   "outputs": [
    {
     "name": "stdout",
     "output_type": "stream",
     "text": [
      "Baseline - Dummy Classifer:\n",
      "Training data - accuracy:          0.8555\n",
      "Test data - accruacy:              0.8543\n",
      "Classification report:\n",
      "               precision    recall  f1-score   support\n",
      "\n",
      "       False       0.85      1.00      0.92       997\n",
      "        True       0.00      0.00      0.00       170\n",
      "\n",
      "    accuracy                           0.85      1167\n",
      "   macro avg       0.43      0.50      0.46      1167\n",
      "weighted avg       0.73      0.85      0.79      1167\n",
      "\n"
     ]
    },
    {
     "name": "stderr",
     "output_type": "stream",
     "text": [
      "C:\\Users\\natek\\anaconda3\\envs\\learn-env\\lib\\site-packages\\sklearn\\metrics\\_classification.py:1221: UndefinedMetricWarning: Precision and F-score are ill-defined and being set to 0.0 in labels with no predicted samples. Use `zero_division` parameter to control this behavior.\n",
      "  _warn_prf(average, modifier, msg_start, len(result))\n"
     ]
    }
   ],
   "source": [
    "model_name = \"Baseline - Dummy Classifer\"\n",
    "model = DummyClassifier(strategy='most_frequent', random_state=42)\n",
    "pipe = Pipeline([ ('ct',CT), ('model', model) ])\n",
    "cross_val_and_print_results_on_model(model_name, pipe, X_train, y_train, X_test, y_test)"
   ]
  },
  {
   "cell_type": "markdown",
   "id": "d8fc9004",
   "metadata": {},
   "source": [
    "### Round 1 - Simple Models (default hyperparameters)"
   ]
  },
  {
   "cell_type": "markdown",
   "id": "638a7beb",
   "metadata": {},
   "source": [
    "Create simple models with default hyperparameters.  Since the column transformers will not change, all pipelines will be set up the same, while just swapping out the model type."
   ]
  },
  {
   "cell_type": "markdown",
   "id": "8c657e7f",
   "metadata": {},
   "source": [
    "#### Logistic Regression Classifier"
   ]
  },
  {
   "cell_type": "code",
   "execution_count": 20,
   "id": "dc3e72a7",
   "metadata": {
    "ExecuteTime": {
     "end_time": "2023-01-09T04:03:02.357254Z",
     "start_time": "2023-01-09T04:03:01.831286Z"
    }
   },
   "outputs": [
    {
     "name": "stdout",
     "output_type": "stream",
     "text": [
      "Logistic Regression:\n",
      "Training data - accuracy:          0.8569\n",
      "Test data - accruacy:              0.8646\n",
      "Classification report:\n",
      "               precision    recall  f1-score   support\n",
      "\n",
      "       False       0.88      0.97      0.92       997\n",
      "        True       0.60      0.22      0.32       170\n",
      "\n",
      "    accuracy                           0.86      1167\n",
      "   macro avg       0.74      0.60      0.62      1167\n",
      "weighted avg       0.84      0.86      0.84      1167\n",
      "\n"
     ]
    }
   ],
   "source": [
    "model_name = \"Logistic Regression\"\n",
    "model = LogisticRegression(random_state=42)\n",
    "pipe = Pipeline([ ('ct',CT), ('model', model) ])\n",
    "cross_val_and_print_results_on_model(model_name, pipe, X_train, y_train, X_test, y_test)"
   ]
  },
  {
   "cell_type": "markdown",
   "id": "0eb1c1f2",
   "metadata": {},
   "source": [
    "Results:\n",
    "- The Logistic Regression Classifier did not improve the accuracy over the baseline model notably.\n",
    "- Appears potentially underfit as the test data outperformed the training data."
   ]
  },
  {
   "cell_type": "markdown",
   "id": "501e5925",
   "metadata": {},
   "source": [
    "#### Decision Tree Classifier"
   ]
  },
  {
   "cell_type": "code",
   "execution_count": 21,
   "id": "2b333492",
   "metadata": {
    "ExecuteTime": {
     "end_time": "2023-01-09T04:03:02.842134Z",
     "start_time": "2023-01-09T04:03:02.359137Z"
    }
   },
   "outputs": [
    {
     "name": "stdout",
     "output_type": "stream",
     "text": [
      "Decision Tree Classifier:\n",
      "Training data - accuracy:          0.9031\n",
      "Test data - accruacy:              0.9186\n",
      "Classification report:\n",
      "               precision    recall  f1-score   support\n",
      "\n",
      "       False       0.96      0.95      0.95       997\n",
      "        True       0.70      0.76      0.73       170\n",
      "\n",
      "    accuracy                           0.92      1167\n",
      "   macro avg       0.83      0.85      0.84      1167\n",
      "weighted avg       0.92      0.92      0.92      1167\n",
      "\n"
     ]
    }
   ],
   "source": [
    "model_name = \"Decision Tree Classifier\"\n",
    "model = DecisionTreeClassifier(random_state=42)\n",
    "pipe = Pipeline([ ('ct',CT), ('model', model) ])\n",
    "cross_val_and_print_results_on_model(model_name, pipe, X_train, y_train, X_test, y_test)"
   ]
  },
  {
   "cell_type": "markdown",
   "id": "bcc82e63",
   "metadata": {},
   "source": [
    "Results:\n",
    "- This model improved the accuracy over the baseline model by ~6%.  \n",
    "- Appears potentially underfit as the test data outperformed the training data."
   ]
  },
  {
   "cell_type": "markdown",
   "id": "87da6a5a",
   "metadata": {
    "ExecuteTime": {
     "end_time": "2023-01-03T23:53:21.687563Z",
     "start_time": "2023-01-03T23:53:21.681611Z"
    }
   },
   "source": [
    "#### KNearestNeighbors Classifier"
   ]
  },
  {
   "cell_type": "code",
   "execution_count": 22,
   "id": "75a5ae9c",
   "metadata": {
    "ExecuteTime": {
     "end_time": "2023-01-09T04:03:03.849291Z",
     "start_time": "2023-01-09T04:03:02.844121Z"
    }
   },
   "outputs": [
    {
     "name": "stdout",
     "output_type": "stream",
     "text": [
      "KNearestNeighbors Classifier:\n",
      "Training data - accuracy:          0.8818\n",
      "Test data - accruacy:              0.88\n",
      "Classification report:\n",
      "               precision    recall  f1-score   support\n",
      "\n",
      "       False       0.88      1.00      0.93       997\n",
      "        True       0.92      0.19      0.32       170\n",
      "\n",
      "    accuracy                           0.88      1167\n",
      "   macro avg       0.90      0.60      0.63      1167\n",
      "weighted avg       0.88      0.88      0.84      1167\n",
      "\n"
     ]
    }
   ],
   "source": [
    "model_name = \"KNearestNeighbors Classifier\"\n",
    "model = KNeighborsClassifier()\n",
    "pipe = Pipeline([('ct',CT), ('model', model) ])\n",
    "cross_val_and_print_results_on_model(model_name, pipe, X_train, y_train, X_test, y_test)"
   ]
  },
  {
   "cell_type": "markdown",
   "id": "c1f41105",
   "metadata": {},
   "source": [
    "Results:\n",
    "- The KNN model improved the accuracy over the baseline model by ~3%.\n",
    "- The model does not appear notably underfit or overfit."
   ]
  },
  {
   "cell_type": "markdown",
   "id": "62eed39b",
   "metadata": {
    "ExecuteTime": {
     "end_time": "2023-01-03T23:53:21.687563Z",
     "start_time": "2023-01-03T23:53:21.681611Z"
    }
   },
   "source": [
    "#### Random Forest Classifier"
   ]
  },
  {
   "cell_type": "code",
   "execution_count": 23,
   "id": "00538be8",
   "metadata": {
    "ExecuteTime": {
     "end_time": "2023-01-09T04:03:07.205047Z",
     "start_time": "2023-01-09T04:03:03.855163Z"
    }
   },
   "outputs": [
    {
     "name": "stdout",
     "output_type": "stream",
     "text": [
      "Random Forest Classifier:\n",
      "Training data - accuracy:          0.9381\n",
      "Test data - accruacy:              0.9383\n",
      "Classification report:\n",
      "               precision    recall  f1-score   support\n",
      "\n",
      "       False       0.94      1.00      0.97       997\n",
      "        True       0.96      0.60      0.74       170\n",
      "\n",
      "    accuracy                           0.94      1167\n",
      "   macro avg       0.95      0.80      0.85      1167\n",
      "weighted avg       0.94      0.94      0.93      1167\n",
      "\n"
     ]
    }
   ],
   "source": [
    "model_name = \"Random Forest Classifier\"\n",
    "model = RandomForestClassifier(random_state=42)\n",
    "pipe = Pipeline([ ('ct',CT), ('model', model) ])\n",
    "cross_val_and_print_results_on_model(model_name, pipe, X_train, y_train, X_test, y_test)"
   ]
  },
  {
   "cell_type": "markdown",
   "id": "e308d9b4",
   "metadata": {},
   "source": [
    "Results:\n",
    "- The Random Forest model improved the accuracy over the baseline model on test data by ~9%.  \n",
    "- The model does not appear notably underfit or overfit.\n",
    "- This is a top performing model."
   ]
  },
  {
   "cell_type": "markdown",
   "id": "d655f5d7",
   "metadata": {
    "ExecuteTime": {
     "end_time": "2023-01-04T02:27:45.865952Z",
     "start_time": "2023-01-04T02:27:45.846042Z"
    }
   },
   "source": [
    "#### GuassianNB Classifier"
   ]
  },
  {
   "cell_type": "code",
   "execution_count": 24,
   "id": "455918ed",
   "metadata": {
    "ExecuteTime": {
     "end_time": "2023-01-09T04:03:07.408147Z",
     "start_time": "2023-01-09T04:03:07.218573Z"
    }
   },
   "outputs": [
    {
     "name": "stdout",
     "output_type": "stream",
     "text": [
      "GuassianNB Classifier:\n",
      "Training data - accuracy:          0.5527\n",
      "Test data - accruacy:              0.5758\n",
      "Classification report:\n",
      "               precision    recall  f1-score   support\n",
      "\n",
      "       False       0.89      0.57      0.70       997\n",
      "        True       0.19      0.60      0.29       170\n",
      "\n",
      "    accuracy                           0.58      1167\n",
      "   macro avg       0.54      0.59      0.49      1167\n",
      "weighted avg       0.79      0.58      0.64      1167\n",
      "\n"
     ]
    }
   ],
   "source": [
    "model_name = \"GuassianNB Classifier\"\n",
    "model = GaussianNB()\n",
    "pipe = Pipeline([ ('ct',CT), ('model', model) ])\n",
    "cross_val_and_print_results_on_model(model_name, pipe, X_train, y_train, X_test, y_test)"
   ]
  },
  {
   "cell_type": "markdown",
   "id": "dc22b60d",
   "metadata": {},
   "source": [
    "Results:\n",
    "- The Guassian NB model did not perform well. "
   ]
  },
  {
   "cell_type": "markdown",
   "id": "dfef323f",
   "metadata": {
    "ExecuteTime": {
     "end_time": "2023-01-04T02:27:45.865952Z",
     "start_time": "2023-01-04T02:27:45.846042Z"
    }
   },
   "source": [
    "#### SVC Classifier"
   ]
  },
  {
   "cell_type": "code",
   "execution_count": 25,
   "id": "27d4fa28",
   "metadata": {
    "ExecuteTime": {
     "end_time": "2023-01-09T04:03:08.890880Z",
     "start_time": "2023-01-09T04:03:07.410085Z"
    }
   },
   "outputs": [
    {
     "name": "stdout",
     "output_type": "stream",
     "text": [
      "SVC Classifier:\n",
      "Training data - accuracy:          0.9017\n",
      "Test data - accruacy:              0.9109\n",
      "Classification report:\n",
      "               precision    recall  f1-score   support\n",
      "\n",
      "       False       0.91      0.99      0.95       997\n",
      "        True       0.93      0.42      0.58       170\n",
      "\n",
      "    accuracy                           0.91      1167\n",
      "   macro avg       0.92      0.71      0.76      1167\n",
      "weighted avg       0.91      0.91      0.90      1167\n",
      "\n"
     ]
    }
   ],
   "source": [
    "model_name = \"SVC Classifier\"\n",
    "model = SVC(random_state=42)\n",
    "pipe = Pipeline([ ('ct',CT), ('model', model) ])\n",
    "cross_val_and_print_results_on_model(model_name, pipe, X_train, y_train, X_test, y_test)"
   ]
  },
  {
   "cell_type": "markdown",
   "id": "9a95d1fb",
   "metadata": {
    "ExecuteTime": {
     "end_time": "2023-01-04T02:27:45.865952Z",
     "start_time": "2023-01-04T02:27:45.846042Z"
    }
   },
   "source": [
    "Results:\n",
    "- The SVC model improved the accuracy over the baseline model on test data by 4-5%.  \n",
    "- Appears potentially underfit as the test data outperformed the training data."
   ]
  },
  {
   "cell_type": "markdown",
   "id": "bb789bf5",
   "metadata": {},
   "source": [
    "#### Gradient Booster Classifier"
   ]
  },
  {
   "cell_type": "code",
   "execution_count": 26,
   "id": "0fe3c20a",
   "metadata": {
    "ExecuteTime": {
     "end_time": "2023-01-09T04:03:15.229800Z",
     "start_time": "2023-01-09T04:03:08.892869Z"
    }
   },
   "outputs": [
    {
     "name": "stdout",
     "output_type": "stream",
     "text": [
      "Gradient Booster:\n",
      "Training data - accuracy:          0.9451\n",
      "Test data - accruacy:              0.952\n",
      "Classification report:\n",
      "               precision    recall  f1-score   support\n",
      "\n",
      "       False       0.95      0.99      0.97       997\n",
      "        True       0.94      0.72      0.81       170\n",
      "\n",
      "    accuracy                           0.95      1167\n",
      "   macro avg       0.95      0.85      0.89      1167\n",
      "weighted avg       0.95      0.95      0.95      1167\n",
      "\n"
     ]
    }
   ],
   "source": [
    "model_name = \"Gradient Booster\"\n",
    "model = GradientBoostingClassifier(random_state=42)\n",
    "pipe = Pipeline([ ('ct',CT), ('model', model) ])\n",
    "cross_val_and_print_results_on_model(model_name, pipe, X_train, y_train, X_test, y_test)"
   ]
  },
  {
   "cell_type": "markdown",
   "id": "cb71a819",
   "metadata": {},
   "source": [
    "Results:\n",
    "- The Gradient Boosting Classifier improved the accuracy over the baseline model on test data by ~9%.  \n",
    "- Appears potentially underfit as the test data outperformed the training data.\n",
    "- This is a top performing model."
   ]
  },
  {
   "cell_type": "markdown",
   "id": "e77bb6f7",
   "metadata": {},
   "source": [
    "#### XGBoost Classifier"
   ]
  },
  {
   "cell_type": "code",
   "execution_count": 27,
   "id": "c6762861",
   "metadata": {
    "ExecuteTime": {
     "end_time": "2023-01-09T04:03:16.854052Z",
     "start_time": "2023-01-09T04:03:15.233655Z"
    },
    "scrolled": true
   },
   "outputs": [
    {
     "name": "stdout",
     "output_type": "stream",
     "text": [
      "XGBoost Classifier:\n",
      "Training data - accuracy:          0.9529\n",
      "Test data - accruacy:              0.9529\n",
      "Classification report:\n",
      "               precision    recall  f1-score   support\n",
      "\n",
      "           0       0.96      0.99      0.97       997\n",
      "           1       0.93      0.73      0.82       170\n",
      "\n",
      "    accuracy                           0.95      1167\n",
      "   macro avg       0.94      0.86      0.90      1167\n",
      "weighted avg       0.95      0.95      0.95      1167\n",
      "\n"
     ]
    }
   ],
   "source": [
    "encoder = LabelEncoder()\n",
    "y_train_xgb = pd.Series(encoder.fit_transform(y_train))\n",
    "y_test_xgb = pd.Series(encoder.transform(y_test))\n",
    "\n",
    "model_name = \"XGBoost Classifier\"\n",
    "model = XGBClassifier(random_state=42)\n",
    "pipe = Pipeline([ ('ct',CT), ('model', model) ])\n",
    "cross_val_and_print_results_on_model(model_name, pipe, X_train, y_train_xgb, X_test, y_test_xgb)"
   ]
  },
  {
   "cell_type": "markdown",
   "id": "af9b8552",
   "metadata": {},
   "source": [
    "Results:\n",
    "- The XGBoost Classifier improved the accuracy over the baseline model on test data by ~10%.  \n",
    "- It does not appear to be notably underfit or overfit. \n",
    "- This is a top performing model."
   ]
  },
  {
   "cell_type": "markdown",
   "id": "0dcb6ce8",
   "metadata": {
    "heading_collapsed": true
   },
   "source": [
    "#### Conclusion from Round 1\n",
    "- The XGBoost, Gradient Booster, and Random Forest classifiers performed the best on test data. "
   ]
  },
  {
   "cell_type": "markdown",
   "id": "7495f2c3",
   "metadata": {
    "ExecuteTime": {
     "end_time": "2023-01-04T04:13:05.874699Z",
     "start_time": "2023-01-04T04:13:05.865762Z"
    }
   },
   "source": [
    "### Round 2 - Simple Models with Balanced Data"
   ]
  },
  {
   "cell_type": "markdown",
   "id": "c5458f29",
   "metadata": {},
   "source": [
    "As we can see below, the target classes are pretty unbalanced (86%/14%).  In this section, I add SMOTE to the pipeline to see if we can get any better results with the simple models. "
   ]
  },
  {
   "cell_type": "code",
   "execution_count": 28,
   "id": "912de633",
   "metadata": {
    "ExecuteTime": {
     "end_time": "2023-01-09T04:03:16.864952Z",
     "start_time": "2023-01-09T04:03:16.857044Z"
    }
   },
   "outputs": [
    {
     "data": {
      "text/plain": [
       "False    1853\n",
       "True      313\n",
       "Name: churn, dtype: int64"
      ]
     },
     "execution_count": 28,
     "metadata": {},
     "output_type": "execute_result"
    }
   ],
   "source": [
    "y_train.value_counts()"
   ]
  },
  {
   "cell_type": "code",
   "execution_count": 29,
   "id": "34f2892b",
   "metadata": {
    "ExecuteTime": {
     "end_time": "2023-01-09T04:03:16.890651Z",
     "start_time": "2023-01-09T04:03:16.865948Z"
    }
   },
   "outputs": [
    {
     "data": {
      "text/plain": [
       "False    0.855494\n",
       "True     0.144506\n",
       "Name: churn, dtype: float64"
      ]
     },
     "execution_count": 29,
     "metadata": {},
     "output_type": "execute_result"
    }
   ],
   "source": [
    "y_train.value_counts(normalize=True)"
   ]
  },
  {
   "cell_type": "markdown",
   "id": "c87ec922",
   "metadata": {
    "ExecuteTime": {
     "end_time": "2023-01-04T19:52:48.211117Z",
     "start_time": "2023-01-04T19:52:48.202113Z"
    }
   },
   "source": [
    "#### Baseline Model"
   ]
  },
  {
   "cell_type": "code",
   "execution_count": 30,
   "id": "6a55e616",
   "metadata": {
    "ExecuteTime": {
     "end_time": "2023-01-09T04:03:17.399941Z",
     "start_time": "2023-01-09T04:03:16.898788Z"
    }
   },
   "outputs": [
    {
     "name": "stdout",
     "output_type": "stream",
     "text": [
      "Baseline - Original:\n",
      "Training data - accuracy:          0.8555\n",
      "Test data - accruacy:              0.8543\n",
      "Classification report:\n",
      "               precision    recall  f1-score   support\n",
      "\n",
      "       False       0.85      1.00      0.92       997\n",
      "        True       0.00      0.00      0.00       170\n",
      "\n",
      "    accuracy                           0.85      1167\n",
      "   macro avg       0.43      0.50      0.46      1167\n",
      "weighted avg       0.73      0.85      0.79      1167\n",
      "\n",
      "\n",
      "\n"
     ]
    },
    {
     "name": "stderr",
     "output_type": "stream",
     "text": [
      "C:\\Users\\natek\\anaconda3\\envs\\learn-env\\lib\\site-packages\\sklearn\\metrics\\_classification.py:1221: UndefinedMetricWarning: Precision and F-score are ill-defined and being set to 0.0 in labels with no predicted samples. Use `zero_division` parameter to control this behavior.\n",
      "  _warn_prf(average, modifier, msg_start, len(result))\n"
     ]
    },
    {
     "name": "stdout",
     "output_type": "stream",
     "text": [
      "Baseline - Balanced:\n",
      "Training data - accuracy:          0.8555\n",
      "Test data - accruacy:              0.8543\n",
      "Classification report:\n",
      "               precision    recall  f1-score   support\n",
      "\n",
      "       False       0.85      1.00      0.92       997\n",
      "        True       0.00      0.00      0.00       170\n",
      "\n",
      "    accuracy                           0.85      1167\n",
      "   macro avg       0.43      0.50      0.46      1167\n",
      "weighted avg       0.73      0.85      0.79      1167\n",
      "\n"
     ]
    },
    {
     "name": "stderr",
     "output_type": "stream",
     "text": [
      "C:\\Users\\natek\\anaconda3\\envs\\learn-env\\lib\\site-packages\\sklearn\\metrics\\_classification.py:1221: UndefinedMetricWarning: Precision and F-score are ill-defined and being set to 0.0 in labels with no predicted samples. Use `zero_division` parameter to control this behavior.\n",
      "  _warn_prf(average, modifier, msg_start, len(result))\n"
     ]
    }
   ],
   "source": [
    "model_name = \"Baseline - Original\"\n",
    "model = DummyClassifier(strategy='most_frequent', random_state=42)\n",
    "pipe = Pipeline([ ('ct',CT), ('model', model) ])\n",
    "cross_val_and_print_results_on_model(model_name, pipe, X_train, y_train, X_test, y_test)\n",
    "\n",
    "print(\"\\n\")\n",
    "model_name = \"Baseline - Balanced\"\n",
    "model = DummyClassifier(strategy='most_frequent', random_state=42)\n",
    "pipe = ImPipeline([ ('ct',CT), ('sm1', SMOTE()), ('model', model) ])\n",
    "cross_val_and_print_results_on_model(model_name, pipe, X_train, y_train, X_test, y_test)"
   ]
  },
  {
   "cell_type": "markdown",
   "id": "27073511",
   "metadata": {},
   "source": [
    "Results:\n",
    "- Balancing the data did not change the results on the baseline model.  I'm not certain of the reason.  Moving on to see if balancing the data changes the results of the other models.  "
   ]
  },
  {
   "cell_type": "markdown",
   "id": "d4df742b",
   "metadata": {},
   "source": [
    "#### Logistic Regression Classifier"
   ]
  },
  {
   "cell_type": "code",
   "execution_count": 31,
   "id": "9463d270",
   "metadata": {
    "ExecuteTime": {
     "end_time": "2023-01-09T04:03:18.663485Z",
     "start_time": "2023-01-09T04:03:17.401926Z"
    }
   },
   "outputs": [
    {
     "name": "stdout",
     "output_type": "stream",
     "text": [
      "Logistic Regression - Original:\n",
      "Training data - accuracy:          0.8569\n",
      "Test data - accruacy:              0.8646\n",
      "Classification report:\n",
      "               precision    recall  f1-score   support\n",
      "\n",
      "       False       0.88      0.97      0.92       997\n",
      "        True       0.60      0.22      0.32       170\n",
      "\n",
      "    accuracy                           0.86      1167\n",
      "   macro avg       0.74      0.60      0.62      1167\n",
      "weighted avg       0.84      0.86      0.84      1167\n",
      "\n",
      "\n",
      "\n",
      "Logistic Regression - Balanced:\n",
      "Training data - accuracy:          0.7567\n",
      "Test data - accruacy:              0.7635\n",
      "Classification report:\n",
      "               precision    recall  f1-score   support\n",
      "\n",
      "       False       0.94      0.77      0.85       997\n",
      "        True       0.35      0.72      0.47       170\n",
      "\n",
      "    accuracy                           0.76      1167\n",
      "   macro avg       0.65      0.75      0.66      1167\n",
      "weighted avg       0.86      0.76      0.79      1167\n",
      "\n"
     ]
    }
   ],
   "source": [
    "model_name = \"Logistic Regression - Original\"\n",
    "model = LogisticRegression(random_state=42, max_iter=200)\n",
    "pipe = Pipeline([ ('ct',CT), ('model', model) ])\n",
    "cross_val_and_print_results_on_model(model_name, pipe, X_train, y_train, X_test, y_test)\n",
    "\n",
    "print(\"\\n\")\n",
    "model_name = \"Logistic Regression - Balanced\"\n",
    "model = LogisticRegression(random_state=42, max_iter=200)\n",
    "pipe = ImPipeline([ ('ct',CT), ('sm1', SMOTE()), ('model', model) ])\n",
    "cross_val_and_print_results_on_model(model_name, pipe, X_train, y_train, X_test, y_test)"
   ]
  },
  {
   "cell_type": "markdown",
   "id": "3967c4df",
   "metadata": {},
   "source": [
    "Results:  \n",
    "- Balancing the data decreased the accuracy of the model on test data.   "
   ]
  },
  {
   "cell_type": "markdown",
   "id": "c96da41c",
   "metadata": {},
   "source": [
    "#### Decision Tree Classifier"
   ]
  },
  {
   "cell_type": "code",
   "execution_count": 32,
   "id": "f8a3eea7",
   "metadata": {
    "ExecuteTime": {
     "end_time": "2023-01-09T04:03:19.937972Z",
     "start_time": "2023-01-09T04:03:18.667468Z"
    }
   },
   "outputs": [
    {
     "name": "stdout",
     "output_type": "stream",
     "text": [
      "Decision Tree Classifier - Original:\n",
      "Training data - accuracy:          0.9031\n",
      "Test data - accruacy:              0.9186\n",
      "Classification report:\n",
      "               precision    recall  f1-score   support\n",
      "\n",
      "       False       0.96      0.95      0.95       997\n",
      "        True       0.70      0.76      0.73       170\n",
      "\n",
      "    accuracy                           0.92      1167\n",
      "   macro avg       0.83      0.85      0.84      1167\n",
      "weighted avg       0.92      0.92      0.92      1167\n",
      "\n",
      "\n",
      "\n",
      "Decision Tree Classifier - Balanced:\n",
      "Training data - accuracy:          0.885\n",
      "Test data - accruacy:              0.9109\n",
      "Classification report:\n",
      "               precision    recall  f1-score   support\n",
      "\n",
      "       False       0.96      0.93      0.95       997\n",
      "        True       0.67      0.77      0.72       170\n",
      "\n",
      "    accuracy                           0.91      1167\n",
      "   macro avg       0.81      0.85      0.83      1167\n",
      "weighted avg       0.92      0.91      0.91      1167\n",
      "\n"
     ]
    }
   ],
   "source": [
    "model_name = \"Decision Tree Classifier - Original\"\n",
    "model = DecisionTreeClassifier(random_state=42)\n",
    "pipe = Pipeline([ ('ct',CT), ('model', model) ])\n",
    "cross_val_and_print_results_on_model(model_name, pipe, X_train, y_train, X_test, y_test)\n",
    "\n",
    "print(\"\\n\")\n",
    "model_name = \"Decision Tree Classifier - Balanced\"\n",
    "model = DecisionTreeClassifier(random_state=42)\n",
    "pipe = ImPipeline([ ('ct',CT), ('sm1', SMOTE()), ('model', model) ])\n",
    "cross_val_and_print_results_on_model(model_name, pipe, X_train, y_train, X_test, y_test)"
   ]
  },
  {
   "cell_type": "markdown",
   "id": "bc86ce9a",
   "metadata": {
    "ExecuteTime": {
     "end_time": "2023-01-03T23:53:21.687563Z",
     "start_time": "2023-01-03T23:53:21.681611Z"
    }
   },
   "source": [
    "Results:\n",
    "- Balancing the data slightly improved accuracy of the model on test data.   "
   ]
  },
  {
   "cell_type": "markdown",
   "id": "9e8dc7fb",
   "metadata": {
    "ExecuteTime": {
     "end_time": "2023-01-03T23:53:21.687563Z",
     "start_time": "2023-01-03T23:53:21.681611Z"
    }
   },
   "source": [
    "#### KNearestNeighbors Classifier"
   ]
  },
  {
   "cell_type": "code",
   "execution_count": 33,
   "id": "c8fe50ba",
   "metadata": {
    "ExecuteTime": {
     "end_time": "2023-01-09T04:03:22.418351Z",
     "start_time": "2023-01-09T04:03:19.947027Z"
    }
   },
   "outputs": [
    {
     "name": "stdout",
     "output_type": "stream",
     "text": [
      "KNearestNeighbors Classifier - Original:\n",
      "Training data - accuracy:          0.8818\n",
      "Test data - accruacy:              0.88\n",
      "Classification report:\n",
      "               precision    recall  f1-score   support\n",
      "\n",
      "       False       0.88      1.00      0.93       997\n",
      "        True       0.92      0.19      0.32       170\n",
      "\n",
      "    accuracy                           0.88      1167\n",
      "   macro avg       0.90      0.60      0.63      1167\n",
      "weighted avg       0.88      0.88      0.84      1167\n",
      "\n",
      "\n",
      "\n",
      "KNearestNeighbors Classifier - Balanced:\n",
      "Training data - accuracy:          0.7419\n",
      "Test data - accruacy:              0.7438\n",
      "Classification report:\n",
      "               precision    recall  f1-score   support\n",
      "\n",
      "       False       0.94      0.75      0.83       997\n",
      "        True       0.33      0.72      0.45       170\n",
      "\n",
      "    accuracy                           0.74      1167\n",
      "   macro avg       0.63      0.74      0.64      1167\n",
      "weighted avg       0.85      0.74      0.78      1167\n",
      "\n"
     ]
    }
   ],
   "source": [
    "model_name = \"KNearestNeighbors Classifier - Original\"\n",
    "model = KNeighborsClassifier()\n",
    "pipe = Pipeline([('ct',CT), ('model', model) ])\n",
    "cross_val_and_print_results_on_model(model_name, pipe, X_train, y_train, X_test, y_test)\n",
    "\n",
    "print(\"\\n\")\n",
    "model_name = \"KNearestNeighbors Classifier - Balanced\"\n",
    "model = KNeighborsClassifier()\n",
    "pipe = ImPipeline([ ('ct',CT), ('sm1', SMOTE()), ('model', model) ])\n",
    "cross_val_and_print_results_on_model(model_name, pipe, X_train, y_train, X_test, y_test)"
   ]
  },
  {
   "cell_type": "markdown",
   "id": "012e7270",
   "metadata": {
    "ExecuteTime": {
     "end_time": "2023-01-03T23:53:21.687563Z",
     "start_time": "2023-01-03T23:53:21.681611Z"
    }
   },
   "source": [
    "Results:\n",
    "- Balancing the data decreased the accuracy of the model on test data.  "
   ]
  },
  {
   "cell_type": "markdown",
   "id": "f9e07790",
   "metadata": {
    "ExecuteTime": {
     "end_time": "2023-01-03T23:53:21.687563Z",
     "start_time": "2023-01-03T23:53:21.681611Z"
    }
   },
   "source": [
    "#### Random Forest Classifier"
   ]
  },
  {
   "cell_type": "code",
   "execution_count": 34,
   "id": "337a7c02",
   "metadata": {
    "ExecuteTime": {
     "end_time": "2023-01-09T04:03:31.000253Z",
     "start_time": "2023-01-09T04:03:22.420263Z"
    }
   },
   "outputs": [
    {
     "name": "stdout",
     "output_type": "stream",
     "text": [
      "Random Forest Classifier - Original:\n",
      "Training data - accuracy:          0.9381\n",
      "Test data - accruacy:              0.9383\n",
      "Classification report:\n",
      "               precision    recall  f1-score   support\n",
      "\n",
      "       False       0.94      1.00      0.97       997\n",
      "        True       0.96      0.60      0.74       170\n",
      "\n",
      "    accuracy                           0.94      1167\n",
      "   macro avg       0.95      0.80      0.85      1167\n",
      "weighted avg       0.94      0.94      0.93      1167\n",
      "\n",
      "\n",
      "\n",
      "Random Forest Classifier - Balanced:\n",
      "Training data - accuracy:          0.9326\n",
      "Test data - accruacy:              0.9374\n",
      "Classification report:\n",
      "               precision    recall  f1-score   support\n",
      "\n",
      "       False       0.95      0.98      0.96       997\n",
      "        True       0.84      0.71      0.77       170\n",
      "\n",
      "    accuracy                           0.94      1167\n",
      "   macro avg       0.90      0.84      0.87      1167\n",
      "weighted avg       0.93      0.94      0.94      1167\n",
      "\n"
     ]
    }
   ],
   "source": [
    "model_name = \"Random Forest Classifier - Original\"\n",
    "model = RandomForestClassifier(random_state=42)\n",
    "pipe = Pipeline([ ('ct',CT), ('model', model) ])\n",
    "cross_val_and_print_results_on_model(model_name, pipe, X_train, y_train, X_test, y_test)\n",
    "\n",
    "print(\"\\n\")\n",
    "model_name = \"Random Forest Classifier - Balanced\"\n",
    "model = RandomForestClassifier(random_state=42)\n",
    "pipe = ImPipeline([ ('ct',CT), ('sm1', SMOTE()), ('model', model) ])\n",
    "cross_val_and_print_results_on_model(model_name, pipe, X_train, y_train, X_test, y_test)"
   ]
  },
  {
   "cell_type": "markdown",
   "id": "13fcb89f",
   "metadata": {},
   "source": [
    "Results:\n",
    "- Balancing the data did not notably increase the accuracy of the model on test data.  "
   ]
  },
  {
   "cell_type": "markdown",
   "id": "611ecd7d",
   "metadata": {
    "ExecuteTime": {
     "end_time": "2023-01-04T02:27:45.865952Z",
     "start_time": "2023-01-04T02:27:45.846042Z"
    }
   },
   "source": [
    "#### GuassianNB Classifier"
   ]
  },
  {
   "cell_type": "code",
   "execution_count": 35,
   "id": "6f46e1be",
   "metadata": {
    "ExecuteTime": {
     "end_time": "2023-01-09T04:03:31.558273Z",
     "start_time": "2023-01-09T04:03:31.003121Z"
    }
   },
   "outputs": [
    {
     "name": "stdout",
     "output_type": "stream",
     "text": [
      "GuassianNB Classifier - Original:\n",
      "Training data - accuracy:          0.5527\n",
      "Test data - accruacy:              0.5758\n",
      "Classification report:\n",
      "               precision    recall  f1-score   support\n",
      "\n",
      "       False       0.89      0.57      0.70       997\n",
      "        True       0.19      0.60      0.29       170\n",
      "\n",
      "    accuracy                           0.58      1167\n",
      "   macro avg       0.54      0.59      0.49      1167\n",
      "weighted avg       0.79      0.58      0.64      1167\n",
      "\n",
      "GuassianNB Classifier - Balanced:\n",
      "Training data - accuracy:          0.5508\n",
      "Test data - accruacy:              0.5381\n",
      "Classification report:\n",
      "               precision    recall  f1-score   support\n",
      "\n",
      "       False       0.88      0.53      0.66       997\n",
      "        True       0.17      0.56      0.26       170\n",
      "\n",
      "    accuracy                           0.54      1167\n",
      "   macro avg       0.52      0.55      0.46      1167\n",
      "weighted avg       0.77      0.54      0.61      1167\n",
      "\n"
     ]
    }
   ],
   "source": [
    "model_name = \"GuassianNB Classifier - Original\"\n",
    "model = GaussianNB()\n",
    "pipe = Pipeline([ ('ct',CT), ('model', model) ])\n",
    "cross_val_and_print_results_on_model(model_name, pipe, X_train, y_train, X_test, y_test)\n",
    "\n",
    "\n",
    "model_name = \"GuassianNB Classifier - Balanced\"\n",
    "model = GaussianNB()\n",
    "pipe = ImPipeline([ ('ct',CT), ('sm1', SMOTE()), ('model', model) ])\n",
    "cross_val_and_print_results_on_model(model_name, pipe, X_train, y_train, X_test, y_test)"
   ]
  },
  {
   "cell_type": "markdown",
   "id": "db5145ab",
   "metadata": {},
   "source": [
    "Results:\n",
    "- Balancing the data decreased the accuracy of the model on test data.   "
   ]
  },
  {
   "cell_type": "markdown",
   "id": "9b749b0b",
   "metadata": {
    "ExecuteTime": {
     "end_time": "2023-01-04T02:27:45.865952Z",
     "start_time": "2023-01-04T02:27:45.846042Z"
    }
   },
   "source": [
    "#### SVC Classifier"
   ]
  },
  {
   "cell_type": "code",
   "execution_count": 36,
   "id": "db6693f2",
   "metadata": {
    "ExecuteTime": {
     "end_time": "2023-01-09T04:03:37.888886Z",
     "start_time": "2023-01-09T04:03:31.560088Z"
    }
   },
   "outputs": [
    {
     "name": "stdout",
     "output_type": "stream",
     "text": [
      "SVC Classifier - Original:\n",
      "Training data - accuracy:          0.9017\n",
      "Test data - accruacy:              0.9109\n",
      "Classification report:\n",
      "               precision    recall  f1-score   support\n",
      "\n",
      "       False       0.91      0.99      0.95       997\n",
      "        True       0.93      0.42      0.58       170\n",
      "\n",
      "    accuracy                           0.91      1167\n",
      "   macro avg       0.92      0.71      0.76      1167\n",
      "weighted avg       0.91      0.91      0.90      1167\n",
      "\n",
      "\n",
      "\n",
      "SVC Classifier - Balanced:\n",
      "Training data - accuracy:          0.898\n",
      "Test data - accruacy:              0.9075\n",
      "Classification report:\n",
      "               precision    recall  f1-score   support\n",
      "\n",
      "       False       0.94      0.95      0.95       997\n",
      "        True       0.68      0.68      0.68       170\n",
      "\n",
      "    accuracy                           0.91      1167\n",
      "   macro avg       0.81      0.81      0.81      1167\n",
      "weighted avg       0.91      0.91      0.91      1167\n",
      "\n"
     ]
    }
   ],
   "source": [
    "model_name = \"SVC Classifier - Original\"\n",
    "model = SVC(random_state=42)\n",
    "pipe = Pipeline([ ('ct',CT), ('model', model) ])\n",
    "cross_val_and_print_results_on_model(model_name, pipe, X_train, y_train, X_test, y_test)\n",
    "\n",
    "print(\"\\n\")\n",
    "model_name = \"SVC Classifier - Balanced\"\n",
    "model = SVC(random_state=42)\n",
    "pipe = ImPipeline([ ('ct',CT), ('sm1', SMOTE()), ('model', model) ])\n",
    "cross_val_and_print_results_on_model(model_name, pipe, X_train, y_train, X_test, y_test)"
   ]
  },
  {
   "cell_type": "markdown",
   "id": "c78491af",
   "metadata": {
    "ExecuteTime": {
     "end_time": "2023-01-04T02:27:45.865952Z",
     "start_time": "2023-01-04T02:27:45.846042Z"
    }
   },
   "source": [
    "Results:\n",
    "- Balancing the data decreased the accuracy of the model on test data.  "
   ]
  },
  {
   "cell_type": "markdown",
   "id": "439ada51",
   "metadata": {
    "ExecuteTime": {
     "end_time": "2023-01-04T02:27:45.865952Z",
     "start_time": "2023-01-04T02:27:45.846042Z"
    }
   },
   "source": [
    "#### Gradient Booster Classifier"
   ]
  },
  {
   "cell_type": "code",
   "execution_count": 37,
   "id": "3ac72283",
   "metadata": {
    "ExecuteTime": {
     "end_time": "2023-01-09T04:03:59.562385Z",
     "start_time": "2023-01-09T04:03:37.890715Z"
    }
   },
   "outputs": [
    {
     "name": "stdout",
     "output_type": "stream",
     "text": [
      "Gradient Booster - Original:\n",
      "Training data - accuracy:          0.9451\n",
      "Test data - accruacy:              0.952\n",
      "Classification report:\n",
      "               precision    recall  f1-score   support\n",
      "\n",
      "       False       0.95      0.99      0.97       997\n",
      "        True       0.94      0.72      0.81       170\n",
      "\n",
      "    accuracy                           0.95      1167\n",
      "   macro avg       0.95      0.85      0.89      1167\n",
      "weighted avg       0.95      0.95      0.95      1167\n",
      "\n",
      "\n",
      "\n",
      "Gradient Booster - Balanced:\n",
      "Training data - accuracy:          0.9354\n",
      "Test data - accruacy:              0.9409\n",
      "Classification report:\n",
      "               precision    recall  f1-score   support\n",
      "\n",
      "       False       0.96      0.97      0.97       997\n",
      "        True       0.82      0.76      0.79       170\n",
      "\n",
      "    accuracy                           0.94      1167\n",
      "   macro avg       0.89      0.87      0.88      1167\n",
      "weighted avg       0.94      0.94      0.94      1167\n",
      "\n"
     ]
    }
   ],
   "source": [
    "model_name = \"Gradient Booster - Original\"\n",
    "model = GradientBoostingClassifier(random_state=42)\n",
    "pipe = Pipeline([ ('ct',CT), ('model', model) ])\n",
    "cross_val_and_print_results_on_model(model_name, pipe, X_train, y_train, X_test, y_test)\n",
    "\n",
    "print(\"\\n\")\n",
    "model_name = \"Gradient Booster - Balanced\"\n",
    "model = GradientBoostingClassifier(random_state=42)\n",
    "pipe = ImPipeline([ ('ct',CT), ('sm1', SMOTE()), ('model', model) ])\n",
    "cross_val_and_print_results_on_model(model_name, pipe, X_train, y_train, X_test, y_test)"
   ]
  },
  {
   "cell_type": "markdown",
   "id": "33095396",
   "metadata": {},
   "source": [
    "Results:\n",
    "- Balancing the data decreased the accuracy of the model on test data."
   ]
  },
  {
   "cell_type": "markdown",
   "id": "2de62b20",
   "metadata": {},
   "source": [
    "#### XGBoost Classifier"
   ]
  },
  {
   "cell_type": "code",
   "execution_count": 38,
   "id": "4c240f4f",
   "metadata": {
    "ExecuteTime": {
     "end_time": "2023-01-09T04:04:04.210898Z",
     "start_time": "2023-01-09T04:03:59.565014Z"
    }
   },
   "outputs": [
    {
     "name": "stdout",
     "output_type": "stream",
     "text": [
      "XGBoost Classifier - Original:\n",
      "Training data - accuracy:          0.9529\n",
      "Test data - accruacy:              0.9529\n",
      "Classification report:\n",
      "               precision    recall  f1-score   support\n",
      "\n",
      "           0       0.96      0.99      0.97       997\n",
      "           1       0.93      0.73      0.82       170\n",
      "\n",
      "    accuracy                           0.95      1167\n",
      "   macro avg       0.94      0.86      0.90      1167\n",
      "weighted avg       0.95      0.95      0.95      1167\n",
      "\n",
      "\n",
      "\n",
      "XGBoost Classifier - Balanced:\n",
      "Training data - accuracy:          0.9497\n",
      "Test data - accruacy:              0.9589\n",
      "Classification report:\n",
      "               precision    recall  f1-score   support\n",
      "\n",
      "           0       0.96      0.99      0.98       997\n",
      "           1       0.92      0.79      0.85       170\n",
      "\n",
      "    accuracy                           0.96      1167\n",
      "   macro avg       0.94      0.89      0.91      1167\n",
      "weighted avg       0.96      0.96      0.96      1167\n",
      "\n"
     ]
    }
   ],
   "source": [
    "encoder = LabelEncoder()\n",
    "y_train_xgb = pd.Series(encoder.fit_transform(y_train))\n",
    "y_test_xgb = pd.Series(encoder.transform(y_test))\n",
    "\n",
    "model_name = \"XGBoost Classifier - Original\"\n",
    "model = XGBClassifier(random_state=42)\n",
    "pipe = Pipeline([ ('ct',CT), ('model', model) ])\n",
    "cross_val_and_print_results_on_model(model_name, pipe, X_train, y_train_xgb, X_test, y_test_xgb)\n",
    "\n",
    "print(\"\\n\")\n",
    "model_name = \"XGBoost Classifier - Balanced\"\n",
    "model = XGBClassifier(random_state=42)\n",
    "pipe = ImPipeline([ ('ct',CT), ('sm1', SMOTE()), ('model', model) ])\n",
    "cross_val_and_print_results_on_model(model_name, pipe, X_train, y_train_xgb, X_test, y_test_xgb)"
   ]
  },
  {
   "cell_type": "markdown",
   "id": "36b02639",
   "metadata": {
    "ExecuteTime": {
     "end_time": "2023-01-04T22:41:39.881383Z",
     "start_time": "2023-01-04T22:41:39.870457Z"
    }
   },
   "source": [
    "Results:\n",
    "- Balancing the data slightly improved the accuracy of the model on test data.  "
   ]
  },
  {
   "cell_type": "markdown",
   "id": "187df9c4",
   "metadata": {},
   "source": [
    "#### Conclusion from Round 2\n",
    "- Using SMOTE to balance the data did not notably improve any of the models performance, and in fact it decreased the performance of most of the models.  It appears that using data as is (86/14 split) is not that bad for the models.  This would align with the 90/10 split threshold discussed during our class.  As such, I will not use SMOTE going forward in the next round of modeling.  "
   ]
  },
  {
   "cell_type": "markdown",
   "id": "77fb3207",
   "metadata": {},
   "source": [
    "### Round 3 - Hyperparameter Tuning the 3 Best Performing Models"
   ]
  },
  {
   "cell_type": "markdown",
   "id": "26cd4d39",
   "metadata": {},
   "source": [
    "#### XGBoost Classifier"
   ]
  },
  {
   "cell_type": "markdown",
   "id": "bae5a4b9",
   "metadata": {},
   "source": [
    "**Create the model and pipeline**"
   ]
  },
  {
   "cell_type": "code",
   "execution_count": 39,
   "id": "47a57bef",
   "metadata": {
    "ExecuteTime": {
     "end_time": "2023-01-09T04:04:04.235278Z",
     "start_time": "2023-01-09T04:04:04.212765Z"
    }
   },
   "outputs": [],
   "source": [
    "# Transform y-train and y-test based using LabelEncoder\n",
    "# This is specific to XGBoost\n",
    "encoder = LabelEncoder()\n",
    "y_train_xgb = pd.Series(encoder.fit_transform(y_train))\n",
    "y_test_xgb = pd.Series(encoder.transform(y_test))\n",
    "\n",
    "model_name = \"XGBoost Classifier\"\n",
    "model = XGBClassifier(random_state=42)\n",
    "pipe = Pipeline([('ct',CT),\n",
    "                 ('model', model) \n",
    "])"
   ]
  },
  {
   "cell_type": "markdown",
   "id": "532e2d1d",
   "metadata": {},
   "source": [
    "**Round 1 of Gridsearching on XGBoost Classifer (try parameters to the left and right of defaults)**"
   ]
  },
  {
   "cell_type": "code",
   "execution_count": 40,
   "id": "719643c3",
   "metadata": {
    "ExecuteTime": {
     "end_time": "2023-01-09T04:04:53.138340Z",
     "start_time": "2023-01-09T04:04:04.238186Z"
    }
   },
   "outputs": [
    {
     "name": "stdout",
     "output_type": "stream",
     "text": [
      "Fitting 5 folds for each of 54 candidates, totalling 270 fits\n"
     ]
    },
    {
     "name": "stderr",
     "output_type": "stream",
     "text": [
      "[Parallel(n_jobs=1)]: Using backend SequentialBackend with 1 concurrent workers.\n",
      "[Parallel(n_jobs=1)]: Done 270 out of 270 | elapsed:   48.6s finished\n"
     ]
    },
    {
     "name": "stdout",
     "output_type": "stream",
     "text": [
      "Results:\n",
      "- Best params:  {'model__learning_rate': 0.5, 'model__max_depth': 6, 'model__min_child_weight': 0, 'model__subsample': 1.0}\n",
      "- Best score:  0.9547588893264226\n",
      "- Test data score:  0.9562982005141388\n"
     ]
    }
   ],
   "source": [
    "parameters = {'model__learning_rate':[.1, .3, .5],          # default is 0.3 \n",
    "              'model__max_depth': [4, 6, 8],                # default is 6    \n",
    "              'model__min_child_weight': [0, 1, 2],         # default is 1    \n",
    "              'model__subsample': [.75, 1.0]                # default is 1   \n",
    "             }\n",
    "grid_search_and_print_results(parameters, pipe, X_train, y_train_xgb, X_test, y_test_xgb)"
   ]
  },
  {
   "cell_type": "markdown",
   "id": "bca90e8b",
   "metadata": {},
   "source": [
    "Results:\n",
    "- Pretty good results. Accuracy is at 96% (round to the nearest %)."
   ]
  },
  {
   "cell_type": "markdown",
   "id": "6cf24334",
   "metadata": {},
   "source": [
    "**Round 2 of Gridsearching on XGBoost Classifer (adjusted from round 1 gridsearch)**"
   ]
  },
  {
   "cell_type": "code",
   "execution_count": 41,
   "id": "e44337ad",
   "metadata": {
    "ExecuteTime": {
     "end_time": "2023-01-09T04:06:13.301051Z",
     "start_time": "2023-01-09T04:04:53.142449Z"
    }
   },
   "outputs": [
    {
     "name": "stdout",
     "output_type": "stream",
     "text": [
      "Fitting 5 folds for each of 81 candidates, totalling 405 fits\n"
     ]
    },
    {
     "name": "stderr",
     "output_type": "stream",
     "text": [
      "[Parallel(n_jobs=1)]: Using backend SequentialBackend with 1 concurrent workers.\n",
      "[Parallel(n_jobs=1)]: Done 405 out of 405 | elapsed:  1.3min finished\n"
     ]
    },
    {
     "name": "stdout",
     "output_type": "stream",
     "text": [
      "Results:\n",
      "- Best params:  {'model__learning_rate': 0.4, 'model__max_depth': 7, 'model__min_child_weight': 0, 'model__subsample': 1.0}\n",
      "- Best score:  0.9561392492629921\n",
      "- Test data score:  0.9545844044558698\n"
     ]
    }
   ],
   "source": [
    "parameters = {'model__learning_rate':[.4, .5, .6],            \n",
    "              'model__max_depth': [5, 6, 7],                 \n",
    "              'model__min_child_weight': [0, .25, .5],      \n",
    "              'model__subsample': [.8, .9, 1.0]                 \n",
    "             }\n",
    "grid_search_and_print_results(parameters, pipe, X_train, y_train_xgb, X_test, y_test_xgb)"
   ]
  },
  {
   "cell_type": "markdown",
   "id": "9bef51be",
   "metadata": {},
   "source": [
    "Results:\n",
    "- Adjusting the model did worse.  Let's go with the parameters we found from Round 1 Gridsearch.  "
   ]
  },
  {
   "cell_type": "markdown",
   "id": "32819ff1",
   "metadata": {},
   "source": [
    "#### Gradient Booster Classifier"
   ]
  },
  {
   "cell_type": "markdown",
   "id": "62eda8ee",
   "metadata": {},
   "source": [
    "**Create the model and pipeline**"
   ]
  },
  {
   "cell_type": "code",
   "execution_count": 42,
   "id": "787c3aeb",
   "metadata": {
    "ExecuteTime": {
     "end_time": "2023-01-09T04:06:13.316938Z",
     "start_time": "2023-01-09T04:06:13.305882Z"
    }
   },
   "outputs": [],
   "source": [
    "model_name = \"Gradient Booster\"\n",
    "model = GradientBoostingClassifier(random_state=42)\n",
    "pipe = Pipeline([ ('ct', CT), ('model', model) ])"
   ]
  },
  {
   "cell_type": "markdown",
   "id": "672622ea",
   "metadata": {},
   "source": [
    "**Round 1 of Gridsearching on Gradient Booster Classifier (try parameters to the left and right of defaults)**"
   ]
  },
  {
   "cell_type": "code",
   "execution_count": 43,
   "id": "fb6a509e",
   "metadata": {
    "ExecuteTime": {
     "end_time": "2023-01-09T04:08:20.738155Z",
     "start_time": "2023-01-09T04:06:13.319844Z"
    },
    "scrolled": true
   },
   "outputs": [
    {
     "name": "stdout",
     "output_type": "stream",
     "text": [
      "Fitting 5 folds for each of 54 candidates, totalling 270 fits\n"
     ]
    },
    {
     "name": "stderr",
     "output_type": "stream",
     "text": [
      "[Parallel(n_jobs=1)]: Using backend SequentialBackend with 1 concurrent workers.\n",
      "[Parallel(n_jobs=1)]: Done 270 out of 270 | elapsed:  2.1min finished\n"
     ]
    },
    {
     "name": "stdout",
     "output_type": "stream",
     "text": [
      "Results:\n",
      "- Best params:  {'model__learning_rate': 0.1, 'model__max_depth': 4, 'model__n_estimators': 100, 'model__subsample': 1.0}\n",
      "- Best score:  0.9510648034822958\n",
      "- Test data score:  0.9502999143101971\n"
     ]
    }
   ],
   "source": [
    "parameters = {'model__n_estimators':[50, 100, 200],                      # default is 100\n",
    "              'model__learning_rate':[.1, .3],                           # default is 0.1 \n",
    "              'model__max_depth': [1, 3, 4],                             # default is 3 \n",
    "              'model__subsample': [.6, .8, 1.0]                          # default is 1   \n",
    "             }\n",
    "\n",
    "grid_search_and_print_results(parameters, pipe, X_train, y_train, X_test, y_test)"
   ]
  },
  {
   "cell_type": "markdown",
   "id": "f8b7ae85",
   "metadata": {},
   "source": [
    "Results:\n",
    "- Model did ok.  Did not do better than XGBoost.  Let's try one more round of gradient boosting classifier."
   ]
  },
  {
   "cell_type": "markdown",
   "id": "bc063885",
   "metadata": {},
   "source": [
    "**Round 2 of Gridsearching on Gradient Booster Classifier (adjusted from prior gridsearch)**"
   ]
  },
  {
   "cell_type": "code",
   "execution_count": 44,
   "id": "462e5e91",
   "metadata": {
    "ExecuteTime": {
     "end_time": "2023-01-09T04:09:24.693016Z",
     "start_time": "2023-01-09T04:08:20.739962Z"
    },
    "scrolled": true
   },
   "outputs": [
    {
     "name": "stdout",
     "output_type": "stream",
     "text": [
      "Fitting 5 folds for each of 12 candidates, totalling 60 fits\n"
     ]
    },
    {
     "name": "stderr",
     "output_type": "stream",
     "text": [
      "[Parallel(n_jobs=1)]: Using backend SequentialBackend with 1 concurrent workers.\n",
      "[Parallel(n_jobs=1)]: Done  60 out of  60 | elapsed:  1.0min finished\n"
     ]
    },
    {
     "name": "stdout",
     "output_type": "stream",
     "text": [
      "Results:\n",
      "- Best params:  {'model__learning_rate': 0.1, 'model__max_depth': 4, 'model__n_estimators': 100, 'model__subsample': 1.0}\n",
      "- Best score:  0.9510648034822958\n",
      "- Test data score:  0.9502999143101971\n"
     ]
    }
   ],
   "source": [
    "parameters = {'model__n_estimators':[100],                                # default is 100\n",
    "              'model__learning_rate':[.1, .2],                            # default is 0.1 \n",
    "              'model__max_depth': [4, 6, 8],                              # default is 3 \n",
    "              'model__subsample': [.9, 1.0]                               # default is 1   \n",
    "             }\n",
    "\n",
    "grid_search_and_print_results(parameters, pipe, X_train, y_train, X_test, y_test)"
   ]
  },
  {
   "cell_type": "markdown",
   "id": "dfcc9b1e",
   "metadata": {},
   "source": [
    "Results:\n",
    "- Did not improve the results.  XGBoost is still the best performing.  Let's try Random Forest Classifier. "
   ]
  },
  {
   "cell_type": "markdown",
   "id": "f076517e",
   "metadata": {
    "ExecuteTime": {
     "end_time": "2023-01-04T22:47:18.471534Z",
     "start_time": "2023-01-04T22:47:18.460046Z"
    }
   },
   "source": [
    "#### Random Forest Classifier"
   ]
  },
  {
   "cell_type": "markdown",
   "id": "e8a7b846",
   "metadata": {},
   "source": [
    "**Create the model and pipeline**"
   ]
  },
  {
   "cell_type": "code",
   "execution_count": 45,
   "id": "f21473db",
   "metadata": {
    "ExecuteTime": {
     "end_time": "2023-01-09T04:09:24.702188Z",
     "start_time": "2023-01-09T04:09:24.695009Z"
    }
   },
   "outputs": [],
   "source": [
    "model_name = \"Random Forest Classifier\"\n",
    "model = RandomForestClassifier(random_state=42)\n",
    "pipe = Pipeline([('ct',CT),\n",
    "                 ('model', model) \n",
    "])"
   ]
  },
  {
   "cell_type": "markdown",
   "id": "70d396e9",
   "metadata": {},
   "source": [
    "**Round 1 of Gridsearching on Random Forest Classifier (try parameters to the left and right of defaults)**"
   ]
  },
  {
   "cell_type": "code",
   "execution_count": 46,
   "id": "07e8884f",
   "metadata": {
    "ExecuteTime": {
     "end_time": "2023-01-09T04:10:45.171885Z",
     "start_time": "2023-01-09T04:09:24.705207Z"
    },
    "scrolled": true
   },
   "outputs": [
    {
     "name": "stdout",
     "output_type": "stream",
     "text": [
      "Fitting 5 folds for each of 72 candidates, totalling 360 fits\n"
     ]
    },
    {
     "name": "stderr",
     "output_type": "stream",
     "text": [
      "[Parallel(n_jobs=1)]: Using backend SequentialBackend with 1 concurrent workers.\n",
      "[Parallel(n_jobs=1)]: Done 360 out of 360 | elapsed:  1.3min finished\n"
     ]
    },
    {
     "name": "stdout",
     "output_type": "stream",
     "text": [
      "Results:\n",
      "- Best params:  {'model__criterion': 'gini', 'model__max_depth': None, 'model__min_samples_split': 5, 'model__n_estimators': 100}\n",
      "- Best score:  0.935827630612701\n",
      "- Test data score:  0.9451585261353899\n"
     ]
    }
   ],
   "source": [
    "parameters = {'model__n_estimators':[50, 100, 200],                       # default is 100\n",
    "              'model__max_depth': [None, 3, 6, 9],                        # default is None\n",
    "              'model__criterion': ['gini', 'entropy'],                    # default is gini\n",
    "              'model__min_samples_split': [1.0, 3, 5]                     # default is 1\n",
    "             }\n",
    "grid_search_and_print_results(parameters, pipe, X_train, y_train, X_test, y_test)"
   ]
  },
  {
   "cell_type": "markdown",
   "id": "571a50ed",
   "metadata": {},
   "source": [
    "Results:\n",
    "- Did not outperform the best model, XGBoost.  "
   ]
  },
  {
   "cell_type": "markdown",
   "id": "0e48f910",
   "metadata": {
    "heading_collapsed": true
   },
   "source": [
    "#### Conclusion from Round 3\n",
    "- XGBoost was the model with the best accuracy on test data using gridsearching."
   ]
  },
  {
   "cell_type": "markdown",
   "id": "eea640fb",
   "metadata": {},
   "source": [
    "### Best Model"
   ]
  },
  {
   "cell_type": "markdown",
   "id": "0816d2e9",
   "metadata": {},
   "source": [
    "#### XGBoost (Best Hyperparameters from Gridsearch)"
   ]
  },
  {
   "cell_type": "code",
   "execution_count": 47,
   "id": "23aef54c",
   "metadata": {
    "ExecuteTime": {
     "end_time": "2023-01-09T04:10:46.197083Z",
     "start_time": "2023-01-09T04:10:45.175299Z"
    }
   },
   "outputs": [
    {
     "name": "stdout",
     "output_type": "stream",
     "text": [
      "Fitting 5 folds for each of 1 candidates, totalling 5 fits\n"
     ]
    },
    {
     "name": "stderr",
     "output_type": "stream",
     "text": [
      "[Parallel(n_jobs=1)]: Using backend SequentialBackend with 1 concurrent workers.\n"
     ]
    },
    {
     "name": "stdout",
     "output_type": "stream",
     "text": [
      "Results:\n",
      "- Best params:  {'model__learning_rate': 0.5, 'model__max_depth': 6, 'model__min_child_weight': 0, 'model__subsample': 1.0}\n",
      "- Best score:  0.9547588893264226\n",
      "- Test data score:  0.9562982005141388\n"
     ]
    },
    {
     "name": "stderr",
     "output_type": "stream",
     "text": [
      "[Parallel(n_jobs=1)]: Done   5 out of   5 | elapsed:    0.7s finished\n"
     ]
    }
   ],
   "source": [
    "# Transform y-train and y-test based using LabelEncoder\n",
    "# This is specific to XGBoost\n",
    "encoder = LabelEncoder()\n",
    "y_train_xgb = pd.Series(encoder.fit_transform(y_train))\n",
    "y_test_xgb = pd.Series(encoder.transform(y_test))\n",
    "\n",
    "model_name = \"XGBoost Classifier\"\n",
    "model = XGBClassifier(random_state=42)\n",
    "pipe = Pipeline([('ct',CT),\n",
    "                 ('model', model) \n",
    "])\n",
    "\n",
    "parameters = {'model__learning_rate':[.5],          \n",
    "              'model__max_depth': [6],                 \n",
    "              'model__min_child_weight': [0],        \n",
    "              'model__subsample': [1.0]}           \n",
    "              \n",
    "grid_search_and_print_results(parameters, pipe, X_train, y_train_xgb, X_test, y_test_xgb)"
   ]
  },
  {
   "cell_type": "markdown",
   "id": "1f666a9f",
   "metadata": {
    "ExecuteTime": {
     "end_time": "2023-01-05T06:08:23.164480Z",
     "start_time": "2023-01-05T06:08:23.157385Z"
    }
   },
   "source": [
    "## Evaluation / Results"
   ]
  },
  {
   "cell_type": "markdown",
   "id": "fc4b82e5",
   "metadata": {
    "ExecuteTime": {
     "end_time": "2023-01-09T02:23:07.061359Z",
     "start_time": "2023-01-09T02:23:07.053285Z"
    }
   },
   "source": [
    "**High churn groups**\n",
    "- Higher churn was identified in states like Maryland, New Jersey, and Texas.  It was also identified in customers with international plans and customers with 5 or more customer service calls.  Recommend SyriaTel looking into world drivers of these identified issues.\n",
    "\n",
    "**Classification model:**\n",
    "- XGBoost was the model with the best accuracy on unseen test data.  It performed with an accuracy of 96%.  It is recommended that SyriaTel implement this model in its active marketing strategy to prevent loss of customers.  "
   ]
  },
  {
   "cell_type": "markdown",
   "id": "4d8a2749",
   "metadata": {},
   "source": [
    "## Next Steps"
   ]
  },
  {
   "cell_type": "markdown",
   "id": "8803f424",
   "metadata": {},
   "source": [
    "- **More customer data:** We were able to create a model with 96% accuracy on limited data.  The more data that can be provided (data on more customers or additional data on each customer), it is possible we can improve the model's accuracy further.  \n",
    "\n",
    "\n",
    "- **Customer retention plan:** Once you know which customers are at risk of leaving, you should have a plan for what you will offer them to stay that both minimizes the cost of retention but also alleviates their risk of leaving.    "
   ]
  }
 ],
 "metadata": {
  "kernelspec": {
   "display_name": "Python 3",
   "language": "python",
   "name": "python3"
  },
  "language_info": {
   "codemirror_mode": {
    "name": "ipython",
    "version": 3
   },
   "file_extension": ".py",
   "mimetype": "text/x-python",
   "name": "python",
   "nbconvert_exporter": "python",
   "pygments_lexer": "ipython3",
   "version": "3.8.5"
  },
  "toc": {
   "base_numbering": 1,
   "nav_menu": {},
   "number_sections": true,
   "sideBar": true,
   "skip_h1_title": false,
   "title_cell": "Table of Contents",
   "title_sidebar": "Contents",
   "toc_cell": false,
   "toc_position": {
    "height": "calc(100% - 180px)",
    "left": "10px",
    "top": "150px",
    "width": "409.054px"
   },
   "toc_section_display": true,
   "toc_window_display": true
  },
  "varInspector": {
   "cols": {
    "lenName": 16,
    "lenType": 16,
    "lenVar": 40
   },
   "kernels_config": {
    "python": {
     "delete_cmd_postfix": "",
     "delete_cmd_prefix": "del ",
     "library": "var_list.py",
     "varRefreshCmd": "print(var_dic_list())"
    },
    "r": {
     "delete_cmd_postfix": ") ",
     "delete_cmd_prefix": "rm(",
     "library": "var_list.r",
     "varRefreshCmd": "cat(var_dic_list()) "
    }
   },
   "types_to_exclude": [
    "module",
    "function",
    "builtin_function_or_method",
    "instance",
    "_Feature"
   ],
   "window_display": false
  }
 },
 "nbformat": 4,
 "nbformat_minor": 5
}
